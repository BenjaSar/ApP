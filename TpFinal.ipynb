{
 "cells": [
  {
   "cell_type": "markdown",
   "metadata": {},
   "source": [
    "### Ejercicio"
   ]
  },
  {
   "cell_type": "markdown",
   "metadata": {},
   "source": [
    "Dada la siguiente función:\n",
    "\n",
    "$$\n",
    "f(x,y) = (1.5 - x + xy)^2 + (2.25-x+xy^2)^2 + (2.625 -x + xy^3)^2\n",
    "$$\n",
    "\n",
    "\n",
    "Encontrar el punto donde la función es mínima y el valor de dicho mínimo:\n",
    "\n",
    "a. Utilizando SGD y cálculo de gradiente con regla de la cadena.\n",
    "\n",
    "b. Utilizando SGD y pytorch."
   ]
  },
  {
   "cell_type": "markdown",
   "metadata": {},
   "source": [
    "### Ejercicio a"
   ]
  },
  {
   "cell_type": "code",
   "execution_count": 75,
   "metadata": {},
   "outputs": [],
   "source": [
    "# Import libraries\n",
    "from IPython.display import Image\n",
    "image_1a =Image(url=\"./imgs/exercise1a.jpeg\", width=500, height=500)\n",
    "image_1b =Image(url=\"./imgs/exercise1b.jpeg\", width=500, height=500)\n",
    "image_1c =Image(url=\"./imgs/exercise1c.jpeg\", width=500, height=500)\n",
    "forward =Image(url=\"./imgs/forward.jpeg\", width=400, height=300)\n",
    "backward = Image(url=\"./imgs/backward.jpeg\", width=500, height=500)\n",
    "updating = Image(url=\"./imgs/updating.jpeg\", width=400, height=300)"
   ]
  },
  {
   "cell_type": "code",
   "execution_count": 9,
   "metadata": {},
   "outputs": [
    {
     "data": {
      "text/html": [
       "<img src=\"./imgs/exercise1a.jpeg\" width=\"500\" height=\"500\"/>"
      ],
      "text/plain": [
       "<IPython.core.display.Image object>"
      ]
     },
     "execution_count": 9,
     "metadata": {},
     "output_type": "execute_result"
    }
   ],
   "source": [
    "# Parte 1a\n",
    "image_1a"
   ]
  },
  {
   "cell_type": "code",
   "execution_count": 10,
   "metadata": {},
   "outputs": [
    {
     "data": {
      "text/html": [
       "<img src=\"./imgs/exercise1b.jpeg\" width=\"500\" height=\"500\"/>"
      ],
      "text/plain": [
       "<IPython.core.display.Image object>"
      ]
     },
     "execution_count": 10,
     "metadata": {},
     "output_type": "execute_result"
    }
   ],
   "source": [
    "#Parte 1b\n",
    "image_1b"
   ]
  },
  {
   "cell_type": "code",
   "execution_count": 11,
   "metadata": {},
   "outputs": [
    {
     "data": {
      "text/html": [
       "<img src=\"./imgs/exercise1c.jpeg\" width=\"500\" height=\"500\"/>"
      ],
      "text/plain": [
       "<IPython.core.display.Image object>"
      ]
     },
     "execution_count": 11,
     "metadata": {},
     "output_type": "execute_result"
    }
   ],
   "source": [
    "# Calculate forward\n",
    "image_1c"
   ]
  },
  {
   "cell_type": "code",
   "execution_count": 72,
   "metadata": {},
   "outputs": [
    {
     "data": {
      "text/html": [
       "<img src=\"./imgs/forward.jpeg\" width=\"400\" height=\"300\"/>"
      ],
      "text/plain": [
       "<IPython.core.display.Image object>"
      ]
     },
     "execution_count": 72,
     "metadata": {},
     "output_type": "execute_result"
    }
   ],
   "source": [
    "# Forward\n",
    "forward"
   ]
  },
  {
   "cell_type": "code",
   "execution_count": 73,
   "metadata": {},
   "outputs": [
    {
     "data": {
      "text/html": [
       "<img src=\"./imgs/backward.jpeg\" width=\"500\" height=\"500\"/>"
      ],
      "text/plain": [
       "<IPython.core.display.Image object>"
      ]
     },
     "execution_count": 73,
     "metadata": {},
     "output_type": "execute_result"
    }
   ],
   "source": [
    "# Backward\n",
    "backward"
   ]
  },
  {
   "cell_type": "code",
   "execution_count": 76,
   "metadata": {},
   "outputs": [
    {
     "data": {
      "text/html": [
       "<img src=\"./imgs/updating.jpeg\" width=\"400\" height=\"300\"/>"
      ],
      "text/plain": [
       "<IPython.core.display.Image object>"
      ]
     },
     "execution_count": 76,
     "metadata": {},
     "output_type": "execute_result"
    }
   ],
   "source": [
    "# Updating\n",
    "updating"
   ]
  },
  {
   "cell_type": "markdown",
   "metadata": {},
   "source": [
    "### SGD y Pytorch"
   ]
  },
  {
   "cell_type": "code",
   "execution_count": 49,
   "metadata": {},
   "outputs": [],
   "source": [
    "# Import libraries\n",
    "import torch\n",
    "from torchviz import make_dot\n",
    "import torch.optim as optim\n",
    "import numpy as np"
   ]
  },
  {
   "cell_type": "code",
   "execution_count": 79,
   "metadata": {},
   "outputs": [
    {
     "name": "stdout",
     "output_type": "stream",
     "text": [
      "Gradient x: \n",
      " tensor([[-1.2285, -0.7784, -0.5438],\n",
      "        [-0.6871, -0.4361, -0.8862],\n",
      "        [-1.3406, -0.1830, -0.2183]])\n",
      "Gradient y: \n",
      " tensor([[9.7756e-02, 2.0055e-01, 9.9410e-01],\n",
      "        [9.3323e-01, 1.6466e+00, 2.5816e-01],\n",
      "        [1.8718e-03, 1.7162e+00, 2.0624e+00]])\n",
      "Gradient x: \n",
      " tensor([[-1.2284, -0.7784, -0.5440],\n",
      "        [-0.6871, -0.4363, -0.8862],\n",
      "        [-1.3405, -0.1835, -0.2188]])\n",
      "Gradient y: \n",
      " tensor([[9.7801e-02, 2.0067e-01, 9.9398e-01],\n",
      "        [9.3303e-01, 1.6461e+00, 2.5826e-01],\n",
      "        [1.9459e-03, 1.7156e+00, 2.0615e+00]])\n",
      "Gradient x: \n",
      " tensor([[-1.2283, -0.7785, -0.5442],\n",
      "        [-0.6871, -0.4366, -0.8862],\n",
      "        [-1.3404, -0.1839, -0.2192]])\n",
      "Gradient y: \n",
      " tensor([[9.7847e-02, 2.0079e-01, 9.9387e-01],\n",
      "        [9.3282e-01, 1.6455e+00, 2.5837e-01],\n",
      "        [2.0199e-03, 1.7150e+00, 2.0606e+00]])\n",
      "Gradient x: \n",
      " tensor([[-1.2283, -0.7785, -0.5443],\n",
      "        [-0.6871, -0.4369, -0.8862],\n",
      "        [-1.3403, -0.1843, -0.2197]])\n",
      "Gradient y: \n",
      " tensor([[0.0979, 0.2009, 0.9938],\n",
      "        [0.9326, 1.6450, 0.2585],\n",
      "        [0.0021, 1.7144, 2.0597]])\n",
      "Gradient x: \n",
      " tensor([[-1.2282, -0.7785, -0.5445],\n",
      "        [-0.6872, -0.4372, -0.8862],\n",
      "        [-1.3402, -0.1848, -0.2202]])\n",
      "Gradient y: \n",
      " tensor([[0.0979, 0.2010, 0.9936],\n",
      "        [0.9324, 1.6444, 0.2586],\n",
      "        [0.0022, 1.7139, 2.0588]])\n",
      "Gradient x: \n",
      " tensor([[-1.2281, -0.7785, -0.5447],\n",
      "        [-0.6872, -0.4374, -0.8862],\n",
      "        [-1.3402, -0.1852, -0.2207]])\n",
      "Gradient y: \n",
      " tensor([[0.0980, 0.2012, 0.9935],\n",
      "        [0.9322, 1.6438, 0.2587],\n",
      "        [0.0022, 1.7133, 2.0578]])\n",
      "Gradient x: \n",
      " tensor([[-1.2281, -0.7785, -0.5448],\n",
      "        [-0.6872, -0.4377, -0.8863],\n",
      "        [-1.3401, -0.1857, -0.2212]])\n",
      "Gradient y: \n",
      " tensor([[0.0980, 0.2013, 0.9934],\n",
      "        [0.9320, 1.6433, 0.2588],\n",
      "        [0.0023, 1.7127, 2.0569]])\n",
      "Gradient x: \n",
      " tensor([[-1.2280, -0.7786, -0.5450],\n",
      "        [-0.6872, -0.4380, -0.8863],\n",
      "        [-1.3400, -0.1861, -0.2217]])\n",
      "Gradient y: \n",
      " tensor([[0.0981, 0.2014, 0.9933],\n",
      "        [0.9318, 1.6427, 0.2589],\n",
      "        [0.0024, 1.7121, 2.0560]])\n",
      "Gradient x: \n",
      " tensor([[-1.2279, -0.7786, -0.5451],\n",
      "        [-0.6873, -0.4383, -0.8863],\n",
      "        [-1.3399, -0.1865, -0.2222]])\n",
      "Gradient y: \n",
      " tensor([[0.0981, 0.2015, 0.9932],\n",
      "        [0.9316, 1.6422, 0.2590],\n",
      "        [0.0025, 1.7116, 2.0551]])\n",
      "Gradient x: \n",
      " tensor([[-1.2279, -0.7786, -0.5453],\n",
      "        [-0.6873, -0.4385, -0.8863],\n",
      "        [-1.3399, -0.1870, -0.2227]])\n",
      "Gradient y: \n",
      " tensor([[0.0982, 0.2016, 0.9931],\n",
      "        [0.9314, 1.6416, 0.2591],\n",
      "        [0.0025, 1.7110, 2.0542]])\n",
      "Gradient x: \n",
      " tensor([[-1.2278, -0.7786, -0.5455],\n",
      "        [-0.6873, -0.4388, -0.8863],\n",
      "        [-1.3398, -0.1874, -0.2232]])\n",
      "Gradient y: \n",
      " tensor([[0.0982, 0.2018, 0.9929],\n",
      "        [0.9312, 1.6410, 0.2592],\n",
      "        [0.0026, 1.7104, 2.0533]])\n",
      "Gradient x: \n",
      " tensor([[-1.2277, -0.7786, -0.5456],\n",
      "        [-0.6873, -0.4391, -0.8863],\n",
      "        [-1.3397, -0.1879, -0.2237]])\n",
      "Gradient y: \n",
      " tensor([[0.0983, 0.2019, 0.9928],\n",
      "        [0.9310, 1.6405, 0.2593],\n",
      "        [0.0027, 1.7098, 2.0524]])\n",
      "Gradient x: \n",
      " tensor([[-1.2276, -0.7786, -0.5458],\n",
      "        [-0.6874, -0.4393, -0.8863],\n",
      "        [-1.3396, -0.1883, -0.2242]])\n",
      "Gradient y: \n",
      " tensor([[0.0983, 0.2020, 0.9927],\n",
      "        [0.9308, 1.6399, 0.2594],\n",
      "        [0.0028, 1.7093, 2.0514]])\n",
      "Gradient x: \n",
      " tensor([[-1.2276, -0.7787, -0.5460],\n",
      "        [-0.6874, -0.4396, -0.8863],\n",
      "        [-1.3395, -0.1887, -0.2247]])\n",
      "Gradient y: \n",
      " tensor([[0.0983, 0.2021, 0.9926],\n",
      "        [0.9306, 1.6394, 0.2595],\n",
      "        [0.0028, 1.7087, 2.0505]])\n",
      "Gradient x: \n",
      " tensor([[-1.2275, -0.7787, -0.5461],\n",
      "        [-0.6874, -0.4399, -0.8863],\n",
      "        [-1.3395, -0.1892, -0.2251]])\n",
      "Gradient y: \n",
      " tensor([[0.0984, 0.2023, 0.9925],\n",
      "        [0.9304, 1.6388, 0.2596],\n",
      "        [0.0029, 1.7081, 2.0496]])\n",
      "Gradient x: \n",
      " tensor([[-1.2274, -0.7787, -0.5463],\n",
      "        [-0.6874, -0.4402, -0.8863],\n",
      "        [-1.3394, -0.1896, -0.2256]])\n",
      "Gradient y: \n",
      " tensor([[0.0984, 0.2024, 0.9924],\n",
      "        [0.9302, 1.6382, 0.2597],\n",
      "        [0.0030, 1.7075, 2.0487]])\n",
      "Gradient x: \n",
      " tensor([[-1.2274, -0.7787, -0.5464],\n",
      "        [-0.6875, -0.4404, -0.8864],\n",
      "        [-1.3393, -0.1900, -0.2261]])\n",
      "Gradient y: \n",
      " tensor([[0.0985, 0.2025, 0.9923],\n",
      "        [0.9299, 1.6377, 0.2598],\n",
      "        [0.0031, 1.7070, 2.0478]])\n",
      "Gradient x: \n",
      " tensor([[-1.2273, -0.7787, -0.5466],\n",
      "        [-0.6875, -0.4407, -0.8864],\n",
      "        [-1.3392, -0.1905, -0.2266]])\n",
      "Gradient y: \n",
      " tensor([[0.0985, 0.2026, 0.9921],\n",
      "        [0.9297, 1.6371, 0.2599],\n",
      "        [0.0031, 1.7064, 2.0469]])\n",
      "Gradient x: \n",
      " tensor([[-1.2272, -0.7787, -0.5468],\n",
      "        [-0.6875, -0.4410, -0.8864],\n",
      "        [-1.3392, -0.1909, -0.2271]])\n",
      "Gradient y: \n",
      " tensor([[0.0986, 0.2027, 0.9920],\n",
      "        [0.9295, 1.6366, 0.2601],\n",
      "        [0.0032, 1.7058, 2.0460]])\n",
      "Gradient x: \n",
      " tensor([[-1.2272, -0.7788, -0.5469],\n",
      "        [-0.6875, -0.4412, -0.8864],\n",
      "        [-1.3391, -0.1914, -0.2276]])\n",
      "Gradient y: \n",
      " tensor([[0.0986, 0.2029, 0.9919],\n",
      "        [0.9293, 1.6360, 0.2602],\n",
      "        [0.0033, 1.7053, 2.0451]])\n",
      "Gradient x: \n",
      " tensor([[-1.2271, -0.7788, -0.5471],\n",
      "        [-0.6876, -0.4415, -0.8864],\n",
      "        [-1.3390, -0.1918, -0.2281]])\n",
      "Gradient y: \n",
      " tensor([[0.0987, 0.2030, 0.9918],\n",
      "        [0.9291, 1.6355, 0.2603],\n",
      "        [0.0034, 1.7047, 2.0442]])\n",
      "Gradient x: \n",
      " tensor([[-1.2270, -0.7788, -0.5473],\n",
      "        [-0.6876, -0.4418, -0.8864],\n",
      "        [-1.3389, -0.1922, -0.2286]])\n",
      "Gradient y: \n",
      " tensor([[0.0987, 0.2031, 0.9917],\n",
      "        [0.9289, 1.6349, 0.2604],\n",
      "        [0.0034, 1.7041, 2.0433]])\n",
      "Gradient x: \n",
      " tensor([[-1.2269, -0.7788, -0.5474],\n",
      "        [-0.6876, -0.4421, -0.8864],\n",
      "        [-1.3388, -0.1927, -0.2290]])\n",
      "Gradient y: \n",
      " tensor([[0.0987, 0.2032, 0.9916],\n",
      "        [0.9287, 1.6344, 0.2605],\n",
      "        [0.0035, 1.7036, 2.0424]])\n",
      "Gradient x: \n",
      " tensor([[-1.2269, -0.7788, -0.5476],\n",
      "        [-0.6876, -0.4423, -0.8864],\n",
      "        [-1.3388, -0.1931, -0.2295]])\n",
      "Gradient y: \n",
      " tensor([[0.0988, 0.2033, 0.9915],\n",
      "        [0.9285, 1.6338, 0.2606],\n",
      "        [0.0036, 1.7030, 2.0415]])\n",
      "Gradient x: \n",
      " tensor([[-1.2268, -0.7789, -0.5477],\n",
      "        [-0.6877, -0.4426, -0.8864],\n",
      "        [-1.3387, -0.1935, -0.2300]])\n",
      "Gradient y: \n",
      " tensor([[0.0988, 0.2035, 0.9913],\n",
      "        [0.9283, 1.6332, 0.2607],\n",
      "        [0.0036, 1.7024, 2.0406]])\n",
      "Gradient x: \n",
      " tensor([[-1.2267, -0.7789, -0.5479],\n",
      "        [-0.6877, -0.4429, -0.8865],\n",
      "        [-1.3386, -0.1940, -0.2305]])\n",
      "Gradient y: \n",
      " tensor([[0.0989, 0.2036, 0.9912],\n",
      "        [0.9281, 1.6327, 0.2608],\n",
      "        [0.0037, 1.7019, 2.0397]])\n",
      "Gradient x: \n",
      " tensor([[-1.2267, -0.7789, -0.5481],\n",
      "        [-0.6877, -0.4431, -0.8865],\n",
      "        [-1.3385, -0.1944, -0.2310]])\n",
      "Gradient y: \n",
      " tensor([[0.0989, 0.2037, 0.9911],\n",
      "        [0.9279, 1.6321, 0.2609],\n",
      "        [0.0038, 1.7013, 2.0388]])\n",
      "Gradient x: \n",
      " tensor([[-1.2266, -0.7789, -0.5482],\n",
      "        [-0.6877, -0.4434, -0.8865],\n",
      "        [-1.3385, -0.1948, -0.2314]])\n",
      "Gradient y: \n",
      " tensor([[0.0990, 0.2038, 0.9910],\n",
      "        [0.9277, 1.6316, 0.2610],\n",
      "        [0.0039, 1.7007, 2.0379]])\n",
      "Gradient x: \n",
      " tensor([[-1.2265, -0.7789, -0.5484],\n",
      "        [-0.6878, -0.4437, -0.8865],\n",
      "        [-1.3384, -0.1953, -0.2319]])\n",
      "Gradient y: \n",
      " tensor([[0.0990, 0.2040, 0.9909],\n",
      "        [0.9275, 1.6310, 0.2611],\n",
      "        [0.0039, 1.7002, 2.0370]])\n",
      "Gradient x: \n",
      " tensor([[-1.2265, -0.7789, -0.5485],\n",
      "        [-0.6878, -0.4439, -0.8865],\n",
      "        [-1.3383, -0.1957, -0.2324]])\n",
      "Gradient y: \n",
      " tensor([[0.0991, 0.2041, 0.9908],\n",
      "        [0.9273, 1.6305, 0.2612],\n",
      "        [0.0040, 1.6996, 2.0361]])\n",
      "Gradient x: \n",
      " tensor([[-1.2264, -0.7790, -0.5487],\n",
      "        [-0.6878, -0.4442, -0.8865],\n",
      "        [-1.3382, -0.1961, -0.2329]])\n",
      "Gradient y: \n",
      " tensor([[0.0991, 0.2042, 0.9906],\n",
      "        [0.9271, 1.6299, 0.2613],\n",
      "        [0.0041, 1.6990, 2.0352]])\n",
      "Gradient x: \n",
      " tensor([[-1.2263, -0.7790, -0.5489],\n",
      "        [-0.6878, -0.4445, -0.8865],\n",
      "        [-1.3381, -0.1966, -0.2334]])\n",
      "Gradient y: \n",
      " tensor([[0.0991, 0.2043, 0.9905],\n",
      "        [0.9269, 1.6294, 0.2614],\n",
      "        [0.0042, 1.6985, 2.0343]])\n",
      "Gradient x: \n",
      " tensor([[-1.2263, -0.7790, -0.5490],\n",
      "        [-0.6878, -0.4447, -0.8865],\n",
      "        [-1.3381, -0.1970, -0.2338]])\n",
      "Gradient y: \n",
      " tensor([[0.0992, 0.2044, 0.9904],\n",
      "        [0.9267, 1.6288, 0.2615],\n",
      "        [0.0042, 1.6979, 2.0334]])\n",
      "Gradient x: \n",
      " tensor([[-1.2262, -0.7790, -0.5492],\n",
      "        [-0.6879, -0.4450, -0.8865],\n",
      "        [-1.3380, -0.1974, -0.2343]])\n",
      "Gradient y: \n",
      " tensor([[0.0992, 0.2046, 0.9903],\n",
      "        [0.9265, 1.6283, 0.2616],\n",
      "        [0.0043, 1.6973, 2.0325]])\n",
      "Gradient x: \n",
      " tensor([[-1.2261, -0.7790, -0.5493],\n",
      "        [-0.6879, -0.4453, -0.8865],\n",
      "        [-1.3379, -0.1978, -0.2348]])\n",
      "Gradient y: \n",
      " tensor([[0.0993, 0.2047, 0.9902],\n",
      "        [0.9263, 1.6277, 0.2617],\n",
      "        [0.0044, 1.6968, 2.0316]])\n",
      "Gradient x: \n",
      " tensor([[-1.2260, -0.7790, -0.5495],\n",
      "        [-0.6879, -0.4455, -0.8866],\n",
      "        [-1.3378, -0.1983, -0.2353]])\n",
      "Gradient y: \n",
      " tensor([[0.0993, 0.2048, 0.9901],\n",
      "        [0.9261, 1.6272, 0.2618],\n",
      "        [0.0045, 1.6962, 2.0308]])\n",
      "Gradient x: \n",
      " tensor([[-1.2260, -0.7791, -0.5497],\n",
      "        [-0.6879, -0.4458, -0.8866],\n",
      "        [-1.3378, -0.1987, -0.2358]])\n",
      "Gradient y: \n",
      " tensor([[0.0994, 0.2049, 0.9900],\n",
      "        [0.9259, 1.6266, 0.2619],\n",
      "        [0.0045, 1.6957, 2.0299]])\n",
      "Gradient x: \n",
      " tensor([[-1.2259, -0.7791, -0.5498],\n",
      "        [-0.6880, -0.4461, -0.8866],\n",
      "        [-1.3377, -0.1991, -0.2362]])\n",
      "Gradient y: \n",
      " tensor([[0.0994, 0.2050, 0.9898],\n",
      "        [0.9257, 1.6261, 0.2621],\n",
      "        [0.0046, 1.6951, 2.0290]])\n",
      "Gradient x: \n",
      " tensor([[-1.2258, -0.7791, -0.5500],\n",
      "        [-0.6880, -0.4463, -0.8866],\n",
      "        [-1.3376, -0.1996, -0.2367]])\n",
      "Gradient y: \n",
      " tensor([[0.0995, 0.2052, 0.9897],\n",
      "        [0.9255, 1.6255, 0.2622],\n",
      "        [0.0047, 1.6945, 2.0281]])\n",
      "Gradient x: \n",
      " tensor([[-1.2258, -0.7791, -0.5502],\n",
      "        [-0.6880, -0.4466, -0.8866],\n",
      "        [-1.3375, -0.2000, -0.2372]])\n",
      "Gradient y: \n",
      " tensor([[0.0995, 0.2053, 0.9896],\n",
      "        [0.9253, 1.6250, 0.2623],\n",
      "        [0.0047, 1.6940, 2.0272]])\n",
      "Gradient x: \n",
      " tensor([[-1.2257, -0.7791, -0.5503],\n",
      "        [-0.6880, -0.4469, -0.8866],\n",
      "        [-1.3374, -0.2004, -0.2377]])\n",
      "Gradient y: \n",
      " tensor([[0.0996, 0.2054, 0.9895],\n",
      "        [0.9250, 1.6244, 0.2624],\n",
      "        [0.0048, 1.6934, 2.0263]])\n",
      "Gradient x: \n",
      " tensor([[-1.2256, -0.7792, -0.5505],\n",
      "        [-0.6881, -0.4471, -0.8866],\n",
      "        [-1.3374, -0.2009, -0.2381]])\n",
      "Gradient y: \n",
      " tensor([[0.0996, 0.2055, 0.9894],\n",
      "        [0.9248, 1.6239, 0.2625],\n",
      "        [0.0049, 1.6929, 2.0254]])\n",
      "Gradient x: \n",
      " tensor([[-1.2256, -0.7792, -0.5506],\n",
      "        [-0.6881, -0.4474, -0.8866],\n",
      "        [-1.3373, -0.2013, -0.2386]])\n",
      "Gradient y: \n",
      " tensor([[0.0996, 0.2057, 0.9893],\n",
      "        [0.9246, 1.6233, 0.2626],\n",
      "        [0.0050, 1.6923, 2.0245]])\n",
      "Gradient x: \n",
      " tensor([[-1.2255, -0.7792, -0.5508],\n",
      "        [-0.6881, -0.4477, -0.8866],\n",
      "        [-1.3372, -0.2017, -0.2391]])\n",
      "Gradient y: \n",
      " tensor([[0.0997, 0.2058, 0.9892],\n",
      "        [0.9244, 1.6228, 0.2627],\n",
      "        [0.0050, 1.6917, 2.0237]])\n",
      "Gradient x: \n",
      " tensor([[-1.2254, -0.7792, -0.5510],\n",
      "        [-0.6881, -0.4479, -0.8866],\n",
      "        [-1.3371, -0.2021, -0.2396]])\n",
      "Gradient y: \n",
      " tensor([[0.0997, 0.2059, 0.9890],\n",
      "        [0.9242, 1.6223, 0.2628],\n",
      "        [0.0051, 1.6912, 2.0228]])\n",
      "Gradient x: \n",
      " tensor([[-1.2253, -0.7792, -0.5511],\n",
      "        [-0.6882, -0.4482, -0.8867],\n",
      "        [-1.3371, -0.2026, -0.2400]])\n",
      "Gradient y: \n",
      " tensor([[0.0998, 0.2060, 0.9889],\n",
      "        [0.9240, 1.6217, 0.2629],\n",
      "        [0.0052, 1.6906, 2.0219]])\n",
      "Gradient x: \n",
      " tensor([[-1.2253, -0.7792, -0.5513],\n",
      "        [-0.6882, -0.4485, -0.8867],\n",
      "        [-1.3370, -0.2030, -0.2405]])\n",
      "Gradient y: \n",
      " tensor([[0.0998, 0.2061, 0.9888],\n",
      "        [0.9238, 1.6212, 0.2630],\n",
      "        [0.0053, 1.6901, 2.0210]])\n",
      "Gradient x: \n",
      " tensor([[-1.2252, -0.7793, -0.5514],\n",
      "        [-0.6882, -0.4487, -0.8867],\n",
      "        [-1.3369, -0.2034, -0.2410]])\n",
      "Gradient y: \n",
      " tensor([[0.0999, 0.2063, 0.9887],\n",
      "        [0.9236, 1.6206, 0.2631],\n",
      "        [0.0053, 1.6895, 2.0201]])\n",
      "Gradient x: \n",
      " tensor([[-1.2251, -0.7793, -0.5516],\n",
      "        [-0.6882, -0.4490, -0.8867],\n",
      "        [-1.3368, -0.2038, -0.2414]])\n",
      "Gradient y: \n",
      " tensor([[0.0999, 0.2064, 0.9886],\n",
      "        [0.9234, 1.6201, 0.2632],\n",
      "        [0.0054, 1.6890, 2.0193]])\n",
      "Gradient x: \n",
      " tensor([[-1.2251, -0.7793, -0.5518],\n",
      "        [-0.6883, -0.4492, -0.8867],\n",
      "        [-1.3367, -0.2043, -0.2419]])\n",
      "Gradient y: \n",
      " tensor([[0.1000, 0.2065, 0.9885],\n",
      "        [0.9232, 1.6195, 0.2633],\n",
      "        [0.0055, 1.6884, 2.0184]])\n"
     ]
    },
    {
     "data": {
      "image/svg+xml": [
       "<?xml version=\"1.0\" encoding=\"UTF-8\" standalone=\"no\"?>\n",
       "<!DOCTYPE svg PUBLIC \"-//W3C//DTD SVG 1.1//EN\"\n",
       " \"http://www.w3.org/Graphics/SVG/1.1/DTD/svg11.dtd\">\n",
       "<!-- Generated by graphviz version 2.50.0 (0)\n",
       " -->\n",
       "<!-- Pages: 1 -->\n",
       "<svg width=\"650pt\" height=\"558pt\"\n",
       " viewBox=\"0.00 0.00 650.00 558.00\" xmlns=\"http://www.w3.org/2000/svg\" xmlns:xlink=\"http://www.w3.org/1999/xlink\">\n",
       "<g id=\"graph0\" class=\"graph\" transform=\"scale(1 1) rotate(0) translate(4 554)\">\n",
       "<polygon fill=\"white\" stroke=\"transparent\" points=\"-4,4 -4,-554 646,-554 646,4 -4,4\"/>\n",
       "<!-- 2183384995136 -->\n",
       "<g id=\"node1\" class=\"node\">\n",
       "<title>2183384995136</title>\n",
       "<polygon fill=\"#caff70\" stroke=\"black\" points=\"361.5,-31 307.5,-31 307.5,0 361.5,0 361.5,-31\"/>\n",
       "<text text-anchor=\"middle\" x=\"334.5\" y=\"-7\" font-family=\"monospace\" font-size=\"10.00\"> ()</text>\n",
       "</g>\n",
       "<!-- 2183386867376 -->\n",
       "<g id=\"node2\" class=\"node\">\n",
       "<title>2183386867376</title>\n",
       "<polygon fill=\"lightgrey\" stroke=\"black\" points=\"382,-86 287,-86 287,-67 382,-67 382,-86\"/>\n",
       "<text text-anchor=\"middle\" x=\"334.5\" y=\"-74\" font-family=\"monospace\" font-size=\"10.00\">MeanBackward0</text>\n",
       "</g>\n",
       "<!-- 2183386867376&#45;&gt;2183384995136 -->\n",
       "<g id=\"edge28\" class=\"edge\">\n",
       "<title>2183386867376&#45;&gt;2183384995136</title>\n",
       "<path fill=\"none\" stroke=\"black\" d=\"M334.5,-66.79C334.5,-60.07 334.5,-50.4 334.5,-41.34\"/>\n",
       "<polygon fill=\"black\" stroke=\"black\" points=\"338,-41.19 334.5,-31.19 331,-41.19 338,-41.19\"/>\n",
       "</g>\n",
       "<!-- 2183386873808 -->\n",
       "<g id=\"node3\" class=\"node\">\n",
       "<title>2183386873808</title>\n",
       "<polygon fill=\"lightgrey\" stroke=\"black\" points=\"379,-141 290,-141 290,-122 379,-122 379,-141\"/>\n",
       "<text text-anchor=\"middle\" x=\"334.5\" y=\"-129\" font-family=\"monospace\" font-size=\"10.00\">AddBackward0</text>\n",
       "</g>\n",
       "<!-- 2183386873808&#45;&gt;2183386867376 -->\n",
       "<g id=\"edge1\" class=\"edge\">\n",
       "<title>2183386873808&#45;&gt;2183386867376</title>\n",
       "<path fill=\"none\" stroke=\"black\" d=\"M334.5,-121.75C334.5,-114.8 334.5,-104.85 334.5,-96.13\"/>\n",
       "<polygon fill=\"black\" stroke=\"black\" points=\"338,-96.09 334.5,-86.09 331,-96.09 338,-96.09\"/>\n",
       "</g>\n",
       "<!-- 2183386859072 -->\n",
       "<g id=\"node4\" class=\"node\">\n",
       "<title>2183386859072</title>\n",
       "<polygon fill=\"lightgrey\" stroke=\"black\" points=\"326,-196 237,-196 237,-177 326,-177 326,-196\"/>\n",
       "<text text-anchor=\"middle\" x=\"281.5\" y=\"-184\" font-family=\"monospace\" font-size=\"10.00\">AddBackward0</text>\n",
       "</g>\n",
       "<!-- 2183386859072&#45;&gt;2183386873808 -->\n",
       "<g id=\"edge2\" class=\"edge\">\n",
       "<title>2183386859072&#45;&gt;2183386873808</title>\n",
       "<path fill=\"none\" stroke=\"black\" d=\"M290.25,-176.75C297.97,-169.03 309.4,-157.6 318.72,-148.28\"/>\n",
       "<polygon fill=\"black\" stroke=\"black\" points=\"321.31,-150.64 325.91,-141.09 316.36,-145.69 321.31,-150.64\"/>\n",
       "</g>\n",
       "<!-- 2183386858256 -->\n",
       "<g id=\"node5\" class=\"node\">\n",
       "<title>2183386858256</title>\n",
       "<polygon fill=\"lightgrey\" stroke=\"black\" points=\"326,-251 237,-251 237,-232 326,-232 326,-251\"/>\n",
       "<text text-anchor=\"middle\" x=\"281.5\" y=\"-239\" font-family=\"monospace\" font-size=\"10.00\">PowBackward0</text>\n",
       "</g>\n",
       "<!-- 2183386858256&#45;&gt;2183386859072 -->\n",
       "<g id=\"edge3\" class=\"edge\">\n",
       "<title>2183386858256&#45;&gt;2183386859072</title>\n",
       "<path fill=\"none\" stroke=\"black\" d=\"M281.5,-231.75C281.5,-224.8 281.5,-214.85 281.5,-206.13\"/>\n",
       "<polygon fill=\"black\" stroke=\"black\" points=\"285,-206.09 281.5,-196.09 278,-206.09 285,-206.09\"/>\n",
       "</g>\n",
       "<!-- 2183386863584 -->\n",
       "<g id=\"node6\" class=\"node\">\n",
       "<title>2183386863584</title>\n",
       "<polygon fill=\"lightgrey\" stroke=\"black\" points=\"326,-306 237,-306 237,-287 326,-287 326,-306\"/>\n",
       "<text text-anchor=\"middle\" x=\"281.5\" y=\"-294\" font-family=\"monospace\" font-size=\"10.00\">AddBackward0</text>\n",
       "</g>\n",
       "<!-- 2183386863584&#45;&gt;2183386858256 -->\n",
       "<g id=\"edge4\" class=\"edge\">\n",
       "<title>2183386863584&#45;&gt;2183386858256</title>\n",
       "<path fill=\"none\" stroke=\"black\" d=\"M281.5,-286.75C281.5,-279.8 281.5,-269.85 281.5,-261.13\"/>\n",
       "<polygon fill=\"black\" stroke=\"black\" points=\"285,-261.09 281.5,-251.09 278,-261.09 285,-261.09\"/>\n",
       "</g>\n",
       "<!-- 2183386858496 -->\n",
       "<g id=\"node7\" class=\"node\">\n",
       "<title>2183386858496</title>\n",
       "<polygon fill=\"lightgrey\" stroke=\"black\" points=\"315,-361 220,-361 220,-342 315,-342 315,-361\"/>\n",
       "<text text-anchor=\"middle\" x=\"267.5\" y=\"-349\" font-family=\"monospace\" font-size=\"10.00\">RsubBackward1</text>\n",
       "</g>\n",
       "<!-- 2183386858496&#45;&gt;2183386863584 -->\n",
       "<g id=\"edge5\" class=\"edge\">\n",
       "<title>2183386858496&#45;&gt;2183386863584</title>\n",
       "<path fill=\"none\" stroke=\"black\" d=\"M269.81,-341.75C271.67,-334.72 274.34,-324.62 276.65,-315.84\"/>\n",
       "<polygon fill=\"black\" stroke=\"black\" points=\"280.06,-316.65 279.23,-306.09 273.29,-314.86 280.06,-316.65\"/>\n",
       "</g>\n",
       "<!-- 2183386863488 -->\n",
       "<g id=\"node8\" class=\"node\">\n",
       "<title>2183386863488</title>\n",
       "<polygon fill=\"lightgrey\" stroke=\"black\" points=\"324,-416 223,-416 223,-397 324,-397 324,-416\"/>\n",
       "<text text-anchor=\"middle\" x=\"273.5\" y=\"-404\" font-family=\"monospace\" font-size=\"10.00\">AccumulateGrad</text>\n",
       "</g>\n",
       "<!-- 2183386863488&#45;&gt;2183386858496 -->\n",
       "<g id=\"edge6\" class=\"edge\">\n",
       "<title>2183386863488&#45;&gt;2183386858496</title>\n",
       "<path fill=\"none\" stroke=\"black\" d=\"M272.51,-396.75C271.72,-389.8 270.6,-379.85 269.61,-371.13\"/>\n",
       "<polygon fill=\"black\" stroke=\"black\" points=\"273.08,-370.63 268.47,-361.09 266.12,-371.42 273.08,-370.63\"/>\n",
       "</g>\n",
       "<!-- 2183386864832 -->\n",
       "<g id=\"node10\" class=\"node\">\n",
       "<title>2183386864832</title>\n",
       "<polygon fill=\"lightgrey\" stroke=\"black\" points=\"422,-361 333,-361 333,-342 422,-342 422,-361\"/>\n",
       "<text text-anchor=\"middle\" x=\"377.5\" y=\"-349\" font-family=\"monospace\" font-size=\"10.00\">MulBackward0</text>\n",
       "</g>\n",
       "<!-- 2183386863488&#45;&gt;2183386864832 -->\n",
       "<g id=\"edge9\" class=\"edge\">\n",
       "<title>2183386863488&#45;&gt;2183386864832</title>\n",
       "<path fill=\"none\" stroke=\"black\" d=\"M290.21,-396.98C306.71,-388.57 332.2,-375.59 351.38,-365.81\"/>\n",
       "<polygon fill=\"black\" stroke=\"black\" points=\"353.17,-368.83 360.49,-361.17 349.99,-362.59 353.17,-368.83\"/>\n",
       "</g>\n",
       "<!-- 2183386863920 -->\n",
       "<g id=\"node15\" class=\"node\">\n",
       "<title>2183386863920</title>\n",
       "<polygon fill=\"lightgrey\" stroke=\"black\" points=\"202,-361 107,-361 107,-342 202,-342 202,-361\"/>\n",
       "<text text-anchor=\"middle\" x=\"154.5\" y=\"-349\" font-family=\"monospace\" font-size=\"10.00\">RsubBackward1</text>\n",
       "</g>\n",
       "<!-- 2183386863488&#45;&gt;2183386863920 -->\n",
       "<g id=\"edge15\" class=\"edge\">\n",
       "<title>2183386863488&#45;&gt;2183386863920</title>\n",
       "<path fill=\"none\" stroke=\"black\" d=\"M254.38,-396.98C235.15,-388.42 205.27,-375.11 183.19,-365.28\"/>\n",
       "<polygon fill=\"black\" stroke=\"black\" points=\"184.53,-362.04 173.97,-361.17 181.68,-368.44 184.53,-362.04\"/>\n",
       "</g>\n",
       "<!-- 2183386857872 -->\n",
       "<g id=\"node16\" class=\"node\">\n",
       "<title>2183386857872</title>\n",
       "<polygon fill=\"lightgrey\" stroke=\"black\" points=\"89,-361 0,-361 0,-342 89,-342 89,-361\"/>\n",
       "<text text-anchor=\"middle\" x=\"44.5\" y=\"-349\" font-family=\"monospace\" font-size=\"10.00\">MulBackward0</text>\n",
       "</g>\n",
       "<!-- 2183386863488&#45;&gt;2183386857872 -->\n",
       "<g id=\"edge17\" class=\"edge\">\n",
       "<title>2183386863488&#45;&gt;2183386857872</title>\n",
       "<path fill=\"none\" stroke=\"black\" d=\"M236.71,-396.98C197.26,-387.86 134.52,-373.33 91.52,-363.38\"/>\n",
       "<polygon fill=\"black\" stroke=\"black\" points=\"92.11,-359.93 81.58,-361.08 90.53,-366.75 92.11,-359.93\"/>\n",
       "</g>\n",
       "<!-- 2183386873472 -->\n",
       "<g id=\"node20\" class=\"node\">\n",
       "<title>2183386873472</title>\n",
       "<polygon fill=\"lightgrey\" stroke=\"black\" points=\"535,-361 440,-361 440,-342 535,-342 535,-361\"/>\n",
       "<text text-anchor=\"middle\" x=\"487.5\" y=\"-349\" font-family=\"monospace\" font-size=\"10.00\">RsubBackward1</text>\n",
       "</g>\n",
       "<!-- 2183386863488&#45;&gt;2183386873472 -->\n",
       "<g id=\"edge23\" class=\"edge\">\n",
       "<title>2183386863488&#45;&gt;2183386873472</title>\n",
       "<path fill=\"none\" stroke=\"black\" d=\"M307.88,-396.98C344.59,-387.89 402.88,-373.46 443.05,-363.51\"/>\n",
       "<polygon fill=\"black\" stroke=\"black\" points=\"443.98,-366.88 452.85,-361.08 442.3,-360.09 443.98,-366.88\"/>\n",
       "</g>\n",
       "<!-- 2183386860416 -->\n",
       "<g id=\"node21\" class=\"node\">\n",
       "<title>2183386860416</title>\n",
       "<polygon fill=\"lightgrey\" stroke=\"black\" points=\"642,-361 553,-361 553,-342 642,-342 642,-361\"/>\n",
       "<text text-anchor=\"middle\" x=\"597.5\" y=\"-349\" font-family=\"monospace\" font-size=\"10.00\">MulBackward0</text>\n",
       "</g>\n",
       "<!-- 2183386863488&#45;&gt;2183386860416 -->\n",
       "<g id=\"edge25\" class=\"edge\">\n",
       "<title>2183386863488&#45;&gt;2183386860416</title>\n",
       "<path fill=\"none\" stroke=\"black\" d=\"M324.13,-397.22C383.52,-387.5 481.61,-371.46 542.74,-361.46\"/>\n",
       "<polygon fill=\"black\" stroke=\"black\" points=\"543.66,-364.85 552.96,-359.79 542.53,-357.95 543.66,-364.85\"/>\n",
       "</g>\n",
       "<!-- 2183384950224 -->\n",
       "<g id=\"node9\" class=\"node\">\n",
       "<title>2183384950224</title>\n",
       "<polygon fill=\"lightblue\" stroke=\"black\" points=\"303,-483 244,-483 244,-452 303,-452 303,-483\"/>\n",
       "<text text-anchor=\"middle\" x=\"273.5\" y=\"-459\" font-family=\"monospace\" font-size=\"10.00\"> (3, 3)</text>\n",
       "</g>\n",
       "<!-- 2183384950224&#45;&gt;2183386863488 -->\n",
       "<g id=\"edge7\" class=\"edge\">\n",
       "<title>2183384950224&#45;&gt;2183386863488</title>\n",
       "<path fill=\"none\" stroke=\"black\" d=\"M273.5,-451.92C273.5,-444.22 273.5,-434.69 273.5,-426.43\"/>\n",
       "<polygon fill=\"black\" stroke=\"black\" points=\"277,-426.25 273.5,-416.25 270,-426.25 277,-426.25\"/>\n",
       "</g>\n",
       "<!-- 2183386864832&#45;&gt;2183386863584 -->\n",
       "<g id=\"edge8\" class=\"edge\">\n",
       "<title>2183386864832&#45;&gt;2183386863584</title>\n",
       "<path fill=\"none\" stroke=\"black\" d=\"M362.08,-341.98C347.05,-333.69 323.96,-320.94 306.34,-311.22\"/>\n",
       "<polygon fill=\"black\" stroke=\"black\" points=\"307.65,-307.94 297.2,-306.17 304.27,-314.07 307.65,-307.94\"/>\n",
       "</g>\n",
       "<!-- 2183386863344 -->\n",
       "<g id=\"node11\" class=\"node\">\n",
       "<title>2183386863344</title>\n",
       "<polygon fill=\"lightgrey\" stroke=\"black\" points=\"428,-477 327,-477 327,-458 428,-458 428,-477\"/>\n",
       "<text text-anchor=\"middle\" x=\"377.5\" y=\"-465\" font-family=\"monospace\" font-size=\"10.00\">AccumulateGrad</text>\n",
       "</g>\n",
       "<!-- 2183386863344&#45;&gt;2183386864832 -->\n",
       "<g id=\"edge10\" class=\"edge\">\n",
       "<title>2183386863344&#45;&gt;2183386864832</title>\n",
       "<path fill=\"none\" stroke=\"black\" d=\"M377.5,-457.93C377.5,-439.61 377.5,-396.26 377.5,-371.23\"/>\n",
       "<polygon fill=\"black\" stroke=\"black\" points=\"381,-371.17 377.5,-361.17 374,-371.17 381,-371.17\"/>\n",
       "</g>\n",
       "<!-- 2183386873760 -->\n",
       "<g id=\"node17\" class=\"node\">\n",
       "<title>2183386873760</title>\n",
       "<polygon fill=\"lightgrey\" stroke=\"black\" points=\"150,-416 61,-416 61,-397 150,-397 150,-416\"/>\n",
       "<text text-anchor=\"middle\" x=\"105.5\" y=\"-404\" font-family=\"monospace\" font-size=\"10.00\">PowBackward0</text>\n",
       "</g>\n",
       "<!-- 2183386863344&#45;&gt;2183386873760 -->\n",
       "<g id=\"edge19\" class=\"edge\">\n",
       "<title>2183386863344&#45;&gt;2183386873760</title>\n",
       "<path fill=\"none\" stroke=\"black\" d=\"M338.77,-457.97C329.81,-456 320.33,-453.92 311.5,-452 258.16,-440.38 197.02,-427.19 155.3,-418.21\"/>\n",
       "<polygon fill=\"black\" stroke=\"black\" points=\"155.9,-414.76 145.39,-416.07 154.42,-421.6 155.9,-414.76\"/>\n",
       "</g>\n",
       "<!-- 2183386864304 -->\n",
       "<g id=\"node22\" class=\"node\">\n",
       "<title>2183386864304</title>\n",
       "<polygon fill=\"lightgrey\" stroke=\"black\" points=\"568,-416 479,-416 479,-397 568,-397 568,-416\"/>\n",
       "<text text-anchor=\"middle\" x=\"523.5\" y=\"-404\" font-family=\"monospace\" font-size=\"10.00\">PowBackward0</text>\n",
       "</g>\n",
       "<!-- 2183386863344&#45;&gt;2183386864304 -->\n",
       "<g id=\"edge27\" class=\"edge\">\n",
       "<title>2183386863344&#45;&gt;2183386864304</title>\n",
       "<path fill=\"none\" stroke=\"black\" d=\"M398.73,-457.92C423.49,-447.91 464.62,-431.29 492.85,-419.89\"/>\n",
       "<polygon fill=\"black\" stroke=\"black\" points=\"494.28,-423.08 502.24,-416.09 491.66,-416.59 494.28,-423.08\"/>\n",
       "</g>\n",
       "<!-- 2183382044816 -->\n",
       "<g id=\"node12\" class=\"node\">\n",
       "<title>2183382044816</title>\n",
       "<polygon fill=\"lightblue\" stroke=\"black\" points=\"407,-550 348,-550 348,-519 407,-519 407,-550\"/>\n",
       "<text text-anchor=\"middle\" x=\"377.5\" y=\"-526\" font-family=\"monospace\" font-size=\"10.00\"> (3, 3)</text>\n",
       "</g>\n",
       "<!-- 2183382044816&#45;&gt;2183386863344 -->\n",
       "<g id=\"edge11\" class=\"edge\">\n",
       "<title>2183382044816&#45;&gt;2183386863344</title>\n",
       "<path fill=\"none\" stroke=\"black\" d=\"M377.5,-518.75C377.5,-509.39 377.5,-497.19 377.5,-487.16\"/>\n",
       "<polygon fill=\"black\" stroke=\"black\" points=\"381,-487.02 377.5,-477.02 374,-487.02 381,-487.02\"/>\n",
       "</g>\n",
       "<!-- 2183386860656 -->\n",
       "<g id=\"node13\" class=\"node\">\n",
       "<title>2183386860656</title>\n",
       "<polygon fill=\"lightgrey\" stroke=\"black\" points=\"216,-251 127,-251 127,-232 216,-232 216,-251\"/>\n",
       "<text text-anchor=\"middle\" x=\"171.5\" y=\"-239\" font-family=\"monospace\" font-size=\"10.00\">PowBackward0</text>\n",
       "</g>\n",
       "<!-- 2183386860656&#45;&gt;2183386859072 -->\n",
       "<g id=\"edge12\" class=\"edge\">\n",
       "<title>2183386860656&#45;&gt;2183386859072</title>\n",
       "<path fill=\"none\" stroke=\"black\" d=\"M189.17,-231.98C206.79,-223.5 234.08,-210.35 254.43,-200.54\"/>\n",
       "<polygon fill=\"black\" stroke=\"black\" points=\"256.02,-203.66 263.51,-196.17 252.98,-197.36 256.02,-203.66\"/>\n",
       "</g>\n",
       "<!-- 2183386863536 -->\n",
       "<g id=\"node14\" class=\"node\">\n",
       "<title>2183386863536</title>\n",
       "<polygon fill=\"lightgrey\" stroke=\"black\" points=\"199,-306 110,-306 110,-287 199,-287 199,-306\"/>\n",
       "<text text-anchor=\"middle\" x=\"154.5\" y=\"-294\" font-family=\"monospace\" font-size=\"10.00\">AddBackward0</text>\n",
       "</g>\n",
       "<!-- 2183386863536&#45;&gt;2183386860656 -->\n",
       "<g id=\"edge13\" class=\"edge\">\n",
       "<title>2183386863536&#45;&gt;2183386860656</title>\n",
       "<path fill=\"none\" stroke=\"black\" d=\"M157.31,-286.75C159.56,-279.72 162.8,-269.62 165.62,-260.84\"/>\n",
       "<polygon fill=\"black\" stroke=\"black\" points=\"169.02,-261.68 168.75,-251.09 162.36,-259.54 169.02,-261.68\"/>\n",
       "</g>\n",
       "<!-- 2183386863920&#45;&gt;2183386863536 -->\n",
       "<g id=\"edge14\" class=\"edge\">\n",
       "<title>2183386863920&#45;&gt;2183386863536</title>\n",
       "<path fill=\"none\" stroke=\"black\" d=\"M154.5,-341.75C154.5,-334.8 154.5,-324.85 154.5,-316.13\"/>\n",
       "<polygon fill=\"black\" stroke=\"black\" points=\"158,-316.09 154.5,-306.09 151,-316.09 158,-316.09\"/>\n",
       "</g>\n",
       "<!-- 2183386857872&#45;&gt;2183386863536 -->\n",
       "<g id=\"edge16\" class=\"edge\">\n",
       "<title>2183386857872&#45;&gt;2183386863536</title>\n",
       "<path fill=\"none\" stroke=\"black\" d=\"M62.17,-341.98C79.79,-333.5 107.08,-320.35 127.43,-310.54\"/>\n",
       "<polygon fill=\"black\" stroke=\"black\" points=\"129.02,-313.66 136.51,-306.17 125.98,-307.36 129.02,-313.66\"/>\n",
       "</g>\n",
       "<!-- 2183386873760&#45;&gt;2183386857872 -->\n",
       "<g id=\"edge18\" class=\"edge\">\n",
       "<title>2183386873760&#45;&gt;2183386857872</title>\n",
       "<path fill=\"none\" stroke=\"black\" d=\"M95.7,-396.98C86.68,-389.15 73.09,-377.34 62.18,-367.86\"/>\n",
       "<polygon fill=\"black\" stroke=\"black\" points=\"64.32,-365.09 54.48,-361.17 59.73,-370.37 64.32,-365.09\"/>\n",
       "</g>\n",
       "<!-- 2183386866944 -->\n",
       "<g id=\"node18\" class=\"node\">\n",
       "<title>2183386866944</title>\n",
       "<polygon fill=\"lightgrey\" stroke=\"black\" points=\"461,-196 372,-196 372,-177 461,-177 461,-196\"/>\n",
       "<text text-anchor=\"middle\" x=\"416.5\" y=\"-184\" font-family=\"monospace\" font-size=\"10.00\">PowBackward0</text>\n",
       "</g>\n",
       "<!-- 2183386866944&#45;&gt;2183386873808 -->\n",
       "<g id=\"edge20\" class=\"edge\">\n",
       "<title>2183386866944&#45;&gt;2183386873808</title>\n",
       "<path fill=\"none\" stroke=\"black\" d=\"M403.33,-176.98C390.73,-168.84 371.5,-156.41 356.56,-146.76\"/>\n",
       "<polygon fill=\"black\" stroke=\"black\" points=\"358.21,-143.66 347.91,-141.17 354.41,-149.54 358.21,-143.66\"/>\n",
       "</g>\n",
       "<!-- 2183386864688 -->\n",
       "<g id=\"node19\" class=\"node\">\n",
       "<title>2183386864688</title>\n",
       "<polygon fill=\"lightgrey\" stroke=\"black\" points=\"532,-306 443,-306 443,-287 532,-287 532,-306\"/>\n",
       "<text text-anchor=\"middle\" x=\"487.5\" y=\"-294\" font-family=\"monospace\" font-size=\"10.00\">AddBackward0</text>\n",
       "</g>\n",
       "<!-- 2183386864688&#45;&gt;2183386866944 -->\n",
       "<g id=\"edge21\" class=\"edge\">\n",
       "<title>2183386864688&#45;&gt;2183386866944</title>\n",
       "<path fill=\"none\" stroke=\"black\" d=\"M481.69,-286.66C469.93,-268.77 443.13,-228 427.8,-204.69\"/>\n",
       "<polygon fill=\"black\" stroke=\"black\" points=\"430.61,-202.59 422.19,-196.16 424.76,-206.44 430.61,-202.59\"/>\n",
       "</g>\n",
       "<!-- 2183386873472&#45;&gt;2183386864688 -->\n",
       "<g id=\"edge22\" class=\"edge\">\n",
       "<title>2183386873472&#45;&gt;2183386864688</title>\n",
       "<path fill=\"none\" stroke=\"black\" d=\"M487.5,-341.75C487.5,-334.8 487.5,-324.85 487.5,-316.13\"/>\n",
       "<polygon fill=\"black\" stroke=\"black\" points=\"491,-316.09 487.5,-306.09 484,-316.09 491,-316.09\"/>\n",
       "</g>\n",
       "<!-- 2183386860416&#45;&gt;2183386864688 -->\n",
       "<g id=\"edge24\" class=\"edge\">\n",
       "<title>2183386860416&#45;&gt;2183386864688</title>\n",
       "<path fill=\"none\" stroke=\"black\" d=\"M579.83,-341.98C562.21,-333.5 534.92,-320.35 514.57,-310.54\"/>\n",
       "<polygon fill=\"black\" stroke=\"black\" points=\"516.02,-307.36 505.49,-306.17 512.98,-313.66 516.02,-307.36\"/>\n",
       "</g>\n",
       "<!-- 2183386864304&#45;&gt;2183386860416 -->\n",
       "<g id=\"edge26\" class=\"edge\">\n",
       "<title>2183386864304&#45;&gt;2183386860416</title>\n",
       "<path fill=\"none\" stroke=\"black\" d=\"M535.39,-396.98C546.65,-388.92 563.79,-376.65 577.21,-367.03\"/>\n",
       "<polygon fill=\"black\" stroke=\"black\" points=\"579.3,-369.84 585.39,-361.17 575.23,-364.15 579.3,-369.84\"/>\n",
       "</g>\n",
       "</g>\n",
       "</svg>\n"
      ],
      "text/plain": [
       "<graphviz.graphs.Digraph at 0x1fc5be79c50>"
      ]
     },
     "execution_count": 79,
     "metadata": {},
     "output_type": "execute_result"
    }
   ],
   "source": [
    "x = torch.rand((3,3), requires_grad=True, dtype=torch.float32)\n",
    "y = torch.rand((3,3), requires_grad=True, dtype=torch.float32)\n",
    "\n",
    "learning_rate = 0.0001\n",
    "epochs = 50\n",
    "\n",
    "# Function definition\n",
    "def function_z(x,y):\n",
    "    return torch.pow((1.5 - x + x*y),2) + torch.pow((2.25 - x + x*(y**2)), 2)  + torch.pow((2.625 - x + x*(y**3)),2)\n",
    "\n",
    "for i in range(epochs):\n",
    "    z = function_z(x,y).mean()\n",
    "    z.backward()\n",
    "    \n",
    "\n",
    "    # Printig the  x grad tensor\n",
    "    print(f'Gradient x: \\n', x.grad)\n",
    "\n",
    "    #Printing the y grad tensor\n",
    "    print(f'Gradient y: \\n', y.grad)\n",
    "\n",
    "    #Updata parameters\n",
    "    with torch.no_grad():\n",
    "        x.data -= learning_rate * x.grad.data\n",
    "        y.data -= learning_rate * y.grad.data\n",
    "\n",
    "        x.grad.zero_()\n",
    "        y.grad.zero_()\n",
    "\n",
    "make_dot(z)\n"
   ]
  },
  {
   "cell_type": "markdown",
   "metadata": {},
   "source": [
    "### Ejercicio 2"
   ]
  },
  {
   "cell_type": "markdown",
   "metadata": {},
   "source": [
    "Si tiene una imagen a procesar de 1024x720x3 y desea aplicar en cascada, 2 capas de convolución, seguido por una capa de activación y una de pooling,  con las siguientes características:\n",
    "\n",
    "*Conv1:*\n",
    "* tamaño kernel = 7x7\n",
    "* padding = 2\n",
    "* stride = 1\n",
    "* número de kernel = 16\n",
    "\n",
    "*Conv2:*\n",
    "* tamaño kernel = 5x5\n",
    "* padding = 0\n",
    "* stride = 1\n",
    "* número de kernel = 32\n",
    "\n",
    "*activación*\n",
    "* Tanh()\n",
    "\n",
    "*pooling*\n",
    "* tamaño pooling = 5x5\n",
    "* padding pooling = 0\n",
    "* stride pooling = 5\n",
    "\n",
    "a) ¿Cual es el tamaño final de la salida y cuantos canales tiene?\n",
    "\n",
    "b) Si tiene que conectar esa salida a una `fully_connected` para clasificar 3 clases ¿que tamaño debe tener?\n"
   ]
  },
  {
   "cell_type": "code",
   "execution_count": 185,
   "metadata": {},
   "outputs": [],
   "source": [
    "# Import Libraries\n",
    "import pandas as pd\n",
    "import numpy as np\n",
    "import matplotlib.pyplot as plt\n",
    "import seaborn as sns\n",
    "from miceforest import ImputationKernel\n",
    "from sklearn import metrics\n",
    "import torch\n",
    "#from torchsummary import summary\n"
   ]
  },
  {
   "cell_type": "code",
   "execution_count": 204,
   "metadata": {},
   "outputs": [
    {
     "name": "stdout",
     "output_type": "stream",
     "text": [
      "torch.Size([1, 3, 1024, 720])\n"
     ]
    }
   ],
   "source": [
    "#Generating image with the following size : 1204 x 720 x 3\n",
    "img = torch.rand(1, 3, 1024, 720)\n",
    "# Dimensions : (N, # Channels, H, W)\n",
    "# Print images size\n",
    "print(img.shape)"
   ]
  },
  {
   "cell_type": "code",
   "execution_count": 205,
   "metadata": {},
   "outputs": [
    {
     "name": "stdout",
     "output_type": "stream",
     "text": [
      "Size ouput image:\n",
      "torch.Size([1, 32, 203, 142])\n"
     ]
    }
   ],
   "source": [
    "# Convolution layer_1\n",
    "conv_layer_1 = torch.nn.Conv2d(in_channels=3, out_channels=16, kernel_size=7, padding=2, stride=1)\n",
    "# Convolution layer_2\n",
    "conv_layer_2 = torch.nn.Conv2d(in_channels=16, out_channels=32, kernel_size=5, padding=0, stride=1)\n",
    "# Activation layer\n",
    "activation_layer = torch.nn.Tanh()\n",
    "# Max pooling layer\n",
    "pooling_layer = torch.nn.MaxPool2d(kernel_size = 5, stride=5, padding=0, ceil_mode=False)\n",
    "\n",
    "#Forward\n",
    "x = conv_layer_1(img)\n",
    "x = conv_layer_2(x)\n",
    "x = activation_layer(x)\n",
    "output = pooling_layer(x)\n",
    "print('Size ouput image:')\n",
    "dimensions = output.shape\n",
    "print(dimensions)"
   ]
  },
  {
   "cell_type": "code",
   "execution_count": 206,
   "metadata": {},
   "outputs": [
    {
     "name": "stdout",
     "output_type": "stream",
     "text": [
      "Output of fully connected layer:\n",
      "torch.Size([1, 3])\n"
     ]
    }
   ],
   "source": [
    "# Fully connected layer\n",
    "fully_connected_layer = torch.nn.Linear(in_features = dimensions[1]*dimensions[2]*dimensions[3], out_features=3)\n",
    "output_fc = fully_connected_layer(output.view(output.shape[0], -1))\n",
    "print('Output of fully connected layer:')\n",
    "print(output_fc.shape)"
   ]
  },
  {
   "cell_type": "markdown",
   "metadata": {},
   "source": [
    "* La imagen de salida tiene las siguientes características:\n",
    "    * Número de canales: 32\n",
    "    * Tamaño de la nueva imagen: 203x142\n",
    "* La capa *fully connected* cuenta con las siguientes características:\n",
    "    * *input_features* = tamaño de la imagen obtenido después del *pooling*, es decir, [1, 32, 238, 142]\n",
    "    * *ouput_features* = 3\n",
    "* Una vez procesada la capa *fully connected*, se obtiene la siguiente salida: [1, 3]\n"
   ]
  },
  {
   "cell_type": "markdown",
   "metadata": {},
   "source": [
    "### Ejercicio 3"
   ]
  },
  {
   "cell_type": "markdown",
   "metadata": {},
   "source": [
    "Para la siguiente red neuronal recurrente, se pide expresar las ecuaciones \"*unfolded*\" de la salida de la misma y de sus estados ocultos, si el vector de entrada son 3 muestras secuenciadas de la variable $x(t)$.\n",
    "\n",
    "![b](https://drive.google.com/uc?export=view&id=1Fz46GTK7Oy_w5OEgwLCLfHFMr7b6-AnL)\n",
    "\n",
    "\n",
    "\n",
    "\n",
    "Ecuaciones de la RNN:\n",
    "\n",
    "$$ \\hat{y}(t) = w_{h1y} * h1(t) + w_{h2y} * h2(t) + by$$\n",
    "\n",
    "$$ h1(t) = w_{xh1} * x(t) + w_{h1h1} * h1(t-1) + w_{h2h1} * h2(t-1)+ bh1$$\n",
    "$$ h2(t) = w_{xh2} * x(t) + w_{h2h2} * h2(t-1) + w_{h1h2} * h1(t-1)+ bh2 $$"
   ]
  },
  {
   "cell_type": "markdown",
   "metadata": {},
   "source": [
    "### Resultado"
   ]
  },
  {
   "cell_type": "code",
   "execution_count": 80,
   "metadata": {},
   "outputs": [],
   "source": [
    "# Import libraries\n",
    "from IPython.display import Image\n",
    "t0 =Image(url=\"./imgs/t0.png\")\n",
    "t1 =Image(url=\"./imgs/t1.png\")\n",
    "t2 =Image(url=\"./imgs/t2.png\")"
   ]
  },
  {
   "cell_type": "markdown",
   "metadata": {},
   "source": [
    "Para $t_0$"
   ]
  },
  {
   "cell_type": "code",
   "execution_count": 79,
   "metadata": {},
   "outputs": [
    {
     "data": {
      "text/html": [
       "<img src=\"./imgs/t0.png\"/>"
      ],
      "text/plain": [
       "<IPython.core.display.Image object>"
      ]
     },
     "execution_count": 79,
     "metadata": {},
     "output_type": "execute_result"
    }
   ],
   "source": [
    "t0"
   ]
  },
  {
   "cell_type": "markdown",
   "metadata": {},
   "source": [
    "Para $t_1$"
   ]
  },
  {
   "cell_type": "markdown",
   "metadata": {},
   "source": [
    "Posteriormente las ecuaciones (2) y (3) son reemplazadas en (1)"
   ]
  },
  {
   "cell_type": "code",
   "execution_count": 81,
   "metadata": {},
   "outputs": [
    {
     "data": {
      "text/html": [
       "<img src=\"./imgs/t1.png\"/>"
      ],
      "text/plain": [
       "<IPython.core.display.Image object>"
      ]
     },
     "execution_count": 81,
     "metadata": {},
     "output_type": "execute_result"
    }
   ],
   "source": [
    "t1"
   ]
  },
  {
   "cell_type": "markdown",
   "metadata": {},
   "source": [
    "Posteriormente las ecuaciones (5) y (6) son reemplazadas en (4)"
   ]
  },
  {
   "cell_type": "markdown",
   "metadata": {},
   "source": [
    "Para $t_2$"
   ]
  },
  {
   "cell_type": "code",
   "execution_count": 83,
   "metadata": {},
   "outputs": [
    {
     "data": {
      "text/html": [
       "<img src=\"./imgs/t2.png\"/>"
      ],
      "text/plain": [
       "<IPython.core.display.Image object>"
      ]
     },
     "execution_count": 83,
     "metadata": {},
     "output_type": "execute_result"
    }
   ],
   "source": [
    "t2"
   ]
  },
  {
   "cell_type": "markdown",
   "metadata": {},
   "source": [
    "Posteriormente las ecuaciones (7) y (8) son reemplazadas en (9)"
   ]
  },
  {
   "cell_type": "markdown",
   "metadata": {},
   "source": [
    " ### Ejercicio 4"
   ]
  },
  {
   "cell_type": "markdown",
   "metadata": {},
   "source": [
    "\n",
    "Descargar el dataset del siguiente link: https://drive.google.com/file/d/1X8_G5BpQMi-Nnbtms2RL8lcWSxzD8ixd/view?usp=sharing. El dataset son compras de productos que diferentes clientes realizaron durante un black sales. El dataset contiene información sobre las transacciones y el objetivo es poder utilizar el dataset para crear diferentes modelos que puedan predecir cuánto un cliente está dispuesto a gastar en un producto en el futuro. Particularmente, vamos a tratar este problema como una clasificación binaria donde queremos averiguar si el cliente va a gastar mucha plata (más de 9000) o poca plata (menos de 9000).\n",
    "\n",
    "- a)\tEntrenar un modelo de deep learning que no utilice embeddings y que no emplee el `user_id` ni el `product_id`.\n",
    "- b)\tEntrenar un modelo de deep learning que utilice embeddings tanto para los productos como los usuarios. Realizar el mapeo de identificador de producto y usuarios a indices antes de separar el dataset en training, validation y testing.\n",
    "- c)\tGrafique las curvas de la loss function en función de las epochs de cada modelo y comente lo necesario.\n",
    "- d) Compare el score de cada modelo."
   ]
  },
  {
   "cell_type": "code",
   "execution_count": 1,
   "metadata": {},
   "outputs": [],
   "source": [
    "# Import Libraries\n",
    "import pandas as pd\n",
    "import numpy as np\n",
    "import matplotlib.pyplot as plt\n",
    "import seaborn as sns\n",
    "from miceforest import ImputationKernel\n",
    "from sklearn.preprocessing import LabelEncoder\n",
    "from sklearn import metrics\n",
    "import torch\n",
    "from torch.utils.data import Dataset, DataLoader"
   ]
  },
  {
   "cell_type": "code",
   "execution_count": 2,
   "metadata": {},
   "outputs": [],
   "source": [
    "# Read dataset\n",
    "df_blacks = pd.read_csv('./data/dataset_black_sales.csv')"
   ]
  },
  {
   "cell_type": "markdown",
   "metadata": {},
   "source": [
    "### Data preparation"
   ]
  },
  {
   "cell_type": "code",
   "execution_count": 3,
   "metadata": {},
   "outputs": [
    {
     "data": {
      "text/plain": [
       "(550068, 12)"
      ]
     },
     "execution_count": 3,
     "metadata": {},
     "output_type": "execute_result"
    }
   ],
   "source": [
    "# Check for dataset dimensions\n",
    "df_blacks.shape"
   ]
  },
  {
   "cell_type": "code",
   "execution_count": 4,
   "metadata": {},
   "outputs": [
    {
     "name": "stdout",
     "output_type": "stream",
     "text": [
      "<class 'pandas.core.frame.DataFrame'>\n",
      "RangeIndex: 550068 entries, 0 to 550067\n",
      "Data columns (total 12 columns):\n",
      " #   Column                      Non-Null Count   Dtype  \n",
      "---  ------                      --------------   -----  \n",
      " 0   User_ID                     550068 non-null  int64  \n",
      " 1   Product_ID                  550068 non-null  object \n",
      " 2   Gender                      550068 non-null  object \n",
      " 3   Age                         550068 non-null  object \n",
      " 4   Occupation                  550068 non-null  int64  \n",
      " 5   City_Category               550068 non-null  object \n",
      " 6   Stay_In_Current_City_Years  550068 non-null  object \n",
      " 7   Marital_Status              550068 non-null  int64  \n",
      " 8   Product_Category_1          550068 non-null  int64  \n",
      " 9   Product_Category_2          376430 non-null  float64\n",
      " 10  Product_Category_3          166821 non-null  float64\n",
      " 11  Purchase                    550068 non-null  int64  \n",
      "dtypes: float64(2), int64(5), object(5)\n",
      "memory usage: 50.4+ MB\n"
     ]
    }
   ],
   "source": [
    "# Check the datatype and number features\n",
    "df_blacks.info()"
   ]
  },
  {
   "cell_type": "code",
   "execution_count": 5,
   "metadata": {},
   "outputs": [
    {
     "data": {
      "text/html": [
       "<div>\n",
       "<style scoped>\n",
       "    .dataframe tbody tr th:only-of-type {\n",
       "        vertical-align: middle;\n",
       "    }\n",
       "\n",
       "    .dataframe tbody tr th {\n",
       "        vertical-align: top;\n",
       "    }\n",
       "\n",
       "    .dataframe thead th {\n",
       "        text-align: right;\n",
       "    }\n",
       "</style>\n",
       "<table border=\"1\" class=\"dataframe\">\n",
       "  <thead>\n",
       "    <tr style=\"text-align: right;\">\n",
       "      <th></th>\n",
       "      <th>User_ID</th>\n",
       "      <th>Product_ID</th>\n",
       "      <th>Gender</th>\n",
       "      <th>Age</th>\n",
       "      <th>Occupation</th>\n",
       "      <th>City_Category</th>\n",
       "      <th>Stay_In_Current_City_Years</th>\n",
       "      <th>Marital_Status</th>\n",
       "      <th>Product_Category_1</th>\n",
       "      <th>Product_Category_2</th>\n",
       "      <th>Product_Category_3</th>\n",
       "      <th>Purchase</th>\n",
       "    </tr>\n",
       "  </thead>\n",
       "  <tbody>\n",
       "    <tr>\n",
       "      <th>0</th>\n",
       "      <td>1000001</td>\n",
       "      <td>P00069042</td>\n",
       "      <td>F</td>\n",
       "      <td>0-17</td>\n",
       "      <td>10</td>\n",
       "      <td>A</td>\n",
       "      <td>2</td>\n",
       "      <td>0</td>\n",
       "      <td>3</td>\n",
       "      <td>NaN</td>\n",
       "      <td>NaN</td>\n",
       "      <td>8370</td>\n",
       "    </tr>\n",
       "    <tr>\n",
       "      <th>1</th>\n",
       "      <td>1000001</td>\n",
       "      <td>P00248942</td>\n",
       "      <td>F</td>\n",
       "      <td>0-17</td>\n",
       "      <td>10</td>\n",
       "      <td>A</td>\n",
       "      <td>2</td>\n",
       "      <td>0</td>\n",
       "      <td>1</td>\n",
       "      <td>6.0</td>\n",
       "      <td>14.0</td>\n",
       "      <td>15200</td>\n",
       "    </tr>\n",
       "    <tr>\n",
       "      <th>2</th>\n",
       "      <td>1000001</td>\n",
       "      <td>P00087842</td>\n",
       "      <td>F</td>\n",
       "      <td>0-17</td>\n",
       "      <td>10</td>\n",
       "      <td>A</td>\n",
       "      <td>2</td>\n",
       "      <td>0</td>\n",
       "      <td>12</td>\n",
       "      <td>NaN</td>\n",
       "      <td>NaN</td>\n",
       "      <td>1422</td>\n",
       "    </tr>\n",
       "    <tr>\n",
       "      <th>3</th>\n",
       "      <td>1000001</td>\n",
       "      <td>P00085442</td>\n",
       "      <td>F</td>\n",
       "      <td>0-17</td>\n",
       "      <td>10</td>\n",
       "      <td>A</td>\n",
       "      <td>2</td>\n",
       "      <td>0</td>\n",
       "      <td>12</td>\n",
       "      <td>14.0</td>\n",
       "      <td>NaN</td>\n",
       "      <td>1057</td>\n",
       "    </tr>\n",
       "    <tr>\n",
       "      <th>4</th>\n",
       "      <td>1000002</td>\n",
       "      <td>P00285442</td>\n",
       "      <td>M</td>\n",
       "      <td>55+</td>\n",
       "      <td>16</td>\n",
       "      <td>C</td>\n",
       "      <td>4+</td>\n",
       "      <td>0</td>\n",
       "      <td>8</td>\n",
       "      <td>NaN</td>\n",
       "      <td>NaN</td>\n",
       "      <td>7969</td>\n",
       "    </tr>\n",
       "    <tr>\n",
       "      <th>5</th>\n",
       "      <td>1000003</td>\n",
       "      <td>P00193542</td>\n",
       "      <td>M</td>\n",
       "      <td>26-35</td>\n",
       "      <td>15</td>\n",
       "      <td>A</td>\n",
       "      <td>3</td>\n",
       "      <td>0</td>\n",
       "      <td>1</td>\n",
       "      <td>2.0</td>\n",
       "      <td>NaN</td>\n",
       "      <td>15227</td>\n",
       "    </tr>\n",
       "    <tr>\n",
       "      <th>6</th>\n",
       "      <td>1000004</td>\n",
       "      <td>P00184942</td>\n",
       "      <td>M</td>\n",
       "      <td>46-50</td>\n",
       "      <td>7</td>\n",
       "      <td>B</td>\n",
       "      <td>2</td>\n",
       "      <td>1</td>\n",
       "      <td>1</td>\n",
       "      <td>8.0</td>\n",
       "      <td>17.0</td>\n",
       "      <td>19215</td>\n",
       "    </tr>\n",
       "    <tr>\n",
       "      <th>7</th>\n",
       "      <td>1000004</td>\n",
       "      <td>P00346142</td>\n",
       "      <td>M</td>\n",
       "      <td>46-50</td>\n",
       "      <td>7</td>\n",
       "      <td>B</td>\n",
       "      <td>2</td>\n",
       "      <td>1</td>\n",
       "      <td>1</td>\n",
       "      <td>15.0</td>\n",
       "      <td>NaN</td>\n",
       "      <td>15854</td>\n",
       "    </tr>\n",
       "    <tr>\n",
       "      <th>8</th>\n",
       "      <td>1000004</td>\n",
       "      <td>P0097242</td>\n",
       "      <td>M</td>\n",
       "      <td>46-50</td>\n",
       "      <td>7</td>\n",
       "      <td>B</td>\n",
       "      <td>2</td>\n",
       "      <td>1</td>\n",
       "      <td>1</td>\n",
       "      <td>16.0</td>\n",
       "      <td>NaN</td>\n",
       "      <td>15686</td>\n",
       "    </tr>\n",
       "    <tr>\n",
       "      <th>9</th>\n",
       "      <td>1000005</td>\n",
       "      <td>P00274942</td>\n",
       "      <td>M</td>\n",
       "      <td>26-35</td>\n",
       "      <td>20</td>\n",
       "      <td>A</td>\n",
       "      <td>1</td>\n",
       "      <td>1</td>\n",
       "      <td>8</td>\n",
       "      <td>NaN</td>\n",
       "      <td>NaN</td>\n",
       "      <td>7871</td>\n",
       "    </tr>\n",
       "  </tbody>\n",
       "</table>\n",
       "</div>"
      ],
      "text/plain": [
       "   User_ID Product_ID Gender    Age  Occupation City_Category  \\\n",
       "0  1000001  P00069042      F   0-17          10             A   \n",
       "1  1000001  P00248942      F   0-17          10             A   \n",
       "2  1000001  P00087842      F   0-17          10             A   \n",
       "3  1000001  P00085442      F   0-17          10             A   \n",
       "4  1000002  P00285442      M    55+          16             C   \n",
       "5  1000003  P00193542      M  26-35          15             A   \n",
       "6  1000004  P00184942      M  46-50           7             B   \n",
       "7  1000004  P00346142      M  46-50           7             B   \n",
       "8  1000004   P0097242      M  46-50           7             B   \n",
       "9  1000005  P00274942      M  26-35          20             A   \n",
       "\n",
       "  Stay_In_Current_City_Years  Marital_Status  Product_Category_1  \\\n",
       "0                          2               0                   3   \n",
       "1                          2               0                   1   \n",
       "2                          2               0                  12   \n",
       "3                          2               0                  12   \n",
       "4                         4+               0                   8   \n",
       "5                          3               0                   1   \n",
       "6                          2               1                   1   \n",
       "7                          2               1                   1   \n",
       "8                          2               1                   1   \n",
       "9                          1               1                   8   \n",
       "\n",
       "   Product_Category_2  Product_Category_3  Purchase  \n",
       "0                 NaN                 NaN      8370  \n",
       "1                 6.0                14.0     15200  \n",
       "2                 NaN                 NaN      1422  \n",
       "3                14.0                 NaN      1057  \n",
       "4                 NaN                 NaN      7969  \n",
       "5                 2.0                 NaN     15227  \n",
       "6                 8.0                17.0     19215  \n",
       "7                15.0                 NaN     15854  \n",
       "8                16.0                 NaN     15686  \n",
       "9                 NaN                 NaN      7871  "
      ]
     },
     "execution_count": 5,
     "metadata": {},
     "output_type": "execute_result"
    }
   ],
   "source": [
    "df_blacks.head(10)"
   ]
  },
  {
   "cell_type": "code",
   "execution_count": 17,
   "metadata": {},
   "outputs": [],
   "source": [
    "# Display dataset distribution -- Based on the Data Analysis subject\n",
    "def display_dataset_distributions(dataset):\n",
    "    fig = dataset.hist(xlabelsize=12, ylabelsize=12, figsize=(22, 10))\n",
    "    [x.title.set_size(14) for x in fig.ravel()]\n",
    "    plt.tight_layout()\n",
    "    plt.show()"
   ]
  },
  {
   "cell_type": "code",
   "execution_count": 18,
   "metadata": {},
   "outputs": [
    {
     "data": {
      "image/png": "[encoded data removed]",
      "text/plain": [
       "<Figure size 2200x1000 with 9 Axes>"
      ]
     },
     "metadata": {},
     "output_type": "display_data"
    }
   ],
   "source": [
    "display_dataset_distributions(df_blacks)"
   ]
  },
  {
   "cell_type": "code",
   "execution_count": 19,
   "metadata": {},
   "outputs": [
    {
     "data": {
      "text/plain": [
       "User_ID                        5891\n",
       "Product_ID                     3631\n",
       "Gender                            2\n",
       "Age                               7\n",
       "Occupation                       21\n",
       "City_Category                     3\n",
       "Stay_In_Current_City_Years        5\n",
       "Marital_Status                    2\n",
       "Product_Category_1               20\n",
       "Product_Category_2               17\n",
       "Product_Category_3               15\n",
       "Purchase                      18105\n",
       "dtype: int64"
      ]
     },
     "execution_count": 19,
     "metadata": {},
     "output_type": "execute_result"
    }
   ],
   "source": [
    "# Check unique values\n",
    "df_blacks.nunique()"
   ]
  },
  {
   "cell_type": "code",
   "execution_count": 78,
   "metadata": {},
   "outputs": [
    {
     "name": "stderr",
     "output_type": "stream",
     "text": [
      "/tmp/ipykernel_694/302237164.py:2: UserWarning: \n",
      "\n",
      "`distplot` is a deprecated function and will be removed in seaborn v0.14.0.\n",
      "\n",
      "Please adapt your code to use either `displot` (a figure-level function with\n",
      "similar flexibility) or `histplot` (an axes-level function for histograms).\n",
      "\n",
      "For a guide to updating your code to use the new functions, please see\n",
      "https://gist.github.com/mwaskom/de44147ed2974457ad6372750bbe5751\n",
      "\n",
      "  sns.distplot(df_blacks[\"Purchase\"], color='b')\n"
     ]
    },
    {
     "data": {
      "image/png": "[encoded data removed]",
      "text/plain": [
       "<Figure size 640x480 with 1 Axes>"
      ]
     },
     "metadata": {},
     "output_type": "display_data"
    }
   ],
   "source": [
    "# Check of distribution of target variable\n",
    "sns.distplot(df_blacks[\"Purchase\"], color='b')\n",
    "plt.title(\"Purchase Distribution\")\n",
    "plt.show()"
   ]
  },
  {
   "cell_type": "code",
   "execution_count": 6,
   "metadata": {},
   "outputs": [
    {
     "data": {
      "text/plain": [
       "count    550068.000000\n",
       "mean       9263.968713\n",
       "std        5023.065394\n",
       "min          12.000000\n",
       "25%        5823.000000\n",
       "50%        8047.000000\n",
       "75%       12054.000000\n",
       "max       23961.000000\n",
       "Name: Purchase, dtype: float64"
      ]
     },
     "execution_count": 6,
     "metadata": {},
     "output_type": "execute_result"
    }
   ],
   "source": [
    "# Check the main statistical  variables of target feature\n",
    "df_blacks['Purchase'].describe()"
   ]
  },
  {
   "cell_type": "markdown",
   "metadata": {},
   "source": [
    "### Encoding categorical variables"
   ]
  },
  {
   "cell_type": "code",
   "execution_count": 7,
   "metadata": {},
   "outputs": [],
   "source": [
    "df_blacks_modified = pd.get_dummies(\n",
    "    df_blacks, columns=['Stay_In_Current_City_Years'])"
   ]
  },
  {
   "cell_type": "code",
   "execution_count": 8,
   "metadata": {},
   "outputs": [
    {
     "name": "stdout",
     "output_type": "stream",
     "text": [
      "<class 'pandas.core.frame.DataFrame'>\n",
      "RangeIndex: 550068 entries, 0 to 550067\n",
      "Data columns (total 16 columns):\n",
      " #   Column                         Non-Null Count   Dtype  \n",
      "---  ------                         --------------   -----  \n",
      " 0   User_ID                        550068 non-null  int64  \n",
      " 1   Product_ID                     550068 non-null  object \n",
      " 2   Gender                         550068 non-null  object \n",
      " 3   Age                            550068 non-null  object \n",
      " 4   Occupation                     550068 non-null  int64  \n",
      " 5   City_Category                  550068 non-null  object \n",
      " 6   Marital_Status                 550068 non-null  int64  \n",
      " 7   Product_Category_1             550068 non-null  int64  \n",
      " 8   Product_Category_2             376430 non-null  float64\n",
      " 9   Product_Category_3             166821 non-null  float64\n",
      " 10  Purchase                       550068 non-null  int64  \n",
      " 11  Stay_In_Current_City_Years_0   550068 non-null  uint8  \n",
      " 12  Stay_In_Current_City_Years_1   550068 non-null  uint8  \n",
      " 13  Stay_In_Current_City_Years_2   550068 non-null  uint8  \n",
      " 14  Stay_In_Current_City_Years_3   550068 non-null  uint8  \n",
      " 15  Stay_In_Current_City_Years_4+  550068 non-null  uint8  \n",
      "dtypes: float64(2), int64(5), object(4), uint8(5)\n",
      "memory usage: 48.8+ MB\n"
     ]
    }
   ],
   "source": [
    "df_blacks_modified.info()"
   ]
  },
  {
   "cell_type": "code",
   "execution_count": 9,
   "metadata": {},
   "outputs": [],
   "source": [
    "# Label encoding categorical variables\n",
    "label_encoder = LabelEncoder()"
   ]
  },
  {
   "cell_type": "code",
   "execution_count": 10,
   "metadata": {},
   "outputs": [],
   "source": [
    "df_blacks_modified['Gender'] = label_encoder.fit_transform(\n",
    "    df_blacks_modified['Gender'])"
   ]
  },
  {
   "cell_type": "code",
   "execution_count": 11,
   "metadata": {},
   "outputs": [],
   "source": [
    "df_blacks_modified['Age'] = label_encoder.fit_transform(\n",
    "    df_blacks_modified['Age'])"
   ]
  },
  {
   "cell_type": "code",
   "execution_count": 12,
   "metadata": {},
   "outputs": [],
   "source": [
    "df_blacks_modified['City_Category'] = label_encoder.fit_transform(\n",
    "    df_blacks_modified['City_Category'])"
   ]
  },
  {
   "cell_type": "code",
   "execution_count": 13,
   "metadata": {},
   "outputs": [
    {
     "name": "stdout",
     "output_type": "stream",
     "text": [
      "<class 'pandas.core.frame.DataFrame'>\n",
      "RangeIndex: 550068 entries, 0 to 550067\n",
      "Data columns (total 16 columns):\n",
      " #   Column                         Non-Null Count   Dtype  \n",
      "---  ------                         --------------   -----  \n",
      " 0   User_ID                        550068 non-null  int64  \n",
      " 1   Product_ID                     550068 non-null  object \n",
      " 2   Gender                         550068 non-null  int64  \n",
      " 3   Age                            550068 non-null  int64  \n",
      " 4   Occupation                     550068 non-null  int64  \n",
      " 5   City_Category                  550068 non-null  int64  \n",
      " 6   Marital_Status                 550068 non-null  int64  \n",
      " 7   Product_Category_1             550068 non-null  int64  \n",
      " 8   Product_Category_2             376430 non-null  float64\n",
      " 9   Product_Category_3             166821 non-null  float64\n",
      " 10  Purchase                       550068 non-null  int64  \n",
      " 11  Stay_In_Current_City_Years_0   550068 non-null  uint8  \n",
      " 12  Stay_In_Current_City_Years_1   550068 non-null  uint8  \n",
      " 13  Stay_In_Current_City_Years_2   550068 non-null  uint8  \n",
      " 14  Stay_In_Current_City_Years_3   550068 non-null  uint8  \n",
      " 15  Stay_In_Current_City_Years_4+  550068 non-null  uint8  \n",
      "dtypes: float64(2), int64(8), object(1), uint8(5)\n",
      "memory usage: 48.8+ MB\n"
     ]
    }
   ],
   "source": [
    "df_blacks_modified.info()"
   ]
  },
  {
   "cell_type": "markdown",
   "metadata": {},
   "source": [
    "### Missing variables imputation"
   ]
  },
  {
   "cell_type": "code",
   "execution_count": 14,
   "metadata": {},
   "outputs": [
    {
     "data": {
      "text/plain": [
       "0"
      ]
     },
     "execution_count": 14,
     "metadata": {},
     "output_type": "execute_result"
    }
   ],
   "source": [
    "# Check for NaN  values in target variable\n",
    "len(df_blacks_modified[df_blacks_modified['Purchase'].isna()])"
   ]
  },
  {
   "cell_type": "code",
   "execution_count": 15,
   "metadata": {},
   "outputs": [
    {
     "data": {
      "text/plain": [
       "User_ID                           0.000000\n",
       "Product_ID                        0.000000\n",
       "Gender                            0.000000\n",
       "Age                               0.000000\n",
       "Occupation                        0.000000\n",
       "City_Category                     0.000000\n",
       "Marital_Status                    0.000000\n",
       "Product_Category_1                0.000000\n",
       "Product_Category_2               31.566643\n",
       "Product_Category_3               69.672659\n",
       "Purchase                          0.000000\n",
       "Stay_In_Current_City_Years_0      0.000000\n",
       "Stay_In_Current_City_Years_1      0.000000\n",
       "Stay_In_Current_City_Years_2      0.000000\n",
       "Stay_In_Current_City_Years_3      0.000000\n",
       "Stay_In_Current_City_Years_4+     0.000000\n",
       "dtype: float64"
      ]
     },
     "execution_count": 15,
     "metadata": {},
     "output_type": "execute_result"
    }
   ],
   "source": [
    "# Check for NaN  values in the other variables\n",
    "df_blacks_modified = df_blacks_modified[df_blacks_modified['Purchase'].notna()]\n",
    "(df_blacks_modified.isnull().sum()/len(df_blacks_modified))*100"
   ]
  },
  {
   "cell_type": "code",
   "execution_count": 16,
   "metadata": {},
   "outputs": [],
   "source": [
    "# Saving USER_ID andd Product_ID for the model with embedding\n",
    "user_id = df_blacks_modified['User_ID']\n",
    "product_id = df_blacks_modified['Product_ID']"
   ]
  },
  {
   "cell_type": "code",
   "execution_count": 17,
   "metadata": {},
   "outputs": [],
   "source": [
    "# Drop User_id, Product_id\n",
    "df_blacks_preprocessed = df_blacks_modified.drop(\n",
    "    ['User_ID', 'Product_ID'], axis=1)"
   ]
  },
  {
   "cell_type": "code",
   "execution_count": 18,
   "metadata": {},
   "outputs": [],
   "source": [
    "# Missing variables imputation with MICE methods\n",
    "mice_kernel = ImputationKernel(\n",
    "    data=df_blacks_preprocessed, save_all_iterations=True,\n",
    "    random_state=42)"
   ]
  },
  {
   "cell_type": "code",
   "execution_count": 19,
   "metadata": {},
   "outputs": [
    {
     "data": {
      "text/html": [
       "<div>\n",
       "<style scoped>\n",
       "    .dataframe tbody tr th:only-of-type {\n",
       "        vertical-align: middle;\n",
       "    }\n",
       "\n",
       "    .dataframe tbody tr th {\n",
       "        vertical-align: top;\n",
       "    }\n",
       "\n",
       "    .dataframe thead th {\n",
       "        text-align: right;\n",
       "    }\n",
       "</style>\n",
       "<table border=\"1\" class=\"dataframe\">\n",
       "  <thead>\n",
       "    <tr style=\"text-align: right;\">\n",
       "      <th></th>\n",
       "      <th>Gender</th>\n",
       "      <th>Age</th>\n",
       "      <th>Occupation</th>\n",
       "      <th>City_Category</th>\n",
       "      <th>Marital_Status</th>\n",
       "      <th>Product_Category_1</th>\n",
       "      <th>Product_Category_2</th>\n",
       "      <th>Product_Category_3</th>\n",
       "      <th>Purchase</th>\n",
       "      <th>Stay_In_Current_City_Years_0</th>\n",
       "      <th>Stay_In_Current_City_Years_1</th>\n",
       "      <th>Stay_In_Current_City_Years_2</th>\n",
       "      <th>Stay_In_Current_City_Years_3</th>\n",
       "      <th>Stay_In_Current_City_Years_4+</th>\n",
       "    </tr>\n",
       "  </thead>\n",
       "  <tbody>\n",
       "    <tr>\n",
       "      <th>0</th>\n",
       "      <td>0</td>\n",
       "      <td>0</td>\n",
       "      <td>10</td>\n",
       "      <td>0</td>\n",
       "      <td>0</td>\n",
       "      <td>3</td>\n",
       "      <td>4.0</td>\n",
       "      <td>5.0</td>\n",
       "      <td>8370</td>\n",
       "      <td>0</td>\n",
       "      <td>0</td>\n",
       "      <td>1</td>\n",
       "      <td>0</td>\n",
       "      <td>0</td>\n",
       "    </tr>\n",
       "    <tr>\n",
       "      <th>1</th>\n",
       "      <td>0</td>\n",
       "      <td>0</td>\n",
       "      <td>10</td>\n",
       "      <td>0</td>\n",
       "      <td>0</td>\n",
       "      <td>1</td>\n",
       "      <td>6.0</td>\n",
       "      <td>14.0</td>\n",
       "      <td>15200</td>\n",
       "      <td>0</td>\n",
       "      <td>0</td>\n",
       "      <td>1</td>\n",
       "      <td>0</td>\n",
       "      <td>0</td>\n",
       "    </tr>\n",
       "    <tr>\n",
       "      <th>2</th>\n",
       "      <td>0</td>\n",
       "      <td>0</td>\n",
       "      <td>10</td>\n",
       "      <td>0</td>\n",
       "      <td>0</td>\n",
       "      <td>12</td>\n",
       "      <td>14.0</td>\n",
       "      <td>17.0</td>\n",
       "      <td>1422</td>\n",
       "      <td>0</td>\n",
       "      <td>0</td>\n",
       "      <td>1</td>\n",
       "      <td>0</td>\n",
       "      <td>0</td>\n",
       "    </tr>\n",
       "    <tr>\n",
       "      <th>3</th>\n",
       "      <td>0</td>\n",
       "      <td>0</td>\n",
       "      <td>10</td>\n",
       "      <td>0</td>\n",
       "      <td>0</td>\n",
       "      <td>12</td>\n",
       "      <td>14.0</td>\n",
       "      <td>17.0</td>\n",
       "      <td>1057</td>\n",
       "      <td>0</td>\n",
       "      <td>0</td>\n",
       "      <td>1</td>\n",
       "      <td>0</td>\n",
       "      <td>0</td>\n",
       "    </tr>\n",
       "    <tr>\n",
       "      <th>4</th>\n",
       "      <td>1</td>\n",
       "      <td>6</td>\n",
       "      <td>16</td>\n",
       "      <td>2</td>\n",
       "      <td>0</td>\n",
       "      <td>8</td>\n",
       "      <td>14.0</td>\n",
       "      <td>17.0</td>\n",
       "      <td>7969</td>\n",
       "      <td>0</td>\n",
       "      <td>0</td>\n",
       "      <td>0</td>\n",
       "      <td>0</td>\n",
       "      <td>1</td>\n",
       "    </tr>\n",
       "  </tbody>\n",
       "</table>\n",
       "</div>"
      ],
      "text/plain": [
       "   Gender  Age  Occupation  City_Category  Marital_Status  Product_Category_1  \\\n",
       "0       0    0          10              0               0                   3   \n",
       "1       0    0          10              0               0                   1   \n",
       "2       0    0          10              0               0                  12   \n",
       "3       0    0          10              0               0                  12   \n",
       "4       1    6          16              2               0                   8   \n",
       "\n",
       "   Product_Category_2  Product_Category_3  Purchase  \\\n",
       "0                 4.0                 5.0      8370   \n",
       "1                 6.0                14.0     15200   \n",
       "2                14.0                17.0      1422   \n",
       "3                14.0                17.0      1057   \n",
       "4                14.0                17.0      7969   \n",
       "\n",
       "   Stay_In_Current_City_Years_0  Stay_In_Current_City_Years_1  \\\n",
       "0                             0                             0   \n",
       "1                             0                             0   \n",
       "2                             0                             0   \n",
       "3                             0                             0   \n",
       "4                             0                             0   \n",
       "\n",
       "   Stay_In_Current_City_Years_2  Stay_In_Current_City_Years_3  \\\n",
       "0                             1                             0   \n",
       "1                             1                             0   \n",
       "2                             1                             0   \n",
       "3                             1                             0   \n",
       "4                             0                             0   \n",
       "\n",
       "   Stay_In_Current_City_Years_4+  \n",
       "0                              0  \n",
       "1                              0  \n",
       "2                              0  \n",
       "3                              0  \n",
       "4                              1  "
      ]
     },
     "execution_count": 19,
     "metadata": {},
     "output_type": "execute_result"
    }
   ],
   "source": [
    "mice_kernel.mice(2)\n",
    "df_blacks_final = mice_kernel.complete_data()\n",
    "df_blacks_final.head()"
   ]
  },
  {
   "cell_type": "code",
   "execution_count": 20,
   "metadata": {},
   "outputs": [
    {
     "data": {
      "text/plain": [
       "Gender                           0\n",
       "Age                              0\n",
       "Occupation                       0\n",
       "City_Category                    0\n",
       "Marital_Status                   0\n",
       "Product_Category_1               0\n",
       "Product_Category_2               0\n",
       "Product_Category_3               0\n",
       "Purchase                         0\n",
       "Stay_In_Current_City_Years_0     0\n",
       "Stay_In_Current_City_Years_1     0\n",
       "Stay_In_Current_City_Years_2     0\n",
       "Stay_In_Current_City_Years_3     0\n",
       "Stay_In_Current_City_Years_4+    0\n",
       "dtype: int64"
      ]
     },
     "execution_count": 20,
     "metadata": {},
     "output_type": "execute_result"
    }
   ],
   "source": [
    "df_blacks_final.isnull().sum()"
   ]
  },
  {
   "cell_type": "code",
   "execution_count": 21,
   "metadata": {},
   "outputs": [
    {
     "name": "stdout",
     "output_type": "stream",
     "text": [
      "<class 'pandas.core.frame.DataFrame'>\n",
      "Int64Index: 550068 entries, 0 to 550067\n",
      "Data columns (total 14 columns):\n",
      " #   Column                         Non-Null Count   Dtype  \n",
      "---  ------                         --------------   -----  \n",
      " 0   Gender                         550068 non-null  int64  \n",
      " 1   Age                            550068 non-null  int64  \n",
      " 2   Occupation                     550068 non-null  int64  \n",
      " 3   City_Category                  550068 non-null  int64  \n",
      " 4   Marital_Status                 550068 non-null  int64  \n",
      " 5   Product_Category_1             550068 non-null  int64  \n",
      " 6   Product_Category_2             550068 non-null  float64\n",
      " 7   Product_Category_3             550068 non-null  float64\n",
      " 8   Purchase                       550068 non-null  int64  \n",
      " 9   Stay_In_Current_City_Years_0   550068 non-null  uint8  \n",
      " 10  Stay_In_Current_City_Years_1   550068 non-null  uint8  \n",
      " 11  Stay_In_Current_City_Years_2   550068 non-null  uint8  \n",
      " 12  Stay_In_Current_City_Years_3   550068 non-null  uint8  \n",
      " 13  Stay_In_Current_City_Years_4+  550068 non-null  uint8  \n",
      "dtypes: float64(2), int64(7), uint8(5)\n",
      "memory usage: 44.6 MB\n"
     ]
    }
   ],
   "source": [
    "df_blacks_final.info()"
   ]
  },
  {
   "cell_type": "code",
   "execution_count": 22,
   "metadata": {},
   "outputs": [],
   "source": [
    "df_blacks_final['Purchase_level'] = df_blacks_final['Purchase'].apply(\n",
    "    lambda q: 0 if q <= 9000 else 1)"
   ]
  },
  {
   "cell_type": "code",
   "execution_count": 23,
   "metadata": {},
   "outputs": [],
   "source": [
    "# Drop the target value\n",
    "x = df_blacks_final.drop(['Purchase', 'Purchase_level'], axis=1)\n",
    "y = df_blacks_final['Purchase_level']"
   ]
  },
  {
   "cell_type": "code",
   "execution_count": 24,
   "metadata": {},
   "outputs": [
    {
     "name": "stdout",
     "output_type": "stream",
     "text": [
      "<class 'pandas.core.frame.DataFrame'>\n",
      "Int64Index: 550068 entries, 0 to 550067\n",
      "Data columns (total 13 columns):\n",
      " #   Column                         Non-Null Count   Dtype  \n",
      "---  ------                         --------------   -----  \n",
      " 0   Gender                         550068 non-null  int64  \n",
      " 1   Age                            550068 non-null  int64  \n",
      " 2   Occupation                     550068 non-null  int64  \n",
      " 3   City_Category                  550068 non-null  int64  \n",
      " 4   Marital_Status                 550068 non-null  int64  \n",
      " 5   Product_Category_1             550068 non-null  int64  \n",
      " 6   Product_Category_2             550068 non-null  float64\n",
      " 7   Product_Category_3             550068 non-null  float64\n",
      " 8   Stay_In_Current_City_Years_0   550068 non-null  uint8  \n",
      " 9   Stay_In_Current_City_Years_1   550068 non-null  uint8  \n",
      " 10  Stay_In_Current_City_Years_2   550068 non-null  uint8  \n",
      " 11  Stay_In_Current_City_Years_3   550068 non-null  uint8  \n",
      " 12  Stay_In_Current_City_Years_4+  550068 non-null  uint8  \n",
      "dtypes: float64(2), int64(6), uint8(5)\n",
      "memory usage: 40.4 MB\n"
     ]
    }
   ],
   "source": [
    "x.info()"
   ]
  },
  {
   "cell_type": "markdown",
   "metadata": {},
   "source": [
    "### Dataset division"
   ]
  },
  {
   "cell_type": "code",
   "execution_count": 25,
   "metadata": {},
   "outputs": [],
   "source": [
    "# Normalization\n",
    "x = x.to_numpy()\n",
    "y = y.to_numpy()\n",
    "x_normalized = (x - np.min(x, axis=0))/(np.max(x, axis=0) - np.min(x, axis=0))"
   ]
  },
  {
   "cell_type": "code",
   "execution_count": 26,
   "metadata": {},
   "outputs": [],
   "source": [
    "idx = np.random.permutation(x_normalized.shape[0])\n",
    "train_idx = idx[0:int(0.80*len(idx))]\n",
    "valid_idx = idx[int(0.80*len(idx)):int(0.90*len(idx)):]\n",
    "test_idx = idx[int(0.90*len(idx)):]"
   ]
  },
  {
   "cell_type": "code",
   "execution_count": 27,
   "metadata": {},
   "outputs": [],
   "source": [
    "# Splitting the dataset in training and validation\n",
    "train_x = x_normalized[train_idx]\n",
    "train_y = y[train_idx]\n",
    "valid_x = x_normalized[valid_idx]\n",
    "valid_y = y[valid_idx]\n",
    "test_x = x_normalized[test_idx]\n",
    "test_y = y[test_idx]\n",
    "\n",
    "n_train = train_x.shape[0]\n",
    "n_valid = valid_x.shape[0]\n",
    "n_test = test_x.shape[0]"
   ]
  },
  {
   "cell_type": "markdown",
   "metadata": {},
   "source": [
    "### Training neural network with Pytorch"
   ]
  },
  {
   "cell_type": "markdown",
   "metadata": {},
   "source": [
    "#### Training model without embeddings"
   ]
  },
  {
   "cell_type": "code",
   "execution_count": 28,
   "metadata": {},
   "outputs": [],
   "source": [
    "# Based on the Deep Learning subject from CEIA - UBA @mumalliot\n",
    "from typing import Any\n",
    "\n",
    "class MyDataset(Dataset):\n",
    "    # Class constructor\n",
    "    def __init__(self, x, y) -> None:\n",
    "        self.x = x\n",
    "        self.y = y\n",
    "\n",
    "    # Define the len() function behavior above object\n",
    "\n",
    "    def __len__(self):\n",
    "        return self.x.shape[0]\n",
    "\n",
    "    def __getitem__(self, index: Any) -> Any:\n",
    "        return self.x[index], self.y[index]"
   ]
  },
  {
   "cell_type": "code",
   "execution_count": 29,
   "metadata": {},
   "outputs": [],
   "source": [
    "# Making the dataset for training\n",
    "train_df = MyDataset(train_x, train_y)\n",
    "\n",
    "# Making the dataset for testing\n",
    "test_df = MyDataset(test_x, test_y)\n",
    "\n",
    "# Making the dataset for training\n",
    "validation_df = MyDataset(valid_x, valid_y)"
   ]
  },
  {
   "cell_type": "code",
   "execution_count": 30,
   "metadata": {},
   "outputs": [],
   "source": [
    "# Train and valid dataloader\n",
    "train_dataloader = DataLoader(train_df, batch_size=64, shuffle=True)\n",
    "test_dataloader = DataLoader(train_df, batch_size=64, shuffle=True)\n",
    "validation_dataloader = DataLoader(validation_df, batch_size=64)"
   ]
  },
  {
   "cell_type": "code",
   "execution_count": 31,
   "metadata": {},
   "outputs": [],
   "source": [
    "#Architecture\n",
    "class NNet(torch.nn.Module):\n",
    "    #Architecture definition\n",
    "    def __init__(self):\n",
    "        super().__init__()\n",
    "        self.linear_1 = torch.nn.Linear(in_features=13, out_features=200, bias=True)\n",
    "        self.relu_1 =  torch.nn.ReLU()\n",
    "        self.linear_2 = torch.nn.Linear(in_features=200, out_features=100, bias=True)\n",
    "        self.relu_2 =  torch.nn.ReLU()\n",
    "        self.output = torch.nn.Linear(in_features=100, out_features=1, bias=True)\n",
    "\n",
    "    #Forward\n",
    "    def forward(self, x):\n",
    "        x = self.linear_1(x)\n",
    "        x = self.relu_1(x)\n",
    "        x = self.linear_2(x)\n",
    "        x = self.relu_2(x)\n",
    "        x = self.output(x)\n",
    "\n",
    "        return x        "
   ]
  },
  {
   "cell_type": "code",
   "execution_count": 32,
   "metadata": {},
   "outputs": [],
   "source": [
    "#Instance the net object\n",
    "nnetwork = NNet()"
   ]
  },
  {
   "cell_type": "code",
   "execution_count": 33,
   "metadata": {},
   "outputs": [],
   "source": [
    "#Loss function and optimizer\n",
    "loss_function = torch.nn.BCEWithLogitsLoss(reduction='sum')\n",
    "optimizer = torch.optim.Adam(nnetwork.parameters(), lr=0.005)"
   ]
  },
  {
   "cell_type": "code",
   "execution_count": 34,
   "metadata": {},
   "outputs": [
    {
     "data": {
      "text/plain": [
       "device(type='cuda')"
      ]
     },
     "execution_count": 34,
     "metadata": {},
     "output_type": "execute_result"
    }
   ],
   "source": [
    "#Choosing the device where the script will be executed.\n",
    "device = torch.device('cuda' if torch.cuda.is_available() else 'cpu')\n",
    "device"
   ]
  },
  {
   "cell_type": "code",
   "execution_count": 35,
   "metadata": {},
   "outputs": [],
   "source": [
    "nnetwork = nnetwork.to(device)"
   ]
  },
  {
   "cell_type": "code",
   "execution_count": 37,
   "metadata": {},
   "outputs": [
    {
     "name": "stdout",
     "output_type": "stream",
     "text": [
      " Epoch 0 | Train/Valid loss: 0.357 / 0.350 | Train/Valid accuracy: 0.850 / 0.853\n",
      " Epoch 1 | Train/Valid loss: 0.344 / 0.336 | Train/Valid accuracy: 0.853 / 0.854\n",
      " Epoch 2 | Train/Valid loss: 0.335 / 0.333 | Train/Valid accuracy: 0.854 / 0.854\n",
      " Epoch 3 | Train/Valid loss: 0.333 / 0.330 | Train/Valid accuracy: 0.854 / 0.855\n",
      " Epoch 4 | Train/Valid loss: 0.330 / 0.322 | Train/Valid accuracy: 0.862 / 0.862\n",
      " Epoch 5 | Train/Valid loss: 0.320 / 0.317 | Train/Valid accuracy: 0.864 / 0.865\n",
      " Epoch 6 | Train/Valid loss: 0.319 / 0.319 | Train/Valid accuracy: 0.864 / 0.864\n",
      " Epoch 7 | Train/Valid loss: 0.330 / 0.329 | Train/Valid accuracy: 0.854 / 0.856\n",
      " Epoch 8 | Train/Valid loss: 0.330 / 0.335 | Train/Valid accuracy: 0.855 / 0.848\n",
      " Epoch 9 | Train/Valid loss: 0.329 / 0.327 | Train/Valid accuracy: 0.855 / 0.856\n",
      " Epoch 10 | Train/Valid loss: 0.329 / 0.327 | Train/Valid accuracy: 0.855 / 0.856\n",
      " Epoch 11 | Train/Valid loss: 0.329 / 0.327 | Train/Valid accuracy: 0.855 / 0.856\n",
      " Epoch 12 | Train/Valid loss: 0.328 / 0.328 | Train/Valid accuracy: 0.855 / 0.856\n",
      " Epoch 13 | Train/Valid loss: 0.328 / 0.328 | Train/Valid accuracy: 0.855 / 0.854\n",
      " Epoch 14 | Train/Valid loss: 0.329 / 0.327 | Train/Valid accuracy: 0.855 / 0.856\n",
      " Epoch 15 | Train/Valid loss: 0.328 / 0.327 | Train/Valid accuracy: 0.855 / 0.856\n",
      " Epoch 16 | Train/Valid loss: 0.328 / 0.329 | Train/Valid accuracy: 0.855 / 0.856\n",
      " Epoch 17 | Train/Valid loss: 0.327 / 0.327 | Train/Valid accuracy: 0.855 / 0.856\n",
      " Epoch 18 | Train/Valid loss: 0.327 / 0.327 | Train/Valid accuracy: 0.855 / 0.856\n",
      " Epoch 19 | Train/Valid loss: 0.327 / 0.328 | Train/Valid accuracy: 0.855 / 0.856\n",
      " Epoch 20 | Train/Valid loss: 0.327 / 0.325 | Train/Valid accuracy: 0.856 / 0.856\n",
      " Epoch 21 | Train/Valid loss: 0.327 / 0.326 | Train/Valid accuracy: 0.855 / 0.856\n",
      " Epoch 22 | Train/Valid loss: 0.327 / 0.327 | Train/Valid accuracy: 0.856 / 0.856\n",
      " Epoch 23 | Train/Valid loss: 0.327 / 0.327 | Train/Valid accuracy: 0.856 / 0.856\n",
      " Epoch 24 | Train/Valid loss: 0.327 / 0.326 | Train/Valid accuracy: 0.856 / 0.856\n",
      " Epoch 25 | Train/Valid loss: 0.327 / 0.326 | Train/Valid accuracy: 0.855 / 0.856\n",
      " Epoch 26 | Train/Valid loss: 0.326 / 0.326 | Train/Valid accuracy: 0.855 / 0.855\n",
      " Epoch 27 | Train/Valid loss: 0.326 / 0.327 | Train/Valid accuracy: 0.855 / 0.854\n",
      " Epoch 28 | Train/Valid loss: 0.326 / 0.326 | Train/Valid accuracy: 0.855 / 0.855\n",
      " Epoch 29 | Train/Valid loss: 0.326 / 0.326 | Train/Valid accuracy: 0.855 / 0.856\n",
      " Epoch 30 | Train/Valid loss: 0.326 / 0.333 | Train/Valid accuracy: 0.856 / 0.855\n",
      " Epoch 31 | Train/Valid loss: 0.326 / 0.333 | Train/Valid accuracy: 0.856 / 0.856\n",
      " Epoch 32 | Train/Valid loss: 0.326 / 0.325 | Train/Valid accuracy: 0.856 / 0.856\n",
      " Epoch 33 | Train/Valid loss: 0.326 / 0.326 | Train/Valid accuracy: 0.856 / 0.856\n",
      " Epoch 34 | Train/Valid loss: 0.326 / 0.326 | Train/Valid accuracy: 0.856 / 0.856\n",
      " Epoch 35 | Train/Valid loss: 0.326 / 0.325 | Train/Valid accuracy: 0.856 / 0.856\n",
      " Epoch 36 | Train/Valid loss: 0.326 / 0.326 | Train/Valid accuracy: 0.856 / 0.854\n",
      " Epoch 37 | Train/Valid loss: 0.326 / 0.325 | Train/Valid accuracy: 0.856 / 0.856\n",
      " Epoch 38 | Train/Valid loss: 0.326 / 0.325 | Train/Valid accuracy: 0.856 / 0.856\n",
      " Epoch 39 | Train/Valid loss: 0.326 / 0.327 | Train/Valid accuracy: 0.856 / 0.855\n",
      " Epoch 40 | Train/Valid loss: 0.326 / 0.324 | Train/Valid accuracy: 0.856 / 0.856\n",
      " Epoch 41 | Train/Valid loss: 0.326 / 0.325 | Train/Valid accuracy: 0.856 / 0.856\n",
      " Epoch 42 | Train/Valid loss: 0.326 / 0.326 | Train/Valid accuracy: 0.856 / 0.856\n",
      " Epoch 43 | Train/Valid loss: 0.326 / 0.324 | Train/Valid accuracy: 0.856 / 0.856\n",
      " Epoch 44 | Train/Valid loss: 0.326 / 0.331 | Train/Valid accuracy: 0.856 / 0.855\n",
      " Epoch 45 | Train/Valid loss: 0.325 / 0.325 | Train/Valid accuracy: 0.856 / 0.856\n",
      " Epoch 46 | Train/Valid loss: 0.326 / 0.325 | Train/Valid accuracy: 0.856 / 0.856\n",
      " Epoch 47 | Train/Valid loss: 0.326 / 0.324 | Train/Valid accuracy: 0.856 / 0.856\n",
      " Epoch 48 | Train/Valid loss: 0.325 / 0.325 | Train/Valid accuracy: 0.856 / 0.856\n",
      " Epoch 49 | Train/Valid loss: 0.326 / 0.325 | Train/Valid accuracy: 0.856 / 0.856\n",
      " Epoch 50 | Train/Valid loss: 0.325 / 0.325 | Train/Valid accuracy: 0.856 / 0.856\n",
      " Epoch 51 | Train/Valid loss: 0.325 / 0.325 | Train/Valid accuracy: 0.856 / 0.856\n",
      " Epoch 52 | Train/Valid loss: 0.325 / 0.325 | Train/Valid accuracy: 0.856 / 0.856\n",
      " Epoch 53 | Train/Valid loss: 0.326 / 0.325 | Train/Valid accuracy: 0.856 / 0.856\n",
      " Epoch 54 | Train/Valid loss: 0.326 / 0.329 | Train/Valid accuracy: 0.856 / 0.856\n",
      " Epoch 55 | Train/Valid loss: 0.326 / 0.327 | Train/Valid accuracy: 0.856 / 0.857\n",
      " Epoch 56 | Train/Valid loss: 0.326 / 0.325 | Train/Valid accuracy: 0.856 / 0.856\n",
      " Epoch 57 | Train/Valid loss: 0.325 / 0.325 | Train/Valid accuracy: 0.856 / 0.856\n",
      " Epoch 58 | Train/Valid loss: 0.325 / 0.325 | Train/Valid accuracy: 0.856 / 0.856\n",
      " Epoch 59 | Train/Valid loss: 0.325 / 0.326 | Train/Valid accuracy: 0.856 / 0.856\n",
      " Epoch 60 | Train/Valid loss: 0.325 / 0.325 | Train/Valid accuracy: 0.856 / 0.856\n",
      " Epoch 61 | Train/Valid loss: 0.325 / 0.325 | Train/Valid accuracy: 0.856 / 0.856\n",
      " Epoch 62 | Train/Valid loss: 0.325 / 0.325 | Train/Valid accuracy: 0.856 / 0.856\n",
      " Epoch 63 | Train/Valid loss: 0.325 / 0.324 | Train/Valid accuracy: 0.856 / 0.856\n",
      " Epoch 64 | Train/Valid loss: 0.325 / 0.325 | Train/Valid accuracy: 0.856 / 0.856\n",
      " Epoch 65 | Train/Valid loss: 0.325 / 0.329 | Train/Valid accuracy: 0.856 / 0.852\n",
      " Epoch 66 | Train/Valid loss: 0.326 / 0.326 | Train/Valid accuracy: 0.856 / 0.856\n",
      " Epoch 67 | Train/Valid loss: 0.325 / 0.326 | Train/Valid accuracy: 0.856 / 0.856\n",
      " Epoch 68 | Train/Valid loss: 0.325 / 0.325 | Train/Valid accuracy: 0.856 / 0.856\n",
      " Epoch 69 | Train/Valid loss: 0.326 / 0.324 | Train/Valid accuracy: 0.856 / 0.856\n",
      " Epoch 70 | Train/Valid loss: 0.325 / 0.325 | Train/Valid accuracy: 0.856 / 0.856\n",
      " Epoch 71 | Train/Valid loss: 0.325 / 0.324 | Train/Valid accuracy: 0.857 / 0.856\n",
      " Epoch 72 | Train/Valid loss: 0.314 / 0.313 | Train/Valid accuracy: 0.865 / 0.865\n",
      " Epoch 73 | Train/Valid loss: 0.313 / 0.316 | Train/Valid accuracy: 0.865 / 0.862\n",
      " Epoch 74 | Train/Valid loss: 0.314 / 0.315 | Train/Valid accuracy: 0.865 / 0.866\n",
      " Epoch 75 | Train/Valid loss: 0.313 / 0.315 | Train/Valid accuracy: 0.865 / 0.865\n",
      " Epoch 76 | Train/Valid loss: 0.313 / 0.314 | Train/Valid accuracy: 0.866 / 0.865\n",
      " Epoch 77 | Train/Valid loss: 0.313 / 0.312 | Train/Valid accuracy: 0.866 / 0.866\n",
      " Epoch 78 | Train/Valid loss: 0.313 / 0.315 | Train/Valid accuracy: 0.866 / 0.865\n",
      " Epoch 79 | Train/Valid loss: 0.313 / 0.313 | Train/Valid accuracy: 0.865 / 0.864\n",
      " Epoch 80 | Train/Valid loss: 0.313 / 0.313 | Train/Valid accuracy: 0.866 / 0.865\n",
      " Epoch 81 | Train/Valid loss: 0.313 / 0.312 | Train/Valid accuracy: 0.866 / 0.865\n",
      " Epoch 82 | Train/Valid loss: 0.313 / 0.313 | Train/Valid accuracy: 0.865 / 0.865\n",
      " Epoch 83 | Train/Valid loss: 0.312 / 0.313 | Train/Valid accuracy: 0.866 / 0.865\n",
      " Epoch 84 | Train/Valid loss: 0.312 / 0.314 | Train/Valid accuracy: 0.866 / 0.864\n",
      " Epoch 85 | Train/Valid loss: 0.312 / 0.313 | Train/Valid accuracy: 0.866 / 0.866\n",
      " Epoch 86 | Train/Valid loss: 0.312 / 0.313 | Train/Valid accuracy: 0.866 / 0.866\n",
      " Epoch 87 | Train/Valid loss: 0.313 / 0.313 | Train/Valid accuracy: 0.866 / 0.865\n",
      " Epoch 88 | Train/Valid loss: 0.312 / 0.315 | Train/Valid accuracy: 0.866 / 0.864\n",
      " Epoch 89 | Train/Valid loss: 0.312 / 0.314 | Train/Valid accuracy: 0.865 / 0.865\n",
      " Epoch 90 | Train/Valid loss: 0.312 / 0.312 | Train/Valid accuracy: 0.866 / 0.866\n",
      " Epoch 91 | Train/Valid loss: 0.312 / 0.313 | Train/Valid accuracy: 0.866 / 0.865\n",
      " Epoch 92 | Train/Valid loss: 0.312 / 0.313 | Train/Valid accuracy: 0.866 / 0.866\n",
      " Epoch 93 | Train/Valid loss: 0.312 / 0.314 | Train/Valid accuracy: 0.866 / 0.866\n",
      " Epoch 94 | Train/Valid loss: 0.312 / 0.316 | Train/Valid accuracy: 0.866 / 0.865\n",
      " Epoch 95 | Train/Valid loss: 0.313 / 0.314 | Train/Valid accuracy: 0.866 / 0.865\n",
      " Epoch 96 | Train/Valid loss: 0.312 / 0.312 | Train/Valid accuracy: 0.866 / 0.866\n",
      " Epoch 97 | Train/Valid loss: 0.312 / 0.312 | Train/Valid accuracy: 0.866 / 0.865\n",
      " Epoch 98 | Train/Valid loss: 0.312 / 0.314 | Train/Valid accuracy: 0.865 / 0.865\n",
      " Epoch 99 | Train/Valid loss: 0.312 / 0.313 | Train/Valid accuracy: 0.866 / 0.865\n"
     ]
    }
   ],
   "source": [
    "# Mini-btach algorithm\n",
    "# Number of epochs\n",
    "epochs = 100\n",
    "\n",
    "train_loss_by_epoch=[]\n",
    "valid_loss_by_epoch=[]\n",
    "test_loss_by_epoch=[]\n",
    "\n",
    "# Two loop for the Mini-batch algorithm\n",
    "for epoch in range(epochs):\n",
    "  \n",
    "  ############################################\n",
    "  ##                Training                ##\n",
    "  ############################################\n",
    "  nnetwork.train(True)\n",
    "\n",
    "  epoch_loss = 0\n",
    "  epoch_y_hat = []\n",
    "  epoch_y = []\n",
    "  \n",
    "  for i,data in enumerate(train_dataloader):\n",
    "    # Getting the data from the training batch\n",
    "    x_batch, y_batch = data\n",
    "    # Saving the batch to the device where neural network will be trained\n",
    "    x_batch = x_batch.to(device).float()\n",
    "    y_batch = y_batch.to(device).float().reshape(-1, 1)\n",
    "\n",
    "    ##*****************************************#\n",
    "    ##                Forward                 ##\n",
    "    ##*****************************************#\n",
    "    \n",
    "    # Cleaning the optimizer to begin a new calculus of gradient\n",
    "    optimizer.zero_grad()\n",
    "    nnet_output = nnetwork(x_batch)\n",
    "    y_batch_hat = torch.sigmoid(nnet_output)\n",
    "    \n",
    "    # Calculating of the loss\n",
    "    loss = loss_function(nnet_output, y_batch)\n",
    "\n",
    "    ##*****************************************#\n",
    "    ##           Backpropagation              ##\n",
    "    ##*****************************************#\n",
    "    loss.backward()\n",
    "\n",
    "    # Updating the parameters\n",
    "    optimizer.step()\n",
    "\n",
    "    # Saving the real values and predictions to calculate of the metrics\n",
    "    epoch_y += list(y_batch.detach().cpu().numpy())\n",
    "    epoch_y_hat += list(y_batch_hat.detach().cpu().numpy())\n",
    "    \n",
    "    epoch_loss = epoch_loss + loss.item()\n",
    "\n",
    "  # Calculating of the average of the loss\n",
    "  epoch_loss = epoch_loss / n_train\n",
    "  # Saving of the loss values to make the plot\n",
    "  train_loss_by_epoch.append(epoch_loss)\n",
    "  # Calculating the metric by epoch \n",
    "  accuracy = metrics.accuracy_score(epoch_y, [j>=0.5 for j in epoch_y_hat])\n",
    "\n",
    "  ##*****************************************#\n",
    "  ##               Validation               ##\n",
    "  ##*****************************************#\n",
    "  # Deactivating the calculus for the gradient in the validation process\n",
    "  nnetwork.train(False)\n",
    "\n",
    "  valid_epoch_loss = 0\n",
    "  valid_epoch_y_hat = []\n",
    "  valid_epoch_y = []\n",
    "\n",
    "  for i,data in enumerate(validation_dataloader):\n",
    "    # \n",
    "    x_batch, y_batch = data\n",
    "    # Sending the batch to the device where the neural network will be trained\n",
    "    x_batch = x_batch.to(device).float()\n",
    "    y_batch = y_batch.to(device).float().reshape(-1, 1)\n",
    "\n",
    "    ##*****************************************#\n",
    "    ##                Forward                 ##\n",
    "    ##*****************************************#\n",
    "    nnet_output = nnetwork(x_batch)\n",
    "    y_batch_hat = torch.sigmoid(nnet_output)\n",
    "    \n",
    "    # Calculating the loss values\n",
    "    loss = loss_function(nnet_output, y_batch)\n",
    "\n",
    "    # Not propagation in validation\n",
    "\n",
    "    #  Saving the real values and predictions to calculate of the metrics\n",
    "    valid_epoch_y += list(y_batch.detach().cpu().numpy())\n",
    "    valid_epoch_y_hat += list(y_batch_hat.detach().cpu().numpy())\n",
    "    # Saving of the batch loss\n",
    "    valid_epoch_loss = valid_epoch_loss + loss.item()\n",
    "\n",
    "  # Calculating the average of the loss\n",
    "  valid_epoch_loss = valid_epoch_loss / n_valid\n",
    "  # Saving the loss to plot\n",
    "  valid_loss_by_epoch.append(valid_epoch_loss)\n",
    "  # Calculating the metric by epoch \n",
    "  valid_accuracy = metrics.accuracy_score(valid_epoch_y, [j>=0.5 for j in valid_epoch_y_hat])\n",
    "\n",
    "  ############################################\n",
    "  ##                Testing                 ##\n",
    "  ############################################\n",
    "  nnetwork.train(True)\n",
    "\n",
    "  test_epoch_loss = 0\n",
    "  test_epoch_y_hat = []\n",
    "  test_epoch_y = []\n",
    "  \n",
    "  for i,data in enumerate(test_dataloader):\n",
    "    # Getting the data from the testing batch\n",
    "    x_batch, y_batch = data\n",
    "    # Saving the batch to the device where neural network will be trained\n",
    "    x_batch = x_batch.to(device).float()\n",
    "    y_batch = y_batch.to(device).float().reshape(-1, 1)\n",
    "\n",
    "    ##*****************************************#\n",
    "    ##                Forward                 ##\n",
    "    ##*****************************************#\n",
    "    \n",
    "    # Cleaning the optimizer to begin a new calculus of gradient\n",
    "    optimizer.zero_grad()\n",
    "    nnet_output = nnetwork(x_batch)\n",
    "    y_batch_hat = torch.sigmoid(nnet_output)\n",
    "    \n",
    "    # Calculating of the loss\n",
    "    loss = loss_function(nnet_output, y_batch)\n",
    "\n",
    "    ##*****************************************#\n",
    "    ##           Backpropagation              ##\n",
    "    ##*****************************************#\n",
    "    loss.backward()\n",
    "\n",
    "    # Updating the parameters\n",
    "    optimizer.step()\n",
    "\n",
    "    # Saving the real values and predictions to calculate of the metrics\n",
    "    test_epoch_y += list(y_batch.detach().cpu().numpy())\n",
    "    test_epoch_y_hat += list(y_batch_hat.detach().cpu().numpy())\n",
    "    \n",
    "    test_epoch_loss = test_epoch_loss + loss.item()\n",
    "\n",
    "  # Calculating of the average of the loss\n",
    "  test_epoch_loss = test_epoch_loss / n_test\n",
    "  # Saving of the loss values to make the plot\n",
    "  test_loss_by_epoch.append(test_epoch_loss)\n",
    "  # Calculating the metric by epoch \n",
    "  accuracy = metrics.accuracy_score(test_epoch_y, [j>=0.5 for j in test_epoch_y_hat])\n",
    "\n",
    "\n",
    "  ############################################\n",
    "  ##     Printing the results by epoch      ##\n",
    "  ############################################\n",
    "  print(f\" Epoch {epoch} | \" \\\n",
    "        f\"Train/Valid loss: {epoch_loss:.3f} / {valid_epoch_loss:.3f} | \" \\\n",
    "        f\"Train/Valid accuracy: {accuracy:.3f} / {valid_accuracy:.3f}\")"
   ]
  },
  {
   "cell_type": "code",
   "execution_count": 38,
   "metadata": {},
   "outputs": [
    {
     "data": {
      "text/plain": [
       "Text(0, 0.5, 'BCE')"
      ]
     },
     "execution_count": 38,
     "metadata": {},
     "output_type": "execute_result"
    },
    {
     "data": {
      "image/png": "[encoded data removed]",
      "text/plain": [
       "<Figure size 640x480 with 1 Axes>"
      ]
     },
     "metadata": {},
     "output_type": "display_data"
    }
   ],
   "source": [
    "# Plotting the loss by epoch\n",
    "fig, ax1= plt.subplots(1,1)\n",
    "ax1.plot(train_loss_by_epoch, label=\"Training loss\")\n",
    "ax1.plot(valid_loss_by_epoch, label=\"Validation loss\")\n",
    "ax1.legend()\n",
    "ax1.set_title(\"Loss by epoch\")\n",
    "ax1.set_xlabel(\"epoch\")\n",
    "ax1.set_ylabel(\"BCE\")"
   ]
  },
  {
   "cell_type": "markdown",
   "metadata": {},
   "source": [
    "#### Training model With embeddings"
   ]
  },
  {
   "cell_type": "code",
   "execution_count": 39,
   "metadata": {},
   "outputs": [
    {
     "data": {
      "text/plain": [
       "5891"
      ]
     },
     "execution_count": 39,
     "metadata": {},
     "output_type": "execute_result"
    }
   ],
   "source": [
    "# Verifying the length of user_id that will be used like embedding\n",
    "len(user_id.unique())"
   ]
  },
  {
   "cell_type": "code",
   "execution_count": 40,
   "metadata": {},
   "outputs": [
    {
     "data": {
      "text/plain": [
       "array([1000001, 1000002, 1000003, ..., 1004113, 1005391, 1001529])"
      ]
     },
     "execution_count": 40,
     "metadata": {},
     "output_type": "execute_result"
    }
   ],
   "source": [
    "# Characteristics of the user_id feature\n",
    "user_id.unique()"
   ]
  },
  {
   "cell_type": "code",
   "execution_count": 41,
   "metadata": {},
   "outputs": [
    {
     "data": {
      "text/plain": [
       "3631"
      ]
     },
     "execution_count": 41,
     "metadata": {},
     "output_type": "execute_result"
    }
   ],
   "source": [
    "# Verifyin the length of product_id that will be used like embedding\n",
    "len(product_id.unique())"
   ]
  },
  {
   "cell_type": "code",
   "execution_count": 42,
   "metadata": {},
   "outputs": [
    {
     "data": {
      "text/plain": [
       "array(['P00069042', 'P00248942', 'P00087842', ..., 'P00370293',\n",
       "       'P00371644', 'P00370853'], dtype=object)"
      ]
     },
     "execution_count": 42,
     "metadata": {},
     "output_type": "execute_result"
    }
   ],
   "source": [
    "# Characteristics of the product_id feature\n",
    "product_id.unique()"
   ]
  },
  {
   "cell_type": "code",
   "execution_count": 43,
   "metadata": {},
   "outputs": [],
   "source": [
    "#Transform the user_id variable to use like embedding\n",
    "user_id_to_idx = {value:i for i, value in enumerate(user_id.unique())}"
   ]
  },
  {
   "cell_type": "code",
   "execution_count": 44,
   "metadata": {},
   "outputs": [],
   "source": [
    "#Transforming the product_id variable to use like embedding\n",
    "product_id_to_idx = {value:j for j, value in enumerate(product_id.unique())}"
   ]
  },
  {
   "cell_type": "code",
   "execution_count": 45,
   "metadata": {},
   "outputs": [],
   "source": [
    "# Vectors of user_id and product_id on the dataset\n",
    "user_idx = np.array([user_id_to_idx[value] for value in user_id])\n",
    "product_idx = np.array([product_id_to_idx[value] for value in product_id])\n"
   ]
  },
  {
   "cell_type": "code",
   "execution_count": 46,
   "metadata": {},
   "outputs": [],
   "source": [
    "# Splitting up the vector user_idx in training, testing and validation\n",
    "user_idx_train = user_idx[train_idx]\n",
    "user_idx_validation = user_idx[valid_idx]\n",
    "user_idx_test = user_idx[test_idx]"
   ]
  },
  {
   "cell_type": "code",
   "execution_count": 47,
   "metadata": {},
   "outputs": [],
   "source": [
    "# Splitting up the vector product_idx in training, testing and validation\n",
    "product_idx_train = product_idx[train_idx]\n",
    "product_idx_validation = product_idx[valid_idx]\n",
    "product_idx_test = product_idx[test_idx]"
   ]
  },
  {
   "cell_type": "code",
   "execution_count": 48,
   "metadata": {},
   "outputs": [],
   "source": [
    "# Class Dataset with embeddings\n",
    "class DatasetWithEmbeddings(Dataset):\n",
    "\n",
    "    def __init__(self, x, user_idx, product_idx, y):\n",
    "        self.x = x\n",
    "        self.user_idx = user_idx\n",
    "        self.product_idx = product_idx\n",
    "        self.y = y\n",
    "\n",
    "    def __len__(self):\n",
    "        return self.x.shape[0]\n",
    "    \n",
    "    def __getitem__(self, index):\n",
    "        return self.x[index], self.user_idx[index], self.product_idx[index], self.y[index]"
   ]
  },
  {
   "cell_type": "code",
   "execution_count": 49,
   "metadata": {},
   "outputs": [],
   "source": [
    "train_df_embeddings = DatasetWithEmbeddings(train_x, user_idx_train, product_idx_train, train_y)\n",
    "validation_df_embeddings = DatasetWithEmbeddings(valid_x, user_idx_validation, product_idx_validation, valid_y)\n",
    "test_df_embeddings = DatasetWithEmbeddings(test_x, user_idx_test, product_idx_test, test_y)"
   ]
  },
  {
   "cell_type": "code",
   "execution_count": 50,
   "metadata": {},
   "outputs": [],
   "source": [
    "train_dataloader_embeddings = DataLoader(train_df_embeddings, batch_size=64, shuffle=True)\n",
    "validation_dataloader_embeddings = DataLoader(validation_df_embeddings, batch_size=64)\n",
    "test_dataloader_embeddings = DataLoader(test_df_embeddings, batch_size=64, shuffle=True)"
   ]
  },
  {
   "cell_type": "markdown",
   "metadata": {},
   "source": [
    "### Architecture of the neural network with embeddings"
   ]
  },
  {
   "cell_type": "code",
   "execution_count": 67,
   "metadata": {},
   "outputs": [],
   "source": [
    "class NNetworkWithEmbeddings(torch.nn.Module):\n",
    "\n",
    "  def __init__(self):\n",
    "    super().__init__()\n",
    "    self.embeddings_user = torch.nn.Embedding(num_embeddings=5891, embedding_dim=8)\n",
    "    self.embeddings_product = torch.nn.Embedding(num_embeddings=3631, embedding_dim=12)\n",
    "    self.dropout_1 =  torch.nn.Dropout(p=0.5)\n",
    "    self.linear_1 = torch.nn.Linear(in_features=33, out_features=300, bias=True)\n",
    "    self.relu_1 = torch.nn.ReLU()\n",
    "    self.linear_2 = torch.nn.Linear(in_features = 300, out_features=200, bias=True)\n",
    "    self.dropout_2 =  torch.nn.Dropout(p=0.5)\n",
    "    self.relu_2 = torch.nn.ReLU()\n",
    "    self.linear_3 = torch.nn.Linear(in_features=200, out_features=100, bias=True)\n",
    "    self.relu_3 = torch.nn.ReLU()\n",
    "    self.output = torch.nn.Linear(in_features = 100, out_features= 1, bias=True)\n",
    "\n",
    "  def forward(self, x, user_idx, product_idx):\n",
    "    embeddings_output_user = self.embeddings_user(user_idx)\n",
    "    embedding_output_product = self.embeddings_product(product_idx)\n",
    "    x = torch.cat([x, embeddings_output_user, embedding_output_product], dim=1)\n",
    "    x = self.linear_1(x)\n",
    "    x = self.dropout_1(x)\n",
    "    x = self.relu_1(x)\n",
    "    x = self.linear_2(x)\n",
    "    x = self.dropout_2(x)\n",
    "    x = self.relu_2(x)\n",
    "    x = self.linear_3(x)\n",
    "    x = self.relu_3(x)\n",
    "    x = self.output(x)\n",
    "    return x"
   ]
  },
  {
   "cell_type": "code",
   "execution_count": 68,
   "metadata": {},
   "outputs": [],
   "source": [
    "nnnetWithEmbeddings = NNetworkWithEmbeddings()\n",
    "nnnetWithEmbeddings = nnnetWithEmbeddings.to(device)"
   ]
  },
  {
   "cell_type": "code",
   "execution_count": 69,
   "metadata": {},
   "outputs": [
    {
     "data": {
      "text/plain": [
       "NNetworkWithEmbeddings(\n",
       "  (embeddings_user): Embedding(5891, 8)\n",
       "  (embeddings_product): Embedding(3631, 12)\n",
       "  (dropout_1): Dropout(p=0.5, inplace=False)\n",
       "  (linear_1): Linear(in_features=33, out_features=300, bias=True)\n",
       "  (relu_1): ReLU()\n",
       "  (linear_2): Linear(in_features=300, out_features=200, bias=True)\n",
       "  (dropout_2): Dropout(p=0.5, inplace=False)\n",
       "  (relu_2): ReLU()\n",
       "  (linear_3): Linear(in_features=200, out_features=100, bias=True)\n",
       "  (relu_3): ReLU()\n",
       "  (output): Linear(in_features=100, out_features=1, bias=True)\n",
       ")"
      ]
     },
     "execution_count": 69,
     "metadata": {},
     "output_type": "execute_result"
    }
   ],
   "source": [
    "nnnetWithEmbeddings"
   ]
  },
  {
   "cell_type": "code",
   "execution_count": 70,
   "metadata": {},
   "outputs": [],
   "source": [
    "# Loss function and optimizer\n",
    "loss_function = torch.nn.BCEWithLogitsLoss(reduction='sum')\n",
    "# Optimizer with L2 regularization(weight_decay parameter)\n",
    "optimizer = torch.optim.Adam(nnnetWithEmbeddings.parameters(), lr=0.005, weight_decay=0.01)"
   ]
  },
  {
   "cell_type": "code",
   "execution_count": 71,
   "metadata": {},
   "outputs": [
    {
     "name": "stdout",
     "output_type": "stream",
     "text": [
      " Epoch 0 | Train/Validation/test loss: 0.295 / 0.285 / 0.299| Train/Validation/test accuracy: 0.870 / 0.874 / 0.868\n",
      " Epoch 1 | Train/Validation/test loss: 0.295 / 0.287 / 0.276| Train/Validation/test accuracy: 0.870 / 0.873 / 0.877\n",
      " Epoch 2 | Train/Validation/test loss: 0.295 / 0.294 / 0.267| Train/Validation/test accuracy: 0.870 / 0.869 / 0.880\n",
      " Epoch 3 | Train/Validation/test loss: 0.295 / 0.296 / 0.261| Train/Validation/test accuracy: 0.870 / 0.866 / 0.882\n",
      " Epoch 4 | Train/Validation/test loss: 0.295 / 0.303 / 0.255| Train/Validation/test accuracy: 0.870 / 0.866 / 0.885\n",
      " Epoch 5 | Train/Validation/test loss: 0.295 / 0.309 / 0.253| Train/Validation/test accuracy: 0.870 / 0.860 / 0.883\n",
      " Epoch 6 | Train/Validation/test loss: 0.295 / 0.311 / 0.250| Train/Validation/test accuracy: 0.870 / 0.865 / 0.883\n",
      " Epoch 7 | Train/Validation/test loss: 0.295 / 0.301 / 0.246| Train/Validation/test accuracy: 0.870 / 0.864 / 0.884\n",
      " Epoch 8 | Train/Validation/test loss: 0.295 / 0.324 / 0.245| Train/Validation/test accuracy: 0.870 / 0.861 / 0.883\n",
      " Epoch 9 | Train/Validation/test loss: 0.295 / 0.308 / 0.244| Train/Validation/test accuracy: 0.870 / 0.865 / 0.882\n",
      " Epoch 10 | Train/Validation/test loss: 0.295 / 0.314 / 0.243| Train/Validation/test accuracy: 0.870 / 0.862 / 0.883\n",
      " Epoch 11 | Train/Validation/test loss: 0.295 / 0.332 / 0.241| Train/Validation/test accuracy: 0.870 / 0.852 / 0.881\n",
      " Epoch 12 | Train/Validation/test loss: 0.295 / 0.326 / 0.239| Train/Validation/test accuracy: 0.870 / 0.861 / 0.882\n",
      " Epoch 13 | Train/Validation/test loss: 0.295 / 0.332 / 0.240| Train/Validation/test accuracy: 0.870 / 0.859 / 0.884\n",
      " Epoch 14 | Train/Validation/test loss: 0.295 / 0.326 / 0.239| Train/Validation/test accuracy: 0.870 / 0.858 / 0.884\n",
      " Epoch 15 | Train/Validation/test loss: 0.295 / 0.324 / 0.239| Train/Validation/test accuracy: 0.870 / 0.861 / 0.882\n",
      " Epoch 16 | Train/Validation/test loss: 0.295 / 0.327 / 0.239| Train/Validation/test accuracy: 0.870 / 0.863 / 0.883\n",
      " Epoch 17 | Train/Validation/test loss: 0.295 / 0.327 / 0.238| Train/Validation/test accuracy: 0.870 / 0.853 / 0.883\n",
      " Epoch 18 | Train/Validation/test loss: 0.295 / 0.319 / 0.236| Train/Validation/test accuracy: 0.870 / 0.855 / 0.883\n",
      " Epoch 19 | Train/Validation/test loss: 0.295 / 0.353 / 0.236| Train/Validation/test accuracy: 0.870 / 0.862 / 0.884\n",
      " Epoch 20 | Train/Validation/test loss: 0.295 / 0.319 / 0.237| Train/Validation/test accuracy: 0.870 / 0.854 / 0.883\n",
      " Epoch 21 | Train/Validation/test loss: 0.295 / 0.350 / 0.237| Train/Validation/test accuracy: 0.870 / 0.857 / 0.883\n",
      " Epoch 22 | Train/Validation/test loss: 0.295 / 0.324 / 0.234| Train/Validation/test accuracy: 0.870 / 0.859 / 0.884\n",
      " Epoch 23 | Train/Validation/test loss: 0.295 / 0.325 / 0.234| Train/Validation/test accuracy: 0.870 / 0.863 / 0.885\n",
      " Epoch 24 | Train/Validation/test loss: 0.295 / 0.343 / 0.235| Train/Validation/test accuracy: 0.870 / 0.856 / 0.884\n",
      " Epoch 25 | Train/Validation/test loss: 0.295 / 0.325 / 0.236| Train/Validation/test accuracy: 0.870 / 0.860 / 0.885\n",
      " Epoch 26 | Train/Validation/test loss: 0.295 / 0.338 / 0.234| Train/Validation/test accuracy: 0.870 / 0.858 / 0.885\n",
      " Epoch 27 | Train/Validation/test loss: 0.295 / 0.327 / 0.234| Train/Validation/test accuracy: 0.870 / 0.861 / 0.885\n",
      " Epoch 28 | Train/Validation/test loss: 0.295 / 0.323 / 0.236| Train/Validation/test accuracy: 0.870 / 0.860 / 0.885\n",
      " Epoch 29 | Train/Validation/test loss: 0.295 / 0.340 / 0.235| Train/Validation/test accuracy: 0.870 / 0.863 / 0.884\n",
      " Epoch 30 | Train/Validation/test loss: 0.295 / 0.326 / 0.234| Train/Validation/test accuracy: 0.870 / 0.858 / 0.883\n",
      " Epoch 31 | Train/Validation/test loss: 0.295 / 0.326 / 0.235| Train/Validation/test accuracy: 0.870 / 0.860 / 0.883\n",
      " Epoch 32 | Train/Validation/test loss: 0.295 / 0.328 / 0.233| Train/Validation/test accuracy: 0.870 / 0.857 / 0.886\n",
      " Epoch 33 | Train/Validation/test loss: 0.295 / 0.319 / 0.234| Train/Validation/test accuracy: 0.870 / 0.861 / 0.885\n",
      " Epoch 34 | Train/Validation/test loss: 0.295 / 0.345 / 0.234| Train/Validation/test accuracy: 0.870 / 0.858 / 0.884\n",
      " Epoch 35 | Train/Validation/test loss: 0.295 / 0.331 / 0.234| Train/Validation/test accuracy: 0.870 / 0.858 / 0.883\n",
      " Epoch 36 | Train/Validation/test loss: 0.295 / 0.326 / 0.235| Train/Validation/test accuracy: 0.870 / 0.858 / 0.883\n",
      " Epoch 37 | Train/Validation/test loss: 0.295 / 0.340 / 0.233| Train/Validation/test accuracy: 0.870 / 0.861 / 0.885\n",
      " Epoch 38 | Train/Validation/test loss: 0.295 / 0.325 / 0.234| Train/Validation/test accuracy: 0.870 / 0.858 / 0.884\n",
      " Epoch 39 | Train/Validation/test loss: 0.295 / 0.348 / 0.234| Train/Validation/test accuracy: 0.870 / 0.863 / 0.885\n",
      " Epoch 40 | Train/Validation/test loss: 0.295 / 0.324 / 0.234| Train/Validation/test accuracy: 0.870 / 0.863 / 0.886\n",
      " Epoch 41 | Train/Validation/test loss: 0.295 / 0.319 / 0.232| Train/Validation/test accuracy: 0.870 / 0.856 / 0.886\n",
      " Epoch 42 | Train/Validation/test loss: 0.295 / 0.341 / 0.233| Train/Validation/test accuracy: 0.870 / 0.861 / 0.884\n",
      " Epoch 43 | Train/Validation/test loss: 0.295 / 0.326 / 0.235| Train/Validation/test accuracy: 0.870 / 0.857 / 0.884\n",
      " Epoch 44 | Train/Validation/test loss: 0.295 / 0.328 / 0.234| Train/Validation/test accuracy: 0.870 / 0.853 / 0.886\n",
      " Epoch 45 | Train/Validation/test loss: 0.295 / 0.332 / 0.234| Train/Validation/test accuracy: 0.870 / 0.855 / 0.886\n",
      " Epoch 46 | Train/Validation/test loss: 0.295 / 0.334 / 0.234| Train/Validation/test accuracy: 0.870 / 0.861 / 0.885\n",
      " Epoch 47 | Train/Validation/test loss: 0.295 / 0.331 / 0.234| Train/Validation/test accuracy: 0.870 / 0.860 / 0.883\n",
      " Epoch 48 | Train/Validation/test loss: 0.295 / 0.322 / 0.235| Train/Validation/test accuracy: 0.870 / 0.858 / 0.885\n",
      " Epoch 49 | Train/Validation/test loss: 0.295 / 0.345 / 0.234| Train/Validation/test accuracy: 0.870 / 0.860 / 0.885\n",
      " Epoch 50 | Train/Validation/test loss: 0.295 / 0.328 / 0.234| Train/Validation/test accuracy: 0.870 / 0.859 / 0.885\n",
      " Epoch 51 | Train/Validation/test loss: 0.295 / 0.333 / 0.234| Train/Validation/test accuracy: 0.870 / 0.859 / 0.884\n",
      " Epoch 52 | Train/Validation/test loss: 0.295 / 0.339 / 0.235| Train/Validation/test accuracy: 0.870 / 0.859 / 0.885\n",
      " Epoch 53 | Train/Validation/test loss: 0.295 / 0.320 / 0.233| Train/Validation/test accuracy: 0.870 / 0.861 / 0.884\n",
      " Epoch 54 | Train/Validation/test loss: 0.295 / 0.328 / 0.234| Train/Validation/test accuracy: 0.870 / 0.852 / 0.885\n",
      " Epoch 55 | Train/Validation/test loss: 0.295 / 0.338 / 0.235| Train/Validation/test accuracy: 0.870 / 0.860 / 0.883\n",
      " Epoch 56 | Train/Validation/test loss: 0.295 / 0.322 / 0.233| Train/Validation/test accuracy: 0.870 / 0.855 / 0.885\n",
      " Epoch 57 | Train/Validation/test loss: 0.295 / 0.321 / 0.233| Train/Validation/test accuracy: 0.870 / 0.853 / 0.885\n",
      " Epoch 58 | Train/Validation/test loss: 0.295 / 0.334 / 0.233| Train/Validation/test accuracy: 0.870 / 0.852 / 0.885\n",
      " Epoch 59 | Train/Validation/test loss: 0.295 / 0.327 / 0.233| Train/Validation/test accuracy: 0.870 / 0.861 / 0.885\n",
      " Epoch 60 | Train/Validation/test loss: 0.295 / 0.338 / 0.233| Train/Validation/test accuracy: 0.870 / 0.860 / 0.885\n",
      " Epoch 61 | Train/Validation/test loss: 0.295 / 0.325 / 0.234| Train/Validation/test accuracy: 0.870 / 0.860 / 0.885\n",
      " Epoch 62 | Train/Validation/test loss: 0.295 / 0.326 / 0.234| Train/Validation/test accuracy: 0.870 / 0.858 / 0.885\n",
      " Epoch 63 | Train/Validation/test loss: 0.295 / 0.331 / 0.234| Train/Validation/test accuracy: 0.870 / 0.860 / 0.884\n",
      " Epoch 64 | Train/Validation/test loss: 0.295 / 0.324 / 0.233| Train/Validation/test accuracy: 0.870 / 0.853 / 0.885\n",
      " Epoch 65 | Train/Validation/test loss: 0.295 / 0.322 / 0.234| Train/Validation/test accuracy: 0.870 / 0.859 / 0.885\n",
      " Epoch 66 | Train/Validation/test loss: 0.295 / 0.332 / 0.232| Train/Validation/test accuracy: 0.870 / 0.856 / 0.887\n",
      " Epoch 67 | Train/Validation/test loss: 0.295 / 0.344 / 0.235| Train/Validation/test accuracy: 0.870 / 0.862 / 0.886\n",
      " Epoch 68 | Train/Validation/test loss: 0.295 / 0.327 / 0.233| Train/Validation/test accuracy: 0.870 / 0.862 / 0.885\n",
      " Epoch 69 | Train/Validation/test loss: 0.295 / 0.330 / 0.233| Train/Validation/test accuracy: 0.870 / 0.856 / 0.886\n",
      " Epoch 70 | Train/Validation/test loss: 0.295 / 0.326 / 0.233| Train/Validation/test accuracy: 0.870 / 0.864 / 0.886\n",
      " Epoch 71 | Train/Validation/test loss: 0.295 / 0.328 / 0.234| Train/Validation/test accuracy: 0.870 / 0.860 / 0.883\n",
      " Epoch 72 | Train/Validation/test loss: 0.295 / 0.331 / 0.234| Train/Validation/test accuracy: 0.870 / 0.860 / 0.884\n",
      " Epoch 73 | Train/Validation/test loss: 0.295 / 0.325 / 0.233| Train/Validation/test accuracy: 0.870 / 0.852 / 0.884\n",
      " Epoch 74 | Train/Validation/test loss: 0.295 / 0.333 / 0.234| Train/Validation/test accuracy: 0.870 / 0.854 / 0.883\n",
      " Epoch 75 | Train/Validation/test loss: 0.295 / 0.336 / 0.233| Train/Validation/test accuracy: 0.870 / 0.857 / 0.884\n",
      " Epoch 76 | Train/Validation/test loss: 0.295 / 0.329 / 0.232| Train/Validation/test accuracy: 0.870 / 0.861 / 0.885\n",
      " Epoch 77 | Train/Validation/test loss: 0.295 / 0.327 / 0.233| Train/Validation/test accuracy: 0.870 / 0.860 / 0.884\n",
      " Epoch 78 | Train/Validation/test loss: 0.295 / 0.336 / 0.233| Train/Validation/test accuracy: 0.870 / 0.862 / 0.886\n",
      " Epoch 79 | Train/Validation/test loss: 0.295 / 0.328 / 0.233| Train/Validation/test accuracy: 0.870 / 0.857 / 0.885\n",
      " Epoch 80 | Train/Validation/test loss: 0.295 / 0.332 / 0.233| Train/Validation/test accuracy: 0.870 / 0.861 / 0.885\n",
      " Epoch 81 | Train/Validation/test loss: 0.295 / 0.323 / 0.234| Train/Validation/test accuracy: 0.870 / 0.860 / 0.884\n",
      " Epoch 82 | Train/Validation/test loss: 0.295 / 0.332 / 0.234| Train/Validation/test accuracy: 0.870 / 0.860 / 0.885\n",
      " Epoch 83 | Train/Validation/test loss: 0.295 / 0.323 / 0.234| Train/Validation/test accuracy: 0.870 / 0.863 / 0.883\n",
      " Epoch 84 | Train/Validation/test loss: 0.295 / 0.331 / 0.233| Train/Validation/test accuracy: 0.870 / 0.860 / 0.885\n",
      " Epoch 85 | Train/Validation/test loss: 0.295 / 0.342 / 0.233| Train/Validation/test accuracy: 0.870 / 0.857 / 0.883\n",
      " Epoch 86 | Train/Validation/test loss: 0.295 / 0.329 / 0.233| Train/Validation/test accuracy: 0.870 / 0.858 / 0.885\n",
      " Epoch 87 | Train/Validation/test loss: 0.295 / 0.345 / 0.233| Train/Validation/test accuracy: 0.870 / 0.860 / 0.884\n",
      " Epoch 88 | Train/Validation/test loss: 0.295 / 0.336 / 0.233| Train/Validation/test accuracy: 0.870 / 0.864 / 0.884\n",
      " Epoch 89 | Train/Validation/test loss: 0.295 / 0.338 / 0.234| Train/Validation/test accuracy: 0.870 / 0.858 / 0.885\n",
      " Epoch 90 | Train/Validation/test loss: 0.295 / 0.326 / 0.233| Train/Validation/test accuracy: 0.870 / 0.864 / 0.886\n",
      " Epoch 91 | Train/Validation/test loss: 0.295 / 0.333 / 0.234| Train/Validation/test accuracy: 0.870 / 0.862 / 0.886\n",
      " Epoch 92 | Train/Validation/test loss: 0.295 / 0.345 / 0.234| Train/Validation/test accuracy: 0.870 / 0.854 / 0.884\n",
      " Epoch 93 | Train/Validation/test loss: 0.295 / 0.325 / 0.233| Train/Validation/test accuracy: 0.870 / 0.859 / 0.884\n",
      " Epoch 94 | Train/Validation/test loss: 0.295 / 0.333 / 0.233| Train/Validation/test accuracy: 0.870 / 0.856 / 0.885\n",
      " Epoch 95 | Train/Validation/test loss: 0.295 / 0.338 / 0.235| Train/Validation/test accuracy: 0.870 / 0.860 / 0.884\n",
      " Epoch 96 | Train/Validation/test loss: 0.295 / 0.348 / 0.233| Train/Validation/test accuracy: 0.870 / 0.850 / 0.884\n",
      " Epoch 97 | Train/Validation/test loss: 0.295 / 0.324 / 0.234| Train/Validation/test accuracy: 0.870 / 0.862 / 0.885\n",
      " Epoch 98 | Train/Validation/test loss: 0.295 / 0.340 / 0.234| Train/Validation/test accuracy: 0.870 / 0.856 / 0.885\n",
      " Epoch 99 | Train/Validation/test loss: 0.295 / 0.328 / 0.231| Train/Validation/test accuracy: 0.870 / 0.854 / 0.885\n"
     ]
    }
   ],
   "source": [
    "# Mini-Batch function\n",
    "\n",
    "# Number of epochs\n",
    "epochs = 100\n",
    "\n",
    "train_loss_by_epoch=[]\n",
    "valid_loss_by_epoch=[]\n",
    "test_loss_by_epoch=[]\n",
    "\n",
    "\n",
    "for epoch in range(epochs):\n",
    "\n",
    "  ############################################\n",
    "  ##                Training                ##\n",
    "  ############################################\n",
    "  nnnetWithEmbeddings.train(True)\n",
    "\n",
    "  epoch_loss = 0\n",
    "  epoch_y_hat = []\n",
    "  epoch_y = []\n",
    "\n",
    "  for i,data in enumerate(train_dataloader_embeddings):\n",
    "    # Getting the batch data for training \n",
    "    x_batch, user_idx_batch, product_idx_batch, y_batch = data\n",
    "    # Sending the batch to the device where the neural network will be trained\n",
    "    x_batch = x_batch.to(device).float()\n",
    "    user_idx_batch = user_idx_batch.to(device).int()\n",
    "    product_idx_batch = product_idx_batch.to(device).int()\n",
    "    y_batch = y_batch.to(device).float().reshape(-1, 1)\n",
    "\n",
    "    ##*****************************************#\n",
    "    ##                  Forward               ##\n",
    "    ##*****************************************#\n",
    "    # Cleaning the optimizer to begin a new calculus of gradients\n",
    "    optimizer.zero_grad()\n",
    "    nnet_output = nnnetWithEmbeddings(x_batch, user_idx_batch, product_idx_batch)\n",
    "    y_batch_hat = torch.sigmoid(nnet_output)\n",
    "\n",
    "    # Calculating of the loss\n",
    "    loss = loss_function(nnet_output, y_batch)\n",
    "\n",
    "    ##*****************************************#\n",
    "    ##           Backpropagation              ##\n",
    "    ##*****************************************#\n",
    "    loss.backward()\n",
    "\n",
    "    # Updating the parameters\n",
    "    optimizer.step()\n",
    "\n",
    "    # Saving the values and predictions to calculate the metrics\n",
    "    epoch_y += list(y_batch.detach().cpu().numpy())\n",
    "    epoch_y_hat += list(y_batch_hat.detach().cpu().numpy())\n",
    "    \n",
    "    epoch_loss = epoch_loss + loss.item()\n",
    "\n",
    "  # Calculating the average of the loss\n",
    "  epoch_loss = epoch_loss / n_train\n",
    "  # Saving of the loss values to make the plot\n",
    "  train_loss_by_epoch.append(epoch_loss)\n",
    "  # Calculating the metric by epoch\n",
    "  accuracy = metrics.accuracy_score(epoch_y, [j>=0.5 for j in epoch_y_hat])\n",
    "\n",
    "\n",
    "for epoch in range(epochs):\n",
    "\n",
    "  ############################################\n",
    "  ##                Testing                 ##\n",
    "  ############################################\n",
    "  nnnetWithEmbeddings.train(True)\n",
    "\n",
    "  test_epoch_loss = 0\n",
    "  test_epoch_y_hat = []\n",
    "  test_epoch_y = []\n",
    "\n",
    "  for i,data in enumerate(test_dataloader_embeddings):\n",
    "    # Getting the batch data for testing\n",
    "    x_batch, user_idx_batch, product_idx_batch, y_batch = data\n",
    "    # Sending the batch to the device where the neural network will be trained\n",
    "    x_batch = x_batch.to(device).float()\n",
    "    user_idx_batch = user_idx_batch.to(device).int()\n",
    "    product_idx_batch = product_idx_batch.to(device).int()\n",
    "    y_batch = y_batch.to(device).float().reshape(-1, 1)\n",
    "\n",
    "    ##*****************************************#\n",
    "    ##                  Forward               ##\n",
    "    ##*****************************************#\n",
    "    # Cleaning the optimizer to begin a new calculus of gradients\n",
    "    optimizer.zero_grad()\n",
    "    nnet_output = nnnetWithEmbeddings(x_batch, user_idx_batch, product_idx_batch)\n",
    "    y_batch_hat = torch.sigmoid(nnet_output)\n",
    "\n",
    "    # Calculating of the loss\n",
    "    loss = loss_function(nnet_output, y_batch)\n",
    "\n",
    "    ##*****************************************#\n",
    "    ##           Backpropagation              ##\n",
    "    ##*****************************************#\n",
    "    loss.backward()\n",
    "\n",
    "    # Updating the parameters\n",
    "    optimizer.step()\n",
    "\n",
    "    # Saving the values and predictions to calculate the metrics\n",
    "    test_epoch_y += list(y_batch.detach().cpu().numpy())\n",
    "    test_epoch_y_hat += list(y_batch_hat.detach().cpu().numpy())\n",
    "    \n",
    "    test_epoch_loss = test_epoch_loss + loss.item()\n",
    "\n",
    "  # Calculating the average of the loss\n",
    "  test_epoch_loss = test_epoch_loss / n_test\n",
    "  # Saving of the loss values to make the plot\n",
    "  test_loss_by_epoch.append(test_epoch_loss)\n",
    "  # Calculating the metric by epoch\n",
    "  test_accuracy = metrics.accuracy_score(test_epoch_y, [j>=0.5 for j in test_epoch_y_hat])\n",
    "\n",
    "\n",
    "  ############################################\n",
    "  ##                Validation              ##\n",
    "  ############################################\n",
    "  # Deactivate the gradient \n",
    "  nnnetWithEmbeddings.train(False)\n",
    "\n",
    "  valid_epoch_loss = 0\n",
    "  valid_epoch_y_hat = []\n",
    "  valid_epoch_y = []\n",
    "\n",
    "  for i,data in enumerate(validation_dataloader_embeddings):\n",
    "    # Getting the data from validation batch\n",
    "    x_batch, user_idx_batch, product_idx_batch, y_batch = data\n",
    "    # Sending the batchs to the deivice where the neural network will be trained\n",
    "    x_batch = x_batch.to(device).float()\n",
    "    user_idx_batch = user_idx_batch.to(device).int()\n",
    "    product_idx_batch = product_idx_batch.to(device).int()\n",
    "    y_batch = y_batch.to(device).float().reshape(-1, 1)\n",
    "\n",
    "    ##*****************************************#\n",
    "    ##                   Forward              ##\n",
    "    ##*****************************************#\n",
    "    nnet_output = nnnetWithEmbeddings(x_batch, user_idx_batch, product_idx_batch)\n",
    "    y_batch_hat = torch.sigmoid(nnet_output)\n",
    "\n",
    "    # Calculating of the loss values\n",
    "    loss = loss_function(nnet_output, y_batch)\n",
    "\n",
    "    # En validación no hago backpropagation!!\n",
    "\n",
    "    # Saving the values and predictions to calculate the metrics\n",
    "    valid_epoch_y += list(y_batch.detach().cpu().numpy())\n",
    "    valid_epoch_y_hat += list(y_batch_hat.detach().cpu().numpy())\n",
    "    \n",
    "    valid_epoch_loss = valid_epoch_loss + loss.item()\n",
    "\n",
    "  # Calculating the average of the loss\n",
    "  valid_epoch_loss = valid_epoch_loss / n_valid\n",
    "  # Saving of the loss values to make the plot\n",
    "  valid_loss_by_epoch.append(valid_epoch_loss)\n",
    "  # Calculating the metric by epoch\n",
    "  valid_accuracy = metrics.accuracy_score(valid_epoch_y, [j>=0.5 for j in valid_epoch_y_hat])\n",
    "\n",
    "  ############################################\n",
    "  ##     Printing the results by epoch      ##\n",
    "  ############################################\n",
    "  print(f\" Epoch {epoch} | \" \\\n",
    "        f\"Train/Validation/test loss: {epoch_loss:.3f} / {valid_epoch_loss:.3f} / {test_epoch_loss:.3f}| \" \\\n",
    "        f\"Train/Validation/test accuracy: {accuracy:.3f} / {valid_accuracy:.3f} / {test_accuracy:.3f}\")"
   ]
  },
  {
   "cell_type": "code",
   "execution_count": 72,
   "metadata": {},
   "outputs": [
    {
     "data": {
      "text/plain": [
       "Text(0, 0.5, 'BCE')"
      ]
     },
     "execution_count": 72,
     "metadata": {},
     "output_type": "execute_result"
    },
    {
     "data": {
      "image/png": "[encoded data removed]",
      "text/plain": [
       "<Figure size 640x480 with 1 Axes>"
      ]
     },
     "metadata": {},
     "output_type": "display_data"
    }
   ],
   "source": [
    "# Plotting the loss by epoch\n",
    "fig, ax1= plt.subplots(1,1)\n",
    "ax1.plot(train_loss_by_epoch, label=\"Training loss\")\n",
    "ax1.plot(valid_loss_by_epoch, label=\"Validation loss\")\n",
    "ax1.plot(test_loss_by_epoch, label=\"Testing loss\")\n",
    "ax1.legend()\n",
    "ax1.set_title(\"Loss by epoch\")\n",
    "ax1.set_xlabel(\"epoch\")\n",
    "ax1.set_ylabel(\"BCE\")"
   ]
  },
  {
   "cell_type": "markdown",
   "metadata": {},
   "source": [
    "### Notas\n",
    "\n",
    "* Al comparar las dos arquitecturas (sin embedding y con embedding) se puede observar que lar arquitectura con embedding está presentando **overfitting**"
   ]
  }
 ],
 "metadata": {
  "kernelspec": {
   "display_name": "pytorch",
   "language": "python",
   "name": "python3"
  },
  "language_info": {
   "codemirror_mode": {
    "name": "ipython",
    "version": 3
   },
   "file_extension": ".py",
   "mimetype": "text/x-python",
   "name": "python",
   "nbconvert_exporter": "python",
   "pygments_lexer": "ipython3",
   "version": "3.9.17"
  },
  "orig_nbformat": 4
 },
 "nbformat": 4,
 "nbformat_minor": 2
}
