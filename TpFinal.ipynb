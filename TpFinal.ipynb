{
 "cells": [
  {
   "cell_type": "markdown",
   "metadata": {},
   "source": [
    "\n",
    "Descargar el dataset del siguiente link: https://drive.google.com/file/d/1X8_G5BpQMi-Nnbtms2RL8lcWSxzD8ixd/view?usp=sharing. El dataset son compras de productos que diferentes clientes realizaron durante un black sales. El dataset contiene información sobre las transacciones y el objetivo es poder utilizar el dataset para crear diferentes modelos que puedan predecir cuánto un cliente está dispuesto a gastar en un producto en el futuro. Particularmente, vamos a tratar este problema como una clasificación binaria donde queremos averiguar si el cliente va a gastar mucha plata (más de 9000) o poca plata (menos de 9000).\n",
    "\n",
    "- a)\tEntrenar un modelo de deep learning que no utilice embeddings y que no emplee el `user_id` ni el `product_id`.\n",
    "- b)\tEntrenar un modelo de deep learning que utilice embeddings tanto para los productos como los usuarios. Realizar el mapeo de identificador de producto y usuarios a indices antes de separar el dataset en training, validation y testing.\n",
    "- c)\tGrafique las curvas de la loss function en función de las epochs de cada modelo y comente lo necesario.\n",
    "- d) Compare el score de cada modelo."
   ]
  },
  {
   "cell_type": "code",
   "execution_count": 70,
   "metadata": {},
   "outputs": [],
   "source": [
    "# Import Libraries\n",
    "import pandas as pd\n",
    "import numpy as np\n",
    "import matplotlib.pyplot as plt\n",
    "import seaborn as sns\n",
    "from miceforest import ImputationKernel\n",
    "from sklearn.preprocessing import LabelEncoder\n",
    "from sklearn import metrics\n",
    "import torch\n",
    "from torch.utils.data import Dataset, DataLoader"
   ]
  },
  {
   "cell_type": "code",
   "execution_count": 71,
   "metadata": {},
   "outputs": [],
   "source": [
    "# Read dataset\n",
    "df_blacks = pd.read_csv('./data/dataset_black_sales.csv')"
   ]
  },
  {
   "cell_type": "markdown",
   "metadata": {},
   "source": [
    "### Data preparation"
   ]
  },
  {
   "cell_type": "code",
   "execution_count": 72,
   "metadata": {},
   "outputs": [
    {
     "data": {
      "text/plain": [
       "(550068, 12)"
      ]
     },
     "execution_count": 72,
     "metadata": {},
     "output_type": "execute_result"
    }
   ],
   "source": [
    "# Check for dataset dimensions\n",
    "df_blacks.shape"
   ]
  },
  {
   "cell_type": "code",
   "execution_count": 73,
   "metadata": {},
   "outputs": [
    {
     "name": "stdout",
     "output_type": "stream",
     "text": [
      "<class 'pandas.core.frame.DataFrame'>\n",
      "RangeIndex: 550068 entries, 0 to 550067\n",
      "Data columns (total 12 columns):\n",
      " #   Column                      Non-Null Count   Dtype  \n",
      "---  ------                      --------------   -----  \n",
      " 0   User_ID                     550068 non-null  int64  \n",
      " 1   Product_ID                  550068 non-null  object \n",
      " 2   Gender                      550068 non-null  object \n",
      " 3   Age                         550068 non-null  object \n",
      " 4   Occupation                  550068 non-null  int64  \n",
      " 5   City_Category               550068 non-null  object \n",
      " 6   Stay_In_Current_City_Years  550068 non-null  object \n",
      " 7   Marital_Status              550068 non-null  int64  \n",
      " 8   Product_Category_1          550068 non-null  int64  \n",
      " 9   Product_Category_2          376430 non-null  float64\n",
      " 10  Product_Category_3          166821 non-null  float64\n",
      " 11  Purchase                    550068 non-null  int64  \n",
      "dtypes: float64(2), int64(5), object(5)\n",
      "memory usage: 50.4+ MB\n"
     ]
    }
   ],
   "source": [
    "# Check the datatype and number features\n",
    "df_blacks.info()"
   ]
  },
  {
   "cell_type": "code",
   "execution_count": 74,
   "metadata": {},
   "outputs": [
    {
     "data": {
      "text/html": [
       "<div>\n",
       "<style scoped>\n",
       "    .dataframe tbody tr th:only-of-type {\n",
       "        vertical-align: middle;\n",
       "    }\n",
       "\n",
       "    .dataframe tbody tr th {\n",
       "        vertical-align: top;\n",
       "    }\n",
       "\n",
       "    .dataframe thead th {\n",
       "        text-align: right;\n",
       "    }\n",
       "</style>\n",
       "<table border=\"1\" class=\"dataframe\">\n",
       "  <thead>\n",
       "    <tr style=\"text-align: right;\">\n",
       "      <th></th>\n",
       "      <th>User_ID</th>\n",
       "      <th>Product_ID</th>\n",
       "      <th>Gender</th>\n",
       "      <th>Age</th>\n",
       "      <th>Occupation</th>\n",
       "      <th>City_Category</th>\n",
       "      <th>Stay_In_Current_City_Years</th>\n",
       "      <th>Marital_Status</th>\n",
       "      <th>Product_Category_1</th>\n",
       "      <th>Product_Category_2</th>\n",
       "      <th>Product_Category_3</th>\n",
       "      <th>Purchase</th>\n",
       "    </tr>\n",
       "  </thead>\n",
       "  <tbody>\n",
       "    <tr>\n",
       "      <th>0</th>\n",
       "      <td>1000001</td>\n",
       "      <td>P00069042</td>\n",
       "      <td>F</td>\n",
       "      <td>0-17</td>\n",
       "      <td>10</td>\n",
       "      <td>A</td>\n",
       "      <td>2</td>\n",
       "      <td>0</td>\n",
       "      <td>3</td>\n",
       "      <td>NaN</td>\n",
       "      <td>NaN</td>\n",
       "      <td>8370</td>\n",
       "    </tr>\n",
       "    <tr>\n",
       "      <th>1</th>\n",
       "      <td>1000001</td>\n",
       "      <td>P00248942</td>\n",
       "      <td>F</td>\n",
       "      <td>0-17</td>\n",
       "      <td>10</td>\n",
       "      <td>A</td>\n",
       "      <td>2</td>\n",
       "      <td>0</td>\n",
       "      <td>1</td>\n",
       "      <td>6.0</td>\n",
       "      <td>14.0</td>\n",
       "      <td>15200</td>\n",
       "    </tr>\n",
       "    <tr>\n",
       "      <th>2</th>\n",
       "      <td>1000001</td>\n",
       "      <td>P00087842</td>\n",
       "      <td>F</td>\n",
       "      <td>0-17</td>\n",
       "      <td>10</td>\n",
       "      <td>A</td>\n",
       "      <td>2</td>\n",
       "      <td>0</td>\n",
       "      <td>12</td>\n",
       "      <td>NaN</td>\n",
       "      <td>NaN</td>\n",
       "      <td>1422</td>\n",
       "    </tr>\n",
       "    <tr>\n",
       "      <th>3</th>\n",
       "      <td>1000001</td>\n",
       "      <td>P00085442</td>\n",
       "      <td>F</td>\n",
       "      <td>0-17</td>\n",
       "      <td>10</td>\n",
       "      <td>A</td>\n",
       "      <td>2</td>\n",
       "      <td>0</td>\n",
       "      <td>12</td>\n",
       "      <td>14.0</td>\n",
       "      <td>NaN</td>\n",
       "      <td>1057</td>\n",
       "    </tr>\n",
       "    <tr>\n",
       "      <th>4</th>\n",
       "      <td>1000002</td>\n",
       "      <td>P00285442</td>\n",
       "      <td>M</td>\n",
       "      <td>55+</td>\n",
       "      <td>16</td>\n",
       "      <td>C</td>\n",
       "      <td>4+</td>\n",
       "      <td>0</td>\n",
       "      <td>8</td>\n",
       "      <td>NaN</td>\n",
       "      <td>NaN</td>\n",
       "      <td>7969</td>\n",
       "    </tr>\n",
       "    <tr>\n",
       "      <th>5</th>\n",
       "      <td>1000003</td>\n",
       "      <td>P00193542</td>\n",
       "      <td>M</td>\n",
       "      <td>26-35</td>\n",
       "      <td>15</td>\n",
       "      <td>A</td>\n",
       "      <td>3</td>\n",
       "      <td>0</td>\n",
       "      <td>1</td>\n",
       "      <td>2.0</td>\n",
       "      <td>NaN</td>\n",
       "      <td>15227</td>\n",
       "    </tr>\n",
       "    <tr>\n",
       "      <th>6</th>\n",
       "      <td>1000004</td>\n",
       "      <td>P00184942</td>\n",
       "      <td>M</td>\n",
       "      <td>46-50</td>\n",
       "      <td>7</td>\n",
       "      <td>B</td>\n",
       "      <td>2</td>\n",
       "      <td>1</td>\n",
       "      <td>1</td>\n",
       "      <td>8.0</td>\n",
       "      <td>17.0</td>\n",
       "      <td>19215</td>\n",
       "    </tr>\n",
       "    <tr>\n",
       "      <th>7</th>\n",
       "      <td>1000004</td>\n",
       "      <td>P00346142</td>\n",
       "      <td>M</td>\n",
       "      <td>46-50</td>\n",
       "      <td>7</td>\n",
       "      <td>B</td>\n",
       "      <td>2</td>\n",
       "      <td>1</td>\n",
       "      <td>1</td>\n",
       "      <td>15.0</td>\n",
       "      <td>NaN</td>\n",
       "      <td>15854</td>\n",
       "    </tr>\n",
       "    <tr>\n",
       "      <th>8</th>\n",
       "      <td>1000004</td>\n",
       "      <td>P0097242</td>\n",
       "      <td>M</td>\n",
       "      <td>46-50</td>\n",
       "      <td>7</td>\n",
       "      <td>B</td>\n",
       "      <td>2</td>\n",
       "      <td>1</td>\n",
       "      <td>1</td>\n",
       "      <td>16.0</td>\n",
       "      <td>NaN</td>\n",
       "      <td>15686</td>\n",
       "    </tr>\n",
       "    <tr>\n",
       "      <th>9</th>\n",
       "      <td>1000005</td>\n",
       "      <td>P00274942</td>\n",
       "      <td>M</td>\n",
       "      <td>26-35</td>\n",
       "      <td>20</td>\n",
       "      <td>A</td>\n",
       "      <td>1</td>\n",
       "      <td>1</td>\n",
       "      <td>8</td>\n",
       "      <td>NaN</td>\n",
       "      <td>NaN</td>\n",
       "      <td>7871</td>\n",
       "    </tr>\n",
       "  </tbody>\n",
       "</table>\n",
       "</div>"
      ],
      "text/plain": [
       "   User_ID Product_ID Gender    Age  Occupation City_Category  \\\n",
       "0  1000001  P00069042      F   0-17          10             A   \n",
       "1  1000001  P00248942      F   0-17          10             A   \n",
       "2  1000001  P00087842      F   0-17          10             A   \n",
       "3  1000001  P00085442      F   0-17          10             A   \n",
       "4  1000002  P00285442      M    55+          16             C   \n",
       "5  1000003  P00193542      M  26-35          15             A   \n",
       "6  1000004  P00184942      M  46-50           7             B   \n",
       "7  1000004  P00346142      M  46-50           7             B   \n",
       "8  1000004   P0097242      M  46-50           7             B   \n",
       "9  1000005  P00274942      M  26-35          20             A   \n",
       "\n",
       "  Stay_In_Current_City_Years  Marital_Status  Product_Category_1  \\\n",
       "0                          2               0                   3   \n",
       "1                          2               0                   1   \n",
       "2                          2               0                  12   \n",
       "3                          2               0                  12   \n",
       "4                         4+               0                   8   \n",
       "5                          3               0                   1   \n",
       "6                          2               1                   1   \n",
       "7                          2               1                   1   \n",
       "8                          2               1                   1   \n",
       "9                          1               1                   8   \n",
       "\n",
       "   Product_Category_2  Product_Category_3  Purchase  \n",
       "0                 NaN                 NaN      8370  \n",
       "1                 6.0                14.0     15200  \n",
       "2                 NaN                 NaN      1422  \n",
       "3                14.0                 NaN      1057  \n",
       "4                 NaN                 NaN      7969  \n",
       "5                 2.0                 NaN     15227  \n",
       "6                 8.0                17.0     19215  \n",
       "7                15.0                 NaN     15854  \n",
       "8                16.0                 NaN     15686  \n",
       "9                 NaN                 NaN      7871  "
      ]
     },
     "execution_count": 74,
     "metadata": {},
     "output_type": "execute_result"
    }
   ],
   "source": [
    "df_blacks.head(10)"
   ]
  },
  {
   "cell_type": "code",
   "execution_count": 75,
   "metadata": {},
   "outputs": [],
   "source": [
    "# Display dataset distribution -- Based on the Data Analysis subject\n",
    "def display_dataset_distributions(dataset):\n",
    "    fig = dataset.hist(xlabelsize=12, ylabelsize=12, figsize=(22, 10))\n",
    "    [x.title.set_size(14) for x in fig.ravel()]\n",
    "    plt.tight_layout()\n",
    "    plt.show()"
   ]
  },
  {
   "cell_type": "code",
   "execution_count": 76,
   "metadata": {},
   "outputs": [
    {
     "data": {
      "image/png": "[encoded data removed]",
      "text/plain": [
       "<Figure size 2200x1000 with 9 Axes>"
      ]
     },
     "metadata": {},
     "output_type": "display_data"
    }
   ],
   "source": [
    "display_dataset_distributions(df_blacks)"
   ]
  },
  {
   "cell_type": "code",
   "execution_count": 77,
   "metadata": {},
   "outputs": [
    {
     "data": {
      "text/plain": [
       "User_ID                        5891\n",
       "Product_ID                     3631\n",
       "Gender                            2\n",
       "Age                               7\n",
       "Occupation                       21\n",
       "City_Category                     3\n",
       "Stay_In_Current_City_Years        5\n",
       "Marital_Status                    2\n",
       "Product_Category_1               20\n",
       "Product_Category_2               17\n",
       "Product_Category_3               15\n",
       "Purchase                      18105\n",
       "dtype: int64"
      ]
     },
     "execution_count": 77,
     "metadata": {},
     "output_type": "execute_result"
    }
   ],
   "source": [
    "# Check unique values\n",
    "df_blacks.nunique()"
   ]
  },
  {
   "cell_type": "code",
   "execution_count": 78,
   "metadata": {},
   "outputs": [
    {
     "name": "stderr",
     "output_type": "stream",
     "text": [
      "/tmp/ipykernel_694/302237164.py:2: UserWarning: \n",
      "\n",
      "`distplot` is a deprecated function and will be removed in seaborn v0.14.0.\n",
      "\n",
      "Please adapt your code to use either `displot` (a figure-level function with\n",
      "similar flexibility) or `histplot` (an axes-level function for histograms).\n",
      "\n",
      "For a guide to updating your code to use the new functions, please see\n",
      "https://gist.github.com/mwaskom/de44147ed2974457ad6372750bbe5751\n",
      "\n",
      "  sns.distplot(df_blacks[\"Purchase\"], color='b')\n"
     ]
    },
    {
     "data": {
      "image/png": "[encoded data removed]",
      "text/plain": [
       "<Figure size 640x480 with 1 Axes>"
      ]
     },
     "metadata": {},
     "output_type": "display_data"
    }
   ],
   "source": [
    "# Check of distribution of target variable\n",
    "sns.distplot(df_blacks[\"Purchase\"], color='b')\n",
    "plt.title(\"Purchase Distribution\")\n",
    "plt.show()"
   ]
  },
  {
   "cell_type": "code",
   "execution_count": 79,
   "metadata": {},
   "outputs": [
    {
     "data": {
      "text/plain": [
       "count    550068.000000\n",
       "mean       9263.968713\n",
       "std        5023.065394\n",
       "min          12.000000\n",
       "25%        5823.000000\n",
       "50%        8047.000000\n",
       "75%       12054.000000\n",
       "max       23961.000000\n",
       "Name: Purchase, dtype: float64"
      ]
     },
     "execution_count": 79,
     "metadata": {},
     "output_type": "execute_result"
    }
   ],
   "source": [
    "# Check the main statistical  variables of target feature\n",
    "df_blacks['Purchase'].describe()"
   ]
  },
  {
   "cell_type": "markdown",
   "metadata": {},
   "source": [
    "### Encoding categorical variables"
   ]
  },
  {
   "cell_type": "code",
   "execution_count": 80,
   "metadata": {},
   "outputs": [],
   "source": [
    "df_blacks_modified = pd.get_dummies(\n",
    "    df_blacks, columns=['Stay_In_Current_City_Years'])"
   ]
  },
  {
   "cell_type": "code",
   "execution_count": 81,
   "metadata": {},
   "outputs": [
    {
     "name": "stdout",
     "output_type": "stream",
     "text": [
      "<class 'pandas.core.frame.DataFrame'>\n",
      "RangeIndex: 550068 entries, 0 to 550067\n",
      "Data columns (total 16 columns):\n",
      " #   Column                         Non-Null Count   Dtype  \n",
      "---  ------                         --------------   -----  \n",
      " 0   User_ID                        550068 non-null  int64  \n",
      " 1   Product_ID                     550068 non-null  object \n",
      " 2   Gender                         550068 non-null  object \n",
      " 3   Age                            550068 non-null  object \n",
      " 4   Occupation                     550068 non-null  int64  \n",
      " 5   City_Category                  550068 non-null  object \n",
      " 6   Marital_Status                 550068 non-null  int64  \n",
      " 7   Product_Category_1             550068 non-null  int64  \n",
      " 8   Product_Category_2             376430 non-null  float64\n",
      " 9   Product_Category_3             166821 non-null  float64\n",
      " 10  Purchase                       550068 non-null  int64  \n",
      " 11  Stay_In_Current_City_Years_0   550068 non-null  uint8  \n",
      " 12  Stay_In_Current_City_Years_1   550068 non-null  uint8  \n",
      " 13  Stay_In_Current_City_Years_2   550068 non-null  uint8  \n",
      " 14  Stay_In_Current_City_Years_3   550068 non-null  uint8  \n",
      " 15  Stay_In_Current_City_Years_4+  550068 non-null  uint8  \n",
      "dtypes: float64(2), int64(5), object(4), uint8(5)\n",
      "memory usage: 48.8+ MB\n"
     ]
    }
   ],
   "source": [
    "df_blacks_modified.info()"
   ]
  },
  {
   "cell_type": "code",
   "execution_count": 82,
   "metadata": {},
   "outputs": [],
   "source": [
    "# Label encoding categorical variables\n",
    "label_encoder = LabelEncoder()"
   ]
  },
  {
   "cell_type": "code",
   "execution_count": 83,
   "metadata": {},
   "outputs": [],
   "source": [
    "df_blacks_modified['Gender'] = label_encoder.fit_transform(\n",
    "    df_blacks_modified['Gender'])"
   ]
  },
  {
   "cell_type": "code",
   "execution_count": 84,
   "metadata": {},
   "outputs": [],
   "source": [
    "df_blacks_modified['Age'] = label_encoder.fit_transform(\n",
    "    df_blacks_modified['Age'])"
   ]
  },
  {
   "cell_type": "code",
   "execution_count": 85,
   "metadata": {},
   "outputs": [],
   "source": [
    "df_blacks_modified['City_Category'] = label_encoder.fit_transform(\n",
    "    df_blacks_modified['City_Category'])"
   ]
  },
  {
   "cell_type": "code",
   "execution_count": 86,
   "metadata": {},
   "outputs": [
    {
     "name": "stdout",
     "output_type": "stream",
     "text": [
      "<class 'pandas.core.frame.DataFrame'>\n",
      "RangeIndex: 550068 entries, 0 to 550067\n",
      "Data columns (total 16 columns):\n",
      " #   Column                         Non-Null Count   Dtype  \n",
      "---  ------                         --------------   -----  \n",
      " 0   User_ID                        550068 non-null  int64  \n",
      " 1   Product_ID                     550068 non-null  object \n",
      " 2   Gender                         550068 non-null  int64  \n",
      " 3   Age                            550068 non-null  int64  \n",
      " 4   Occupation                     550068 non-null  int64  \n",
      " 5   City_Category                  550068 non-null  int64  \n",
      " 6   Marital_Status                 550068 non-null  int64  \n",
      " 7   Product_Category_1             550068 non-null  int64  \n",
      " 8   Product_Category_2             376430 non-null  float64\n",
      " 9   Product_Category_3             166821 non-null  float64\n",
      " 10  Purchase                       550068 non-null  int64  \n",
      " 11  Stay_In_Current_City_Years_0   550068 non-null  uint8  \n",
      " 12  Stay_In_Current_City_Years_1   550068 non-null  uint8  \n",
      " 13  Stay_In_Current_City_Years_2   550068 non-null  uint8  \n",
      " 14  Stay_In_Current_City_Years_3   550068 non-null  uint8  \n",
      " 15  Stay_In_Current_City_Years_4+  550068 non-null  uint8  \n",
      "dtypes: float64(2), int64(8), object(1), uint8(5)\n",
      "memory usage: 48.8+ MB\n"
     ]
    }
   ],
   "source": [
    "df_blacks_modified.info()"
   ]
  },
  {
   "cell_type": "markdown",
   "metadata": {},
   "source": [
    "### Missing variables imputation"
   ]
  },
  {
   "cell_type": "code",
   "execution_count": 87,
   "metadata": {},
   "outputs": [
    {
     "data": {
      "text/plain": [
       "0"
      ]
     },
     "execution_count": 87,
     "metadata": {},
     "output_type": "execute_result"
    }
   ],
   "source": [
    "# Check for NaN  values in target variable\n",
    "len(df_blacks_modified[df_blacks_modified['Purchase'].isna()])"
   ]
  },
  {
   "cell_type": "code",
   "execution_count": 88,
   "metadata": {},
   "outputs": [
    {
     "data": {
      "text/plain": [
       "User_ID                           0.000000\n",
       "Product_ID                        0.000000\n",
       "Gender                            0.000000\n",
       "Age                               0.000000\n",
       "Occupation                        0.000000\n",
       "City_Category                     0.000000\n",
       "Marital_Status                    0.000000\n",
       "Product_Category_1                0.000000\n",
       "Product_Category_2               31.566643\n",
       "Product_Category_3               69.672659\n",
       "Purchase                          0.000000\n",
       "Stay_In_Current_City_Years_0      0.000000\n",
       "Stay_In_Current_City_Years_1      0.000000\n",
       "Stay_In_Current_City_Years_2      0.000000\n",
       "Stay_In_Current_City_Years_3      0.000000\n",
       "Stay_In_Current_City_Years_4+     0.000000\n",
       "dtype: float64"
      ]
     },
     "execution_count": 88,
     "metadata": {},
     "output_type": "execute_result"
    }
   ],
   "source": [
    "# Check for NaN  values in the other variables\n",
    "df_blacks_modified = df_blacks_modified[df_blacks_modified['Purchase'].notna()]\n",
    "(df_blacks_modified.isnull().sum()/len(df_blacks_modified))*100"
   ]
  },
  {
   "cell_type": "code",
   "execution_count": 89,
   "metadata": {},
   "outputs": [],
   "source": [
    "# Saving USER_ID andd Product_ID for the model with embedding\n",
    "user_id = df_blacks_modified['User_ID']\n",
    "product_id = df_blacks_modified['Product_ID']"
   ]
  },
  {
   "cell_type": "code",
   "execution_count": 90,
   "metadata": {},
   "outputs": [],
   "source": [
    "# Drop User_id, Product_id\n",
    "df_blacks_preprocessed = df_blacks_modified.drop(\n",
    "    ['User_ID', 'Product_ID'], axis=1)"
   ]
  },
  {
   "cell_type": "code",
   "execution_count": 91,
   "metadata": {},
   "outputs": [],
   "source": [
    "# Missing variables imputation with MICE methods\n",
    "mice_kernel = ImputationKernel(\n",
    "    data=df_blacks_preprocessed, save_all_iterations=True,\n",
    "    random_state=42)"
   ]
  },
  {
   "cell_type": "code",
   "execution_count": 92,
   "metadata": {},
   "outputs": [
    {
     "data": {
      "text/html": [
       "<div>\n",
       "<style scoped>\n",
       "    .dataframe tbody tr th:only-of-type {\n",
       "        vertical-align: middle;\n",
       "    }\n",
       "\n",
       "    .dataframe tbody tr th {\n",
       "        vertical-align: top;\n",
       "    }\n",
       "\n",
       "    .dataframe thead th {\n",
       "        text-align: right;\n",
       "    }\n",
       "</style>\n",
       "<table border=\"1\" class=\"dataframe\">\n",
       "  <thead>\n",
       "    <tr style=\"text-align: right;\">\n",
       "      <th></th>\n",
       "      <th>Gender</th>\n",
       "      <th>Age</th>\n",
       "      <th>Occupation</th>\n",
       "      <th>City_Category</th>\n",
       "      <th>Marital_Status</th>\n",
       "      <th>Product_Category_1</th>\n",
       "      <th>Product_Category_2</th>\n",
       "      <th>Product_Category_3</th>\n",
       "      <th>Purchase</th>\n",
       "      <th>Stay_In_Current_City_Years_0</th>\n",
       "      <th>Stay_In_Current_City_Years_1</th>\n",
       "      <th>Stay_In_Current_City_Years_2</th>\n",
       "      <th>Stay_In_Current_City_Years_3</th>\n",
       "      <th>Stay_In_Current_City_Years_4+</th>\n",
       "    </tr>\n",
       "  </thead>\n",
       "  <tbody>\n",
       "    <tr>\n",
       "      <th>0</th>\n",
       "      <td>0</td>\n",
       "      <td>0</td>\n",
       "      <td>10</td>\n",
       "      <td>0</td>\n",
       "      <td>0</td>\n",
       "      <td>3</td>\n",
       "      <td>4.0</td>\n",
       "      <td>5.0</td>\n",
       "      <td>8370</td>\n",
       "      <td>0</td>\n",
       "      <td>0</td>\n",
       "      <td>1</td>\n",
       "      <td>0</td>\n",
       "      <td>0</td>\n",
       "    </tr>\n",
       "    <tr>\n",
       "      <th>1</th>\n",
       "      <td>0</td>\n",
       "      <td>0</td>\n",
       "      <td>10</td>\n",
       "      <td>0</td>\n",
       "      <td>0</td>\n",
       "      <td>1</td>\n",
       "      <td>6.0</td>\n",
       "      <td>14.0</td>\n",
       "      <td>15200</td>\n",
       "      <td>0</td>\n",
       "      <td>0</td>\n",
       "      <td>1</td>\n",
       "      <td>0</td>\n",
       "      <td>0</td>\n",
       "    </tr>\n",
       "    <tr>\n",
       "      <th>2</th>\n",
       "      <td>0</td>\n",
       "      <td>0</td>\n",
       "      <td>10</td>\n",
       "      <td>0</td>\n",
       "      <td>0</td>\n",
       "      <td>12</td>\n",
       "      <td>14.0</td>\n",
       "      <td>17.0</td>\n",
       "      <td>1422</td>\n",
       "      <td>0</td>\n",
       "      <td>0</td>\n",
       "      <td>1</td>\n",
       "      <td>0</td>\n",
       "      <td>0</td>\n",
       "    </tr>\n",
       "    <tr>\n",
       "      <th>3</th>\n",
       "      <td>0</td>\n",
       "      <td>0</td>\n",
       "      <td>10</td>\n",
       "      <td>0</td>\n",
       "      <td>0</td>\n",
       "      <td>12</td>\n",
       "      <td>14.0</td>\n",
       "      <td>17.0</td>\n",
       "      <td>1057</td>\n",
       "      <td>0</td>\n",
       "      <td>0</td>\n",
       "      <td>1</td>\n",
       "      <td>0</td>\n",
       "      <td>0</td>\n",
       "    </tr>\n",
       "    <tr>\n",
       "      <th>4</th>\n",
       "      <td>1</td>\n",
       "      <td>6</td>\n",
       "      <td>16</td>\n",
       "      <td>2</td>\n",
       "      <td>0</td>\n",
       "      <td>8</td>\n",
       "      <td>14.0</td>\n",
       "      <td>17.0</td>\n",
       "      <td>7969</td>\n",
       "      <td>0</td>\n",
       "      <td>0</td>\n",
       "      <td>0</td>\n",
       "      <td>0</td>\n",
       "      <td>1</td>\n",
       "    </tr>\n",
       "  </tbody>\n",
       "</table>\n",
       "</div>"
      ],
      "text/plain": [
       "   Gender  Age  Occupation  City_Category  Marital_Status  Product_Category_1  \\\n",
       "0       0    0          10              0               0                   3   \n",
       "1       0    0          10              0               0                   1   \n",
       "2       0    0          10              0               0                  12   \n",
       "3       0    0          10              0               0                  12   \n",
       "4       1    6          16              2               0                   8   \n",
       "\n",
       "   Product_Category_2  Product_Category_3  Purchase  \\\n",
       "0                 4.0                 5.0      8370   \n",
       "1                 6.0                14.0     15200   \n",
       "2                14.0                17.0      1422   \n",
       "3                14.0                17.0      1057   \n",
       "4                14.0                17.0      7969   \n",
       "\n",
       "   Stay_In_Current_City_Years_0  Stay_In_Current_City_Years_1  \\\n",
       "0                             0                             0   \n",
       "1                             0                             0   \n",
       "2                             0                             0   \n",
       "3                             0                             0   \n",
       "4                             0                             0   \n",
       "\n",
       "   Stay_In_Current_City_Years_2  Stay_In_Current_City_Years_3  \\\n",
       "0                             1                             0   \n",
       "1                             1                             0   \n",
       "2                             1                             0   \n",
       "3                             1                             0   \n",
       "4                             0                             0   \n",
       "\n",
       "   Stay_In_Current_City_Years_4+  \n",
       "0                              0  \n",
       "1                              0  \n",
       "2                              0  \n",
       "3                              0  \n",
       "4                              1  "
      ]
     },
     "execution_count": 92,
     "metadata": {},
     "output_type": "execute_result"
    }
   ],
   "source": [
    "mice_kernel.mice(2)\n",
    "df_blacks_final = mice_kernel.complete_data()\n",
    "df_blacks_final.head()"
   ]
  },
  {
   "cell_type": "code",
   "execution_count": 93,
   "metadata": {},
   "outputs": [
    {
     "data": {
      "text/plain": [
       "Gender                           0\n",
       "Age                              0\n",
       "Occupation                       0\n",
       "City_Category                    0\n",
       "Marital_Status                   0\n",
       "Product_Category_1               0\n",
       "Product_Category_2               0\n",
       "Product_Category_3               0\n",
       "Purchase                         0\n",
       "Stay_In_Current_City_Years_0     0\n",
       "Stay_In_Current_City_Years_1     0\n",
       "Stay_In_Current_City_Years_2     0\n",
       "Stay_In_Current_City_Years_3     0\n",
       "Stay_In_Current_City_Years_4+    0\n",
       "dtype: int64"
      ]
     },
     "execution_count": 93,
     "metadata": {},
     "output_type": "execute_result"
    }
   ],
   "source": [
    "df_blacks_final.isnull().sum()"
   ]
  },
  {
   "cell_type": "code",
   "execution_count": 94,
   "metadata": {},
   "outputs": [
    {
     "name": "stdout",
     "output_type": "stream",
     "text": [
      "<class 'pandas.core.frame.DataFrame'>\n",
      "Int64Index: 550068 entries, 0 to 550067\n",
      "Data columns (total 14 columns):\n",
      " #   Column                         Non-Null Count   Dtype  \n",
      "---  ------                         --------------   -----  \n",
      " 0   Gender                         550068 non-null  int64  \n",
      " 1   Age                            550068 non-null  int64  \n",
      " 2   Occupation                     550068 non-null  int64  \n",
      " 3   City_Category                  550068 non-null  int64  \n",
      " 4   Marital_Status                 550068 non-null  int64  \n",
      " 5   Product_Category_1             550068 non-null  int64  \n",
      " 6   Product_Category_2             550068 non-null  float64\n",
      " 7   Product_Category_3             550068 non-null  float64\n",
      " 8   Purchase                       550068 non-null  int64  \n",
      " 9   Stay_In_Current_City_Years_0   550068 non-null  uint8  \n",
      " 10  Stay_In_Current_City_Years_1   550068 non-null  uint8  \n",
      " 11  Stay_In_Current_City_Years_2   550068 non-null  uint8  \n",
      " 12  Stay_In_Current_City_Years_3   550068 non-null  uint8  \n",
      " 13  Stay_In_Current_City_Years_4+  550068 non-null  uint8  \n",
      "dtypes: float64(2), int64(7), uint8(5)\n",
      "memory usage: 44.6 MB\n"
     ]
    }
   ],
   "source": [
    "df_blacks_final.info()"
   ]
  },
  {
   "cell_type": "code",
   "execution_count": 95,
   "metadata": {},
   "outputs": [],
   "source": [
    "df_blacks_final['Purchase_level'] = df_blacks_final['Purchase'].apply(\n",
    "    lambda q: 0 if q <= 9000 else 1)"
   ]
  },
  {
   "cell_type": "code",
   "execution_count": 96,
   "metadata": {},
   "outputs": [],
   "source": [
    "# Drop the target value\n",
    "x = df_blacks_final.drop(['Purchase', 'Purchase_level'], axis=1)\n",
    "y = df_blacks_final['Purchase_level']"
   ]
  },
  {
   "cell_type": "code",
   "execution_count": 97,
   "metadata": {},
   "outputs": [
    {
     "name": "stdout",
     "output_type": "stream",
     "text": [
      "<class 'pandas.core.frame.DataFrame'>\n",
      "Int64Index: 550068 entries, 0 to 550067\n",
      "Data columns (total 13 columns):\n",
      " #   Column                         Non-Null Count   Dtype  \n",
      "---  ------                         --------------   -----  \n",
      " 0   Gender                         550068 non-null  int64  \n",
      " 1   Age                            550068 non-null  int64  \n",
      " 2   Occupation                     550068 non-null  int64  \n",
      " 3   City_Category                  550068 non-null  int64  \n",
      " 4   Marital_Status                 550068 non-null  int64  \n",
      " 5   Product_Category_1             550068 non-null  int64  \n",
      " 6   Product_Category_2             550068 non-null  float64\n",
      " 7   Product_Category_3             550068 non-null  float64\n",
      " 8   Stay_In_Current_City_Years_0   550068 non-null  uint8  \n",
      " 9   Stay_In_Current_City_Years_1   550068 non-null  uint8  \n",
      " 10  Stay_In_Current_City_Years_2   550068 non-null  uint8  \n",
      " 11  Stay_In_Current_City_Years_3   550068 non-null  uint8  \n",
      " 12  Stay_In_Current_City_Years_4+  550068 non-null  uint8  \n",
      "dtypes: float64(2), int64(6), uint8(5)\n",
      "memory usage: 40.4 MB\n"
     ]
    }
   ],
   "source": [
    "x.info()"
   ]
  },
  {
   "cell_type": "markdown",
   "metadata": {},
   "source": [
    "### Dataset division"
   ]
  },
  {
   "cell_type": "code",
   "execution_count": 98,
   "metadata": {},
   "outputs": [],
   "source": [
    "# Normalization\n",
    "x = x.to_numpy()\n",
    "y = y.to_numpy()\n",
    "x_normalized = (x - np.min(x, axis=0))/(np.max(x, axis=0) - np.min(x, axis=0))"
   ]
  },
  {
   "cell_type": "code",
   "execution_count": 99,
   "metadata": {},
   "outputs": [],
   "source": [
    "idx = np.random.permutation(x_normalized.shape[0])\n",
    "train_idx = idx[0:int(0.80*len(idx))]\n",
    "valid_idx = idx[int(0.80*len(idx)):int(0.90*len(idx)):]\n",
    "test_idx = idx[int(0.90*len(idx)):]"
   ]
  },
  {
   "cell_type": "code",
   "execution_count": 100,
   "metadata": {},
   "outputs": [],
   "source": [
    "# Splitting the dataset in training and validation\n",
    "train_x = x_normalized[train_idx]\n",
    "train_y = y[train_idx]\n",
    "valid_x = x_normalized[valid_idx]\n",
    "valid_y = y[valid_idx]\n",
    "test_x = x_normalized[test_idx]\n",
    "test_y = y[test_idx]\n",
    "\n",
    "n_train = train_x.shape[0]\n",
    "n_valid = valid_x.shape[0]\n",
    "n_test = test_x.shape[0]"
   ]
  },
  {
   "cell_type": "markdown",
   "metadata": {},
   "source": [
    "### Training neural network with Pytorc"
   ]
  },
  {
   "cell_type": "markdown",
   "metadata": {},
   "source": [
    "#### Training model without embeddings"
   ]
  },
  {
   "cell_type": "code",
   "execution_count": 101,
   "metadata": {},
   "outputs": [],
   "source": [
    "# Based on the Deep Learning subject from CEIA - UBA @mumalliot\n",
    "from typing import Any\n",
    "\n",
    "\n",
    "class MyDataset(Dataset):\n",
    "\n",
    "    # Class constructor\n",
    "    def __init__(self, x, y) -> None:\n",
    "        self.x = x\n",
    "        self.y = y\n",
    "\n",
    "    # Define the len() function behavior above object\n",
    "\n",
    "    def __len__(self):\n",
    "        return self.x.shape[0]\n",
    "\n",
    "    def __getitem__(self, index: Any) -> Any:\n",
    "        return self.x[index], self.y[index]"
   ]
  },
  {
   "cell_type": "code",
   "execution_count": 102,
   "metadata": {},
   "outputs": [],
   "source": [
    "# Making the dataset for training\n",
    "train_df = MyDataset(train_x, train_y)\n",
    "\n",
    "# Making the dataset for testing\n",
    "test_df = MyDataset(test_x, test_y)\n",
    "\n",
    "# Making the dataset for training\n",
    "validation_df = MyDataset(valid_x, valid_y)"
   ]
  },
  {
   "cell_type": "code",
   "execution_count": 103,
   "metadata": {},
   "outputs": [],
   "source": [
    "# Train and valid dataloader\n",
    "train_dataloader = DataLoader(train_df, batch_size=64, shuffle=True)\n",
    "test_dataloader = DataLoader(train_df, batch_size=64, shuffle=True)\n",
    "validation_dataloader = DataLoader(validation_df, batch_size=64)"
   ]
  },
  {
   "cell_type": "code",
   "execution_count": 104,
   "metadata": {},
   "outputs": [],
   "source": [
    "#Architecture\n",
    "\n",
    "class NNet(torch.nn.Module):\n",
    "    #Architecture definition\n",
    "    def __init__(self):\n",
    "        super().__init__()\n",
    "        self.linear_1 = torch.nn.Linear(in_features=13, out_features=200, bias=True)\n",
    "        self.relu_1 =  torch.nn.ReLU()\n",
    "        self.linear_2 = torch.nn.Linear(in_features=200, out_features=100, bias=True)\n",
    "        self.relu_2 =  torch.nn.ReLU()\n",
    "        self.output = torch.nn.Linear(in_features=100, out_features=1, bias=True)\n",
    "\n",
    "    #Forward\n",
    "    def forward(self, x):\n",
    "        x = self.linear_1(x)\n",
    "        x = self.relu_1(x)\n",
    "        x = self.linear_2(x)\n",
    "        x = self.relu_2(x)\n",
    "        x = self.output(x)\n",
    "\n",
    "        return x        "
   ]
  },
  {
   "cell_type": "code",
   "execution_count": 105,
   "metadata": {},
   "outputs": [],
   "source": [
    "#Instance the net object\n",
    "nnetwork = NNet()"
   ]
  },
  {
   "cell_type": "code",
   "execution_count": 106,
   "metadata": {},
   "outputs": [],
   "source": [
    "#Loss function and optimizer\n",
    "loss_function = torch.nn.BCEWithLogitsLoss(reduction='sum')\n",
    "optimizer = torch.optim.Adam(nnetwork.parameters(), lr=0.005)"
   ]
  },
  {
   "cell_type": "code",
   "execution_count": 107,
   "metadata": {},
   "outputs": [
    {
     "data": {
      "text/plain": [
       "device(type='cuda')"
      ]
     },
     "execution_count": 107,
     "metadata": {},
     "output_type": "execute_result"
    }
   ],
   "source": [
    "#Choosing the device where the script will be executed.\n",
    "device = torch.device('cuda' if torch.cuda.is_available() else 'cpu')\n",
    "device"
   ]
  },
  {
   "cell_type": "code",
   "execution_count": 108,
   "metadata": {},
   "outputs": [],
   "source": [
    "nnetwork = nnetwork.to(device)"
   ]
  },
  {
   "cell_type": "code",
   "execution_count": 109,
   "metadata": {},
   "outputs": [
    {
     "name": "stdout",
     "output_type": "stream",
     "text": [
      " Epoch 0 | Train/Valid loss: 0.405 / 0.352 | Train/Valid accuracy: 0.849 / 0.849\n",
      " Epoch 1 | Train/Valid loss: 0.349 / 0.334 | Train/Valid accuracy: 0.858 / 0.857\n",
      " Epoch 2 | Train/Valid loss: 0.327 / 0.319 | Train/Valid accuracy: 0.861 / 0.865\n",
      " Epoch 3 | Train/Valid loss: 0.325 / 0.317 | Train/Valid accuracy: 0.862 / 0.865\n",
      " Epoch 4 | Train/Valid loss: 0.322 / 0.318 | Train/Valid accuracy: 0.863 / 0.863\n",
      " Epoch 5 | Train/Valid loss: 0.321 / 0.324 | Train/Valid accuracy: 0.863 / 0.861\n",
      " Epoch 6 | Train/Valid loss: 0.320 / 0.315 | Train/Valid accuracy: 0.852 / 0.866\n",
      " Epoch 7 | Train/Valid loss: 0.326 / 0.316 | Train/Valid accuracy: 0.864 / 0.866\n",
      " Epoch 8 | Train/Valid loss: 0.318 / 0.315 | Train/Valid accuracy: 0.863 / 0.866\n",
      " Epoch 9 | Train/Valid loss: 0.317 / 0.316 | Train/Valid accuracy: 0.864 / 0.865\n",
      " Epoch 10 | Train/Valid loss: 0.318 / 0.313 | Train/Valid accuracy: 0.864 / 0.866\n",
      " Epoch 11 | Train/Valid loss: 0.318 / 0.314 | Train/Valid accuracy: 0.864 / 0.866\n",
      " Epoch 12 | Train/Valid loss: 0.318 / 0.313 | Train/Valid accuracy: 0.864 / 0.866\n",
      " Epoch 13 | Train/Valid loss: 0.317 / 0.313 | Train/Valid accuracy: 0.864 / 0.866\n",
      " Epoch 14 | Train/Valid loss: 0.317 / 0.314 | Train/Valid accuracy: 0.864 / 0.866\n",
      " Epoch 15 | Train/Valid loss: 0.317 / 0.313 | Train/Valid accuracy: 0.864 / 0.866\n",
      " Epoch 16 | Train/Valid loss: 0.317 / 0.314 | Train/Valid accuracy: 0.864 / 0.866\n",
      " Epoch 17 | Train/Valid loss: 0.317 / 0.314 | Train/Valid accuracy: 0.864 / 0.865\n",
      " Epoch 18 | Train/Valid loss: 0.317 / 0.312 | Train/Valid accuracy: 0.864 / 0.867\n",
      " Epoch 19 | Train/Valid loss: 0.316 / 0.313 | Train/Valid accuracy: 0.864 / 0.866\n",
      " Epoch 20 | Train/Valid loss: 0.316 / 0.328 | Train/Valid accuracy: 0.864 / 0.864\n",
      " Epoch 21 | Train/Valid loss: 0.315 / 0.313 | Train/Valid accuracy: 0.864 / 0.866\n",
      " Epoch 22 | Train/Valid loss: 0.316 / 0.315 | Train/Valid accuracy: 0.865 / 0.866\n",
      " Epoch 23 | Train/Valid loss: 0.316 / 0.313 | Train/Valid accuracy: 0.864 / 0.867\n",
      " Epoch 24 | Train/Valid loss: 0.316 / 0.318 | Train/Valid accuracy: 0.864 / 0.866\n",
      " Epoch 25 | Train/Valid loss: 0.316 / 0.313 | Train/Valid accuracy: 0.864 / 0.866\n",
      " Epoch 26 | Train/Valid loss: 0.316 / 0.314 | Train/Valid accuracy: 0.864 / 0.866\n",
      " Epoch 27 | Train/Valid loss: 0.316 / 0.312 | Train/Valid accuracy: 0.864 / 0.866\n",
      " Epoch 28 | Train/Valid loss: 0.316 / 0.313 | Train/Valid accuracy: 0.864 / 0.866\n",
      " Epoch 29 | Train/Valid loss: 0.316 / 0.313 | Train/Valid accuracy: 0.864 / 0.866\n",
      " Epoch 30 | Train/Valid loss: 0.315 / 0.313 | Train/Valid accuracy: 0.864 / 0.866\n",
      " Epoch 31 | Train/Valid loss: 0.316 / 0.314 | Train/Valid accuracy: 0.864 / 0.866\n",
      " Epoch 32 | Train/Valid loss: 0.315 / 0.313 | Train/Valid accuracy: 0.864 / 0.866\n",
      " Epoch 33 | Train/Valid loss: 0.316 / 0.314 | Train/Valid accuracy: 0.864 / 0.865\n",
      " Epoch 34 | Train/Valid loss: 0.316 / 0.313 | Train/Valid accuracy: 0.865 / 0.866\n",
      " Epoch 35 | Train/Valid loss: 0.316 / 0.313 | Train/Valid accuracy: 0.864 / 0.866\n",
      " Epoch 36 | Train/Valid loss: 0.315 / 0.313 | Train/Valid accuracy: 0.865 / 0.866\n",
      " Epoch 37 | Train/Valid loss: 0.316 / 0.314 | Train/Valid accuracy: 0.864 / 0.866\n",
      " Epoch 38 | Train/Valid loss: 0.315 / 0.313 | Train/Valid accuracy: 0.864 / 0.866\n",
      " Epoch 39 | Train/Valid loss: 0.316 / 0.313 | Train/Valid accuracy: 0.865 / 0.866\n",
      " Epoch 40 | Train/Valid loss: 0.315 / 0.312 | Train/Valid accuracy: 0.864 / 0.867\n",
      " Epoch 41 | Train/Valid loss: 0.315 / 0.313 | Train/Valid accuracy: 0.864 / 0.866\n",
      " Epoch 42 | Train/Valid loss: 0.315 / 0.313 | Train/Valid accuracy: 0.865 / 0.866\n",
      " Epoch 43 | Train/Valid loss: 0.316 / 0.312 | Train/Valid accuracy: 0.865 / 0.867\n",
      " Epoch 44 | Train/Valid loss: 0.315 / 0.312 | Train/Valid accuracy: 0.865 / 0.866\n",
      " Epoch 45 | Train/Valid loss: 0.315 / 0.311 | Train/Valid accuracy: 0.865 / 0.867\n",
      " Epoch 46 | Train/Valid loss: 0.315 / 0.313 | Train/Valid accuracy: 0.865 / 0.866\n",
      " Epoch 47 | Train/Valid loss: 0.315 / 0.312 | Train/Valid accuracy: 0.865 / 0.866\n",
      " Epoch 48 | Train/Valid loss: 0.315 / 0.313 | Train/Valid accuracy: 0.865 / 0.867\n",
      " Epoch 49 | Train/Valid loss: 0.315 / 0.313 | Train/Valid accuracy: 0.865 / 0.866\n",
      " Epoch 50 | Train/Valid loss: 0.315 / 0.315 | Train/Valid accuracy: 0.865 / 0.867\n",
      " Epoch 51 | Train/Valid loss: 0.315 / 0.312 | Train/Valid accuracy: 0.865 / 0.866\n",
      " Epoch 52 | Train/Valid loss: 0.315 / 0.312 | Train/Valid accuracy: 0.865 / 0.866\n",
      " Epoch 53 | Train/Valid loss: 0.315 / 0.312 | Train/Valid accuracy: 0.865 / 0.866\n",
      " Epoch 54 | Train/Valid loss: 0.315 / 0.313 | Train/Valid accuracy: 0.865 / 0.865\n",
      " Epoch 55 | Train/Valid loss: 0.315 / 0.312 | Train/Valid accuracy: 0.865 / 0.867\n",
      " Epoch 56 | Train/Valid loss: 0.315 / 0.312 | Train/Valid accuracy: 0.865 / 0.867\n",
      " Epoch 57 | Train/Valid loss: 0.315 / 0.311 | Train/Valid accuracy: 0.865 / 0.866\n",
      " Epoch 58 | Train/Valid loss: 0.315 / 0.313 | Train/Valid accuracy: 0.865 / 0.866\n",
      " Epoch 59 | Train/Valid loss: 0.315 / 0.313 | Train/Valid accuracy: 0.865 / 0.866\n",
      " Epoch 60 | Train/Valid loss: 0.315 / 0.312 | Train/Valid accuracy: 0.865 / 0.867\n",
      " Epoch 61 | Train/Valid loss: 0.315 / 0.314 | Train/Valid accuracy: 0.865 / 0.866\n",
      " Epoch 62 | Train/Valid loss: 0.315 / 0.312 | Train/Valid accuracy: 0.865 / 0.867\n",
      " Epoch 63 | Train/Valid loss: 0.315 / 0.311 | Train/Valid accuracy: 0.865 / 0.867\n",
      " Epoch 64 | Train/Valid loss: 0.315 / 0.313 | Train/Valid accuracy: 0.865 / 0.867\n",
      " Epoch 65 | Train/Valid loss: 0.315 / 0.312 | Train/Valid accuracy: 0.865 / 0.866\n",
      " Epoch 66 | Train/Valid loss: 0.315 / 0.313 | Train/Valid accuracy: 0.865 / 0.866\n",
      " Epoch 67 | Train/Valid loss: 0.315 / 0.312 | Train/Valid accuracy: 0.865 / 0.866\n",
      " Epoch 68 | Train/Valid loss: 0.315 / 0.311 | Train/Valid accuracy: 0.865 / 0.867\n",
      " Epoch 69 | Train/Valid loss: 0.314 / 0.313 | Train/Valid accuracy: 0.865 / 0.866\n",
      " Epoch 70 | Train/Valid loss: 0.315 / 0.323 | Train/Valid accuracy: 0.865 / 0.855\n",
      " Epoch 71 | Train/Valid loss: 0.315 / 0.312 | Train/Valid accuracy: 0.865 / 0.866\n",
      " Epoch 72 | Train/Valid loss: 0.314 / 0.312 | Train/Valid accuracy: 0.865 / 0.867\n",
      " Epoch 73 | Train/Valid loss: 0.315 / 0.313 | Train/Valid accuracy: 0.865 / 0.867\n",
      " Epoch 74 | Train/Valid loss: 0.314 / 0.312 | Train/Valid accuracy: 0.865 / 0.867\n",
      " Epoch 75 | Train/Valid loss: 0.315 / 0.312 | Train/Valid accuracy: 0.865 / 0.867\n",
      " Epoch 76 | Train/Valid loss: 0.315 / 0.314 | Train/Valid accuracy: 0.865 / 0.867\n",
      " Epoch 77 | Train/Valid loss: 0.315 / 0.313 | Train/Valid accuracy: 0.865 / 0.866\n",
      " Epoch 78 | Train/Valid loss: 0.315 / 0.312 | Train/Valid accuracy: 0.865 / 0.866\n",
      " Epoch 79 | Train/Valid loss: 0.315 / 0.311 | Train/Valid accuracy: 0.865 / 0.866\n",
      " Epoch 80 | Train/Valid loss: 0.314 / 0.315 | Train/Valid accuracy: 0.865 / 0.866\n",
      " Epoch 81 | Train/Valid loss: 0.314 / 0.313 | Train/Valid accuracy: 0.865 / 0.867\n",
      " Epoch 82 | Train/Valid loss: 0.314 / 0.313 | Train/Valid accuracy: 0.865 / 0.866\n",
      " Epoch 83 | Train/Valid loss: 0.314 / 0.313 | Train/Valid accuracy: 0.865 / 0.867\n",
      " Epoch 84 | Train/Valid loss: 0.315 / 0.312 | Train/Valid accuracy: 0.865 / 0.867\n",
      " Epoch 85 | Train/Valid loss: 0.314 / 0.311 | Train/Valid accuracy: 0.865 / 0.867\n",
      " Epoch 86 | Train/Valid loss: 0.315 / 0.312 | Train/Valid accuracy: 0.865 / 0.867\n",
      " Epoch 87 | Train/Valid loss: 0.314 / 0.311 | Train/Valid accuracy: 0.865 / 0.867\n",
      " Epoch 88 | Train/Valid loss: 0.314 / 0.311 | Train/Valid accuracy: 0.865 / 0.867\n",
      " Epoch 89 | Train/Valid loss: 0.314 / 0.316 | Train/Valid accuracy: 0.865 / 0.866\n",
      " Epoch 90 | Train/Valid loss: 0.314 / 0.312 | Train/Valid accuracy: 0.864 / 0.867\n",
      " Epoch 91 | Train/Valid loss: 0.314 / 0.313 | Train/Valid accuracy: 0.865 / 0.867\n",
      " Epoch 92 | Train/Valid loss: 0.314 / 0.312 | Train/Valid accuracy: 0.865 / 0.867\n",
      " Epoch 93 | Train/Valid loss: 0.315 / 0.312 | Train/Valid accuracy: 0.865 / 0.866\n",
      " Epoch 94 | Train/Valid loss: 0.314 / 0.311 | Train/Valid accuracy: 0.865 / 0.866\n",
      " Epoch 95 | Train/Valid loss: 0.314 / 0.311 | Train/Valid accuracy: 0.865 / 0.866\n",
      " Epoch 96 | Train/Valid loss: 0.314 / 0.311 | Train/Valid accuracy: 0.865 / 0.867\n",
      " Epoch 97 | Train/Valid loss: 0.314 / 0.311 | Train/Valid accuracy: 0.865 / 0.867\n",
      " Epoch 98 | Train/Valid loss: 0.314 / 0.313 | Train/Valid accuracy: 0.865 / 0.867\n",
      " Epoch 99 | Train/Valid loss: 0.314 / 0.311 | Train/Valid accuracy: 0.865 / 0.867\n"
     ]
    }
   ],
   "source": [
    "# Mini-btach algorithm\n",
    "# Number of epochs\n",
    "epochs = 100\n",
    "\n",
    "train_loss_by_epoch=[]\n",
    "valid_loss_by_epoch=[]\n",
    "test_loss_by_epoch=[]\n",
    "\n",
    "# Two loop for the Mini-batch algorithm\n",
    "for epoch in range(epochs):\n",
    "  \n",
    "  ############################################\n",
    "  ##                Training                ##\n",
    "  ############################################\n",
    "  nnetwork.train(True)\n",
    "\n",
    "  epoch_loss = 0\n",
    "  epoch_y_hat = []\n",
    "  epoch_y = []\n",
    "  \n",
    "  for i,data in enumerate(train_dataloader):\n",
    "    # Getting the data from the training batch\n",
    "    x_batch, y_batch = data\n",
    "    # Saving the batch to the device where neural network will be trained\n",
    "    x_batch = x_batch.to(device).float()\n",
    "    y_batch = y_batch.to(device).float().reshape(-1, 1)\n",
    "\n",
    "    ##*****************************************#\n",
    "    ##                Forward                 ##\n",
    "    ##*****************************************#\n",
    "    \n",
    "    # Cleaning the optimizer to begin a new calculus of gradient\n",
    "    optimizer.zero_grad()\n",
    "    nnet_output = nnetwork(x_batch)\n",
    "    y_batch_hat = torch.sigmoid(nnet_output)\n",
    "    \n",
    "    # Calculating of the loss\n",
    "    loss = loss_function(nnet_output, y_batch)\n",
    "\n",
    "    ##*****************************************#\n",
    "    ##           Backpropagation              ##\n",
    "    ##*****************************************#\n",
    "    loss.backward()\n",
    "\n",
    "    # Updating the parameters\n",
    "    optimizer.step()\n",
    "\n",
    "    # Saving the real values and predictions to calculate of the metrics\n",
    "    epoch_y += list(y_batch.detach().cpu().numpy())\n",
    "    epoch_y_hat += list(y_batch_hat.detach().cpu().numpy())\n",
    "    \n",
    "    epoch_loss = epoch_loss + loss.item()\n",
    "\n",
    "  # Calculating of the average of the loss\n",
    "  epoch_loss = epoch_loss / n_train\n",
    "  # Saving of the loss values to make the plot\n",
    "  train_loss_by_epoch.append(epoch_loss)\n",
    "  # Calculating the metric by epoch \n",
    "  accuracy = metrics.accuracy_score(epoch_y, [j>=0.5 for j in epoch_y_hat])\n",
    "\n",
    "  ##*****************************************#\n",
    "  ##               Validation               ##\n",
    "  ##*****************************************#\n",
    "  # Deactivating the calculus for the gradient in the validation process\n",
    "  nnetwork.train(False)\n",
    "\n",
    "  valid_epoch_loss = 0\n",
    "  valid_epoch_y_hat = []\n",
    "  valid_epoch_y = []\n",
    "\n",
    "  for i,data in enumerate(validation_dataloader):\n",
    "    # \n",
    "    x_batch, y_batch = data\n",
    "    # Sending the batch to the device where the neural network will be trained\n",
    "    x_batch = x_batch.to(device).float()\n",
    "    y_batch = y_batch.to(device).float().reshape(-1, 1)\n",
    "\n",
    "    ##*****************************************#\n",
    "    ##                Forward                 ##\n",
    "    ##*****************************************#\n",
    "    nnet_output = nnetwork(x_batch)\n",
    "    y_batch_hat = torch.sigmoid(nnet_output)\n",
    "    \n",
    "    # Calculating the loss values\n",
    "    loss = loss_function(nnet_output, y_batch)\n",
    "\n",
    "    # Not propagation in validation\n",
    "\n",
    "    #  Saving the real values and predictions to calculate of the metrics\n",
    "    valid_epoch_y += list(y_batch.detach().cpu().numpy())\n",
    "    valid_epoch_y_hat += list(y_batch_hat.detach().cpu().numpy())\n",
    "    # Saving of the batch loss\n",
    "    valid_epoch_loss = valid_epoch_loss + loss.item()\n",
    "\n",
    "  # Calculating the average of the loss\n",
    "  valid_epoch_loss = valid_epoch_loss / n_valid\n",
    "  # Saving the loss to plot\n",
    "  valid_loss_by_epoch.append(valid_epoch_loss)\n",
    "  # Calculating the metric by epoch \n",
    "  valid_accuracy = metrics.accuracy_score(valid_epoch_y, [j>=0.5 for j in valid_epoch_y_hat])\n",
    "\n",
    "  ############################################\n",
    "  ##                Testing                 ##\n",
    "  ############################################\n",
    "  nnetwork.train(True)\n",
    "\n",
    "  test_epoch_loss = 0\n",
    "  test_epoch_y_hat = []\n",
    "  test_epoch_y = []\n",
    "  \n",
    "  for i,data in enumerate(test_dataloader):\n",
    "    # Getting the data from the testing batch\n",
    "    x_batch, y_batch = data\n",
    "    # Saving the batch to the device where neural network will be trained\n",
    "    x_batch = x_batch.to(device).float()\n",
    "    y_batch = y_batch.to(device).float().reshape(-1, 1)\n",
    "\n",
    "    ##*****************************************#\n",
    "    ##                Forward                 ##\n",
    "    ##*****************************************#\n",
    "    \n",
    "    # Cleaning the optimizer to begin a new calculus of gradient\n",
    "    optimizer.zero_grad()\n",
    "    nnet_output = nnetwork(x_batch)\n",
    "    y_batch_hat = torch.sigmoid(nnet_output)\n",
    "    \n",
    "    # Calculating of the loss\n",
    "    loss = loss_function(nnet_output, y_batch)\n",
    "\n",
    "    ##*****************************************#\n",
    "    ##           Backpropagation              ##\n",
    "    ##*****************************************#\n",
    "    loss.backward()\n",
    "\n",
    "    # Updating the parameters\n",
    "    optimizer.step()\n",
    "\n",
    "    # Saving the real values and predictions to calculate of the metrics\n",
    "    test_epoch_y += list(y_batch.detach().cpu().numpy())\n",
    "    test_epoch_y_hat += list(y_batch_hat.detach().cpu().numpy())\n",
    "    \n",
    "    test_epoch_loss = test_epoch_loss + loss.item()\n",
    "\n",
    "  # Calculating of the average of the loss\n",
    "  test_epoch_loss = epoch_loss / n_test\n",
    "  # Saving of the loss values to make the plot\n",
    "  test_loss_by_epoch.append(test_epoch_loss)\n",
    "  # Calculating the metric by epoch \n",
    "  accuracy = metrics.accuracy_score(test_epoch_y, [j>=0.5 for j in test_epoch_y_hat])\n",
    "\n",
    "\n",
    "  ############################################\n",
    "  ##     Printing the results by epoch      ##\n",
    "  ############################################\n",
    "  print(f\" Epoch {epoch} | \" \\\n",
    "        f\"Train/Valid loss: {epoch_loss:.3f} / {valid_epoch_loss:.3f} | \" \\\n",
    "        f\"Train/Valid accuracy: {accuracy:.3f} / {valid_accuracy:.3f}\")"
   ]
  },
  {
   "cell_type": "code",
   "execution_count": 110,
   "metadata": {},
   "outputs": [
    {
     "data": {
      "text/plain": [
       "Text(0, 0.5, 'BCE')"
      ]
     },
     "execution_count": 110,
     "metadata": {},
     "output_type": "execute_result"
    },
    {
     "data": {
      "image/png": "[encoded data removed]",
      "text/plain": [
       "<Figure size 640x480 with 1 Axes>"
      ]
     },
     "metadata": {},
     "output_type": "display_data"
    }
   ],
   "source": [
    "# Plotting the loss by epoch\n",
    "fig, ax1= plt.subplots(1,1)\n",
    "ax1.plot(train_loss_by_epoch, label=\"Training loss\")\n",
    "ax1.plot(valid_loss_by_epoch, label=\"Validation loss\")\n",
    "ax1.legend()\n",
    "ax1.set_title(\"Loss by epoch\")\n",
    "ax1.set_xlabel(\"epoch\")\n",
    "ax1.set_ylabel(\"BCE\")"
   ]
  },
  {
   "cell_type": "markdown",
   "metadata": {},
   "source": [
    "#### Training model With embeddings"
   ]
  },
  {
   "cell_type": "code",
   "execution_count": 111,
   "metadata": {},
   "outputs": [
    {
     "data": {
      "text/plain": [
       "5891"
      ]
     },
     "execution_count": 111,
     "metadata": {},
     "output_type": "execute_result"
    }
   ],
   "source": [
    "# Verifying the length of user_id that will be used like embedding\n",
    "len(user_id.unique())"
   ]
  },
  {
   "cell_type": "code",
   "execution_count": 112,
   "metadata": {},
   "outputs": [
    {
     "data": {
      "text/plain": [
       "array([1000001, 1000002, 1000003, ..., 1004113, 1005391, 1001529])"
      ]
     },
     "execution_count": 112,
     "metadata": {},
     "output_type": "execute_result"
    }
   ],
   "source": [
    "# Characteristics of the user_id feature\n",
    "user_id.unique()"
   ]
  },
  {
   "cell_type": "code",
   "execution_count": 113,
   "metadata": {},
   "outputs": [
    {
     "data": {
      "text/plain": [
       "3631"
      ]
     },
     "execution_count": 113,
     "metadata": {},
     "output_type": "execute_result"
    }
   ],
   "source": [
    "# Verifyin the length of product_id that will be used like embedding\n",
    "len(product_id.unique())"
   ]
  },
  {
   "cell_type": "code",
   "execution_count": 114,
   "metadata": {},
   "outputs": [
    {
     "data": {
      "text/plain": [
       "array(['P00069042', 'P00248942', 'P00087842', ..., 'P00370293',\n",
       "       'P00371644', 'P00370853'], dtype=object)"
      ]
     },
     "execution_count": 114,
     "metadata": {},
     "output_type": "execute_result"
    }
   ],
   "source": [
    "# Characteristics of the product_id feature\n",
    "product_id.unique()"
   ]
  },
  {
   "cell_type": "code",
   "execution_count": 115,
   "metadata": {},
   "outputs": [],
   "source": [
    "#Transform the user_id variable to use like embedding\n",
    "user_id_to_idx = {value:i for i, value in enumerate(user_id.unique())}"
   ]
  },
  {
   "cell_type": "code",
   "execution_count": 116,
   "metadata": {},
   "outputs": [],
   "source": [
    "#Transform the product_id variable to use like embedding\n",
    "product_id_to_idx = {value:j for j, value in enumerate(product_id.unique())}"
   ]
  },
  {
   "cell_type": "code",
   "execution_count": 117,
   "metadata": {},
   "outputs": [],
   "source": [
    "# Vectors of user_id and product_id on the dataset\n",
    "user_idx = np.array([user_id_to_idx[value] for value in user_id])\n",
    "product_idx = np.array([product_id_to_idx[value] for value in product_id])\n"
   ]
  },
  {
   "cell_type": "code",
   "execution_count": 118,
   "metadata": {},
   "outputs": [],
   "source": [
    "# Splitting up the vector user_idx in training and validation\n",
    "user_idx_train = user_idx[train_idx]\n",
    "user_idx_validation = user_idx[valid_idx]"
   ]
  },
  {
   "cell_type": "code",
   "execution_count": 119,
   "metadata": {},
   "outputs": [],
   "source": [
    "# Splitting up the vector product_idx in training and validation\n",
    "product_idx_train = product_idx[train_idx]\n",
    "product_idx_validation = product_idx[valid_idx]"
   ]
  },
  {
   "cell_type": "code",
   "execution_count": 120,
   "metadata": {},
   "outputs": [],
   "source": [
    "# Class Dataset with embeddings\n",
    "class DatasetWithEmbeddings(Dataset):\n",
    "\n",
    "    def __init__(self, x, user_idx, product_idx, y) -> None:\n",
    "        self.x = x\n",
    "        self.user_idx = user_idx\n",
    "        self.product_idx = product_idx\n",
    "        self.y = y\n",
    "\n",
    "    def __len__(self):\n",
    "        return self.x.shape[0]\n",
    "    \n",
    "    def __getitem__(self, index) -> Any:\n",
    "        return self.x[index], self.user_idx[idx], self.product_idx[idx], self.y[idx]"
   ]
  },
  {
   "cell_type": "code",
   "execution_count": 121,
   "metadata": {},
   "outputs": [],
   "source": [
    "train_df_embeddings = DatasetWithEmbeddings(train_x, user_idx_train, product_idx_train, train_y)\n",
    "validation_df_embeddings = DatasetWithEmbeddings(valid_x, user_idx_validation, product_idx_validation, valid_y)"
   ]
  },
  {
   "cell_type": "code",
   "execution_count": 122,
   "metadata": {},
   "outputs": [],
   "source": [
    "train_dataloader_embeddings = DataLoader(train_df_embeddings, batch_size=64, shuffle=True)\n",
    "validation_dataloader_embeddings = DataLoader(validation_df_embeddings, batch_size=64)"
   ]
  },
  {
   "cell_type": "markdown",
   "metadata": {},
   "source": [
    "### Architecture of the neural network with embeddings"
   ]
  },
  {
   "cell_type": "code",
   "execution_count": 123,
   "metadata": {},
   "outputs": [],
   "source": [
    "class NNetworkWithEmbeddings(torch.nn.Module):\n",
    "\n",
    "  def __init__(self):\n",
    "    super().__init__()\n",
    "    self.embeddings_user = torch.nn.Embedding(num_embeddings=5891, embedding_dim=8)\n",
    "    self.embeddings_product = torch.nn.Embedding(num_embeddings=3631, embedding_dim=8)\n",
    "    self.linear_1 = torch.nn.Linear(in_features=29, out_features=200, bias=True)\n",
    "    self.relu_1 = torch.nn.ReLU()\n",
    "    self.linear_2 = torch.nn.Linear(in_features = 200, out_features=100, bias=True)\n",
    "    self.relu_2 = torch.nn.ReLU()\n",
    "    self.output = torch.nn.Linear(in_features = 100, out_features= 1, bias=True)\n",
    "\n",
    "  def forward(self, x, user_idx, product_idx):\n",
    "    embeddings_outputs = self.embeddings(user_idx, product_idx)\n",
    "    x = torch.cat([x, embeddings_outputs], dim=1)\n",
    "    x = self.linear_1(x)\n",
    "    x = self.relu_1(x)\n",
    "    x = self.linear_2(x)\n",
    "    x = self.relu_2(x)\n",
    "    x = self.output(x)\n",
    "    return x"
   ]
  },
  {
   "cell_type": "code",
   "execution_count": null,
   "metadata": {},
   "outputs": [],
   "source": []
  }
 ],
 "metadata": {
  "kernelspec": {
   "display_name": "pytorch",
   "language": "python",
   "name": "python3"
  },
  "language_info": {
   "codemirror_mode": {
    "name": "ipython",
    "version": 3
   },
   "file_extension": ".py",
   "mimetype": "text/x-python",
   "name": "python",
   "nbconvert_exporter": "python",
   "pygments_lexer": "ipython3",
   "version": "3.9.17"
  },
  "orig_nbformat": 4
 },
 "nbformat": 4,
 "nbformat_minor": 2
}
